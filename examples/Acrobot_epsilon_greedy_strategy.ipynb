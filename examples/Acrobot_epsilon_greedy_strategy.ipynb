{
  "cells": [
    {
      "cell_type": "markdown",
      "metadata": {
        "id": "y0DN_g1dMomv"
      },
      "source": [
        "1. **Реализация разделенной стратегии:**\n",
        "   - Реализовал алгоритм управления МК с разделенной стратегией для среды `Acrobot` из библиотеки OpenAI Gym.\n",
        "   - Использовал случайную поведенческую стратегию для сбора данных и обучения целевой стратегии.\n",
        "\n",
        "2. **Оптимизация параметров:**\n",
        "   - Провел эксперименты с различными значениями параметров (например, коэффициент обесценивания `gamma`, количество эпизодов `n_episode`, ε для ε-жадной стратегии).\n",
        "   - Определил оптимальные значения параметров, которые приводят к наилучшим результатам в обучении.\n",
        "\n",
        "3. **Сравнение стратегий:**\n",
        "   - Сравнил оптимальную стратегию, полученную с использованием разделенной стратегии, с оптимальной стратегией, полученной с использованием ε-жадной стратегии.\n",
        "   - Проанализировал, какая стратегия дает лучшие результаты в среде `Acrobot`.\n",
        "\n",
        "4. **Визуализация результатов:**\n",
        "   - Визуализировал Q-функцию и стратегию для среды `Acrobot`.\n",
        "   - Построил графики, чтобы наглядно представить результаты."
      ]
    },
    {
      "cell_type": "markdown",
      "source": [
        "# Установка"
      ],
      "metadata": {
        "id": "SEQjo527y3I6"
      }
    },
    {
      "cell_type": "code",
      "execution_count": null,
      "metadata": {
        "id": "gqbF-dQrxVUx"
      },
      "outputs": [],
      "source": [
        "!pip install --upgrade gym pyvirtualdisplay ipykernel > /dev/null 2>&1"
      ]
    },
    {
      "cell_type": "markdown",
      "metadata": {
        "id": "Dv-4GmiAWiiZ"
      },
      "source": [
        "# Импорт"
      ]
    },
    {
      "cell_type": "code",
      "execution_count": null,
      "metadata": {
        "id": "2w8tMpEJxVSA"
      },
      "outputs": [],
      "source": [
        "import torch\n",
        "import gym\n",
        "import numpy as np\n",
        "import matplotlib.pyplot as plt\n",
        "from collections import defaultdict\n",
        "\n",
        "env = gym.make(\"Acrobot-v1\")\n",
        "episodes = 5_000 # Чтобы выполнение было достаточно быстрым"
      ]
    },
    {
      "cell_type": "markdown",
      "source": [
        "# Рандомная поведенческая стратегия"
      ],
      "metadata": {
        "id": "AD3Z3PE9ygd0"
      }
    },
    {
      "cell_type": "code",
      "source": [
        "# Определение функции-обертки, которая выполняет один эпизод, следуя заданной стратегии, и возвращает полное вознаграждение\n",
        "def simulate_episode(env, policy):\n",
        "    state, _ = env.reset()\n",
        "\n",
        "    while True:\n",
        "        s_i0  = np.digitize(state[0], th1_cos)\n",
        "        s_i1  = np.digitize(state[1], th1_sin)\n",
        "        s_i2  = np.digitize(state[2], th2_cos)\n",
        "        s_i3  = np.digitize(state[3], th2_sin)\n",
        "        s_i4  = np.digitize(state[4], th1_w)\n",
        "        s_i5  = np.digitize(state[5], th2_w)\n",
        "\n",
        "        action = policy[s_i0, s_i1, s_i2, s_i3, s_i4, s_i5]\n",
        "        state, reward, done, truncated, info = env.step(action)\n",
        "        if done or truncated:\n",
        "            return reward"
      ],
      "metadata": {
        "id": "L_O3h2V7EJQD"
      },
      "execution_count": null,
      "outputs": []
    },
    {
      "cell_type": "code",
      "source": [
        "# Определение поведенческой стратегии, которая случайным образом с одинаковой вероятностью выбирает действия\n",
        "def gen_random_policy(n_action):\n",
        "    \"\"\"\n",
        "    Генерирует случайную стратегию с равномерным распределением вероятностей для каждого действия\n",
        "    @param n_action: количество возможных действий\n",
        "    @return: функция стратегии, которая возвращает вероятности действий для любого состояния\n",
        "    \"\"\"\n",
        "    probs = torch.ones(n_action) / n_action  # Равномерное распределение вероятностей\n",
        "    def policy_function(state):\n",
        "        return probs  # Возвращает одинаковые вероятности для всех состояний\n",
        "    return policy_function"
      ],
      "metadata": {
        "id": "5J6iyVBHCKEw"
      },
      "execution_count": null,
      "outputs": []
    },
    {
      "cell_type": "code",
      "execution_count": null,
      "metadata": {
        "colab": {
          "base_uri": "https://localhost:8080/",
          "height": 623
        },
        "id": "8oeA6UG_BEi2",
        "outputId": "2482a57c-6655-477b-9e40-43e909e99da7"
      },
      "outputs": [
        {
          "output_type": "stream",
          "name": "stdout",
          "text": [
            "Episode: 0, Best Reward: -500.0, Mean Rewards -500.0\n",
            "Episode: 500, Best Reward: -273.0, Mean Rewards -497.3\n",
            "Episode: 1000, Best Reward: -273.0, Mean Rewards -497.2\n",
            "Episode: 1500, Best Reward: -273.0, Mean Rewards -498.2\n",
            "Episode: 2000, Best Reward: -273.0, Mean Rewards -500.0\n",
            "Episode: 2500, Best Reward: -222.0, Mean Rewards -499.1\n",
            "Episode: 3000, Best Reward: -222.0, Mean Rewards -500.0\n",
            "Episode: 3500, Best Reward: -222.0, Mean Rewards -500.0\n",
            "Episode: 4000, Best Reward: -222.0, Mean Rewards -499.9\n",
            "Episode: 4500, Best Reward: -222.0, Mean Rewards -499.3\n"
          ]
        },
        {
          "output_type": "display_data",
          "data": {
            "text/plain": [
              "<Figure size 640x480 with 1 Axes>"
            ],
            "image/png": "[encoded data removed]"
          },
          "metadata": {}
        }
      ],
      "source": [
        "def Run_Episode(Q, env, gamma, random_policy):\n",
        "  state = env.reset()[0]      # Исходное положение\n",
        "\n",
        "  # Преобразование непрерывного состояния в дискретное состояние\n",
        "  s_i0  = np.digitize(state[0], th1_cos)\n",
        "  s_i1  = np.digitize(state[1], th1_sin)\n",
        "  s_i2  = np.digitize(state[2], th2_cos)\n",
        "  s_i3  = np.digitize(state[3], th2_sin)\n",
        "  s_i4  = np.digitize(state[4], th1_w)\n",
        "  s_i5  = np.digitize(state[5], th2_w)\n",
        "\n",
        "  rewards=0                   # награды, полученные за эпизод\n",
        "\n",
        "  # Episode\n",
        "  while True:\n",
        "\n",
        "      # Выберите случайное действие\n",
        "      probs = random_policy(state)\n",
        "      action = torch.multinomial(probs, 1).item()\n",
        "\n",
        "      # Выполнение\n",
        "      new_state,reward,done,truncated,info = env.step(action)\n",
        "\n",
        "      # Преобразование непрерывного состояния в дискретное пространство\n",
        "      ns_i0  = np.digitize(new_state[0], th1_cos)\n",
        "      ns_i1  = np.digitize(new_state[1], th1_sin)\n",
        "      ns_i2  = np.digitize(new_state[2], th2_cos)\n",
        "      ns_i3  = np.digitize(new_state[3], th2_sin)\n",
        "      ns_i4  = np.digitize(new_state[4], th1_w)\n",
        "      ns_i5  = np.digitize(new_state[5], th2_w)\n",
        "\n",
        "      # Обновление Q-функции\n",
        "\n",
        "      Q[s_i0, s_i1, s_i2, s_i3, s_i4, s_i5][action] += reward + \\\n",
        "          gamma * torch.max(Q[ns_i0, ns_i1, ns_i2, ns_i3, ns_i4, ns_i5]) - \\\n",
        "          Q[s_i0, s_i1, s_i2, s_i3, s_i4, s_i5][action]\n",
        "\n",
        "\n",
        "      # Set state to new state\n",
        "      state = new_state\n",
        "      s_i0 = ns_i0\n",
        "      s_i1 = ns_i1\n",
        "      s_i2 = ns_i2\n",
        "      s_i3 = ns_i3\n",
        "      s_i4 = ns_i4\n",
        "      s_i5 = ns_i5\n",
        "\n",
        "      # Collect rewards\n",
        "      rewards+=reward\n",
        "\n",
        "      if done or truncated:\n",
        "          return Q, rewards\n",
        "\n",
        "\n",
        "\n",
        "\n",
        "\n",
        "\n",
        "def run(env, random_policy, gamma):\n",
        "\n",
        "\n",
        "    # инициализировать таблицу q массивом 15x15x15x15x15x15x3. 16 = деление 15 плюс 1 дополнительный кусочек\n",
        "    Q = defaultdict(lambda: torch.zeros(env.action_space.n))  # создаем словарь для хранения Q-значений\n",
        "\n",
        "\n",
        "    best_reward = -999999        # отслеживать лучшую награду\n",
        "    rewards_per_episode = []     # список для хранения наград за каждый эпизод\n",
        "    mean_rewards = []\n",
        "\n",
        "    for episod in range(episodes):\n",
        "        # Запуск эпизода\n",
        "        Q, rewards = Run_Episode(Q, env, gamma, random_policy)\n",
        "\n",
        "        if rewards>best_reward:\n",
        "            best_reward = rewards\n",
        "\n",
        "\n",
        "\n",
        "        # Сохраняем награды за эпизод\n",
        "        rewards_per_episode.append(rewards)\n",
        "\n",
        "        # Print stats\n",
        "        if  episod%500==0:\n",
        "            # Среднее вознаграждение за последние 100 эпизодов\n",
        "            mean_reward = np.mean(rewards_per_episode[len(rewards_per_episode)-100:])\n",
        "            print(f'Episode: {episod}, Best Reward: {best_reward:0.1f}, Mean Rewards {mean_reward:0.1f}')\n",
        "\n",
        "\n",
        "            # Среднее вознаграждение за эпизоды n-100.\n",
        "            mean_rewards.append(mean_reward)\n",
        "\n",
        "        # Stop, if solved\n",
        "        if best_reward>env.spec.reward_threshold or episod == episodes-1:\n",
        "            plt.xlabel('Эпизоды')\n",
        "            plt.ylabel('Среднее полное вознаграждение')\n",
        "            plt.plot(mean_rewards)\n",
        "            plt.xlabel('Эпизоды')\n",
        "            plt.ylabel('Вознаграждение за каждый эпизод')\n",
        "            plt.plot(rewards_per_episode)\n",
        "            break\n",
        "\n",
        "\n",
        "    env.close()\n",
        "\n",
        "    return Q\n",
        "\n",
        "\n",
        "divisions = 15\n",
        "gamma = 0.9\n",
        "# Разделите непрерывное пространство наблюдения на дискретные сегменты.\n",
        "th1_cos  = np.linspace(env.observation_space.low[0], env.observation_space.high[0], divisions)\n",
        "th1_sin  = np.linspace(env.observation_space.low[1], env.observation_space.high[1], divisions)\n",
        "th2_cos  = np.linspace(env.observation_space.low[2], env.observation_space.high[2], divisions)\n",
        "th2_sin  = np.linspace(env.observation_space.low[3], env.observation_space.high[3], divisions)\n",
        "th1_w    = np.linspace(env.observation_space.low[4], env.observation_space.high[4], divisions)\n",
        "th2_w    = np.linspace(env.observation_space.low[5], env.observation_space.high[5], divisions)\n",
        "\n",
        "# Создание случайной стратегии для текущей среды\n",
        "random_policy = gen_random_policy(env.action_space.n)\n",
        "\n",
        "\n",
        "Q_random =  run(env, random_policy, gamma)\n",
        "\n",
        "# Формирование оптимальной политики на основе Q-значений\n",
        "policy_random = {}\n",
        "for state, actions in Q_random.items():\n",
        "    policy_random[state] = torch.argmax(actions).item()"
      ]
    },
    {
      "cell_type": "markdown",
      "source": [
        "# ε-жадная стратегия"
      ],
      "metadata": {
        "id": "YMWIJ0FSxt8Q"
      }
    },
    {
      "cell_type": "code",
      "execution_count": null,
      "metadata": {
        "id": "U8cN2GBZ3jsT",
        "colab": {
          "base_uri": "https://localhost:8080/",
          "height": 604
        },
        "outputId": "f6f337b8-6d03-41e4-880f-238d5d4450fd"
      },
      "outputs": [
        {
          "output_type": "stream",
          "name": "stdout",
          "text": [
            "Episode: 0, Best Reward: -448.0, Mean Rewards -448.0\n",
            "Episode: 500, Best Reward: -293.0, Mean Rewards -490.7\n",
            "Episode: 1000, Best Reward: -218.0, Mean Rewards -489.2\n",
            "Episode: 1500, Best Reward: -218.0, Mean Rewards -496.8\n",
            "Episode: 2000, Best Reward: -218.0, Mean Rewards -488.6\n",
            "Episode: 2500, Best Reward: -218.0, Mean Rewards -490.9\n",
            "Episode: 3000, Best Reward: -198.0, Mean Rewards -494.1\n",
            "Episode: 3500, Best Reward: -198.0, Mean Rewards -498.1\n",
            "Episode: 4000, Best Reward: -198.0, Mean Rewards -499.4\n",
            "Episode: 4500, Best Reward: -198.0, Mean Rewards -491.1\n"
          ]
        },
        {
          "output_type": "display_data",
          "data": {
            "text/plain": [
              "<Figure size 640x480 with 1 Axes>"
            ],
            "image/png": "[encoded data removed]"
          },
          "metadata": {}
        }
      ],
      "source": [
        "# Функция, которая выполняет один эпизод, следуя ε-жадной стратегии\n",
        "def run_episode(env, Q, epsilon, n_action):\n",
        "    \"\"\"\n",
        "    Выполняет эпизод, следуя ε-жадной стратегии\n",
        "    @param env: имя окружающей среды OpenAI Gym\n",
        "    @param Q: Q-функция\n",
        "    @param epsilon: компромисс между исследованием и использованием\n",
        "    @param n_action: пространство действий\n",
        "    @return: результирующие состояния, действия и вознаграждения для всего эпизода\n",
        "    \"\"\"\n",
        "    state = env.reset()[0] # сброс среды и получение начального состояния\n",
        "\n",
        "    # Преобразование непрерывного состояния в дискретное пространство\n",
        "    s_i0  = np.digitize(state[0], th1_cos)\n",
        "    s_i1  = np.digitize(state[1], th1_sin)\n",
        "    s_i2  = np.digitize(state[2], th2_cos)\n",
        "    s_i3  = np.digitize(state[3], th2_sin)\n",
        "    s_i4  = np.digitize(state[4], th1_w)\n",
        "    s_i5  = np.digitize(state[5], th2_w)\n",
        "\n",
        "    rewards = 0 # награды, полученные за эпизод\n",
        "\n",
        "    # rewards = [] # список для хранения вознаграждений\n",
        "    # actions = [] # список для хранения действий\n",
        "    # states = []  # список для хранения состояний\n",
        "    while True:\n",
        "        # Если случайное число меньше эпсилон, выбираем рандомно\n",
        "        if np.random.rand() < epsilon:\n",
        "            action = env.action_space.sample()\n",
        "        # Если нет, выбираем лучшее действие\n",
        "        else:\n",
        "            action = torch.argmax(Q[s_i0, s_i1, s_i2, s_i3, s_i4, s_i5])\n",
        "\n",
        "        # Выполнение действия в среде и получение нового состояния, вознаграждения и флага завершения\n",
        "        new_state, reward, done, truncated, info = env.step(action)\n",
        "        # Преобразование непрерывного состояния в дискретное пространство\n",
        "        ns_i0  = np.digitize(new_state[0], th1_cos)\n",
        "        ns_i1  = np.digitize(new_state[1], th1_sin)\n",
        "        ns_i2  = np.digitize(new_state[2], th2_cos)\n",
        "        ns_i3  = np.digitize(new_state[3], th2_sin)\n",
        "        ns_i4  = np.digitize(new_state[4], th1_w)\n",
        "        ns_i5  = np.digitize(new_state[5], th2_w)\n",
        "\n",
        "        # Обновление q-функции\n",
        "        Q[s_i0, s_i1, s_i2, s_i3, s_i4, s_i5][action] += reward + \\\n",
        "          gamma * torch.max(Q[ns_i0, ns_i1, ns_i2, ns_i3, ns_i4, ns_i5]) - \\\n",
        "          Q[s_i0, s_i1, s_i2, s_i3, s_i4, s_i5][action]\n",
        "\n",
        "        # Обновляем состояние\n",
        "        state = new_state\n",
        "        s_i0 = ns_i0\n",
        "        s_i1 = ns_i1\n",
        "        s_i2 = ns_i2\n",
        "        s_i3 = ns_i3\n",
        "        s_i4 = ns_i4\n",
        "        s_i5 = ns_i5\n",
        "\n",
        "        # Посчитываем награды\n",
        "        rewards+=reward\n",
        "\n",
        "        # rewards.append(reward)\n",
        "\n",
        "        if done or truncated:\n",
        "            return Q, rewards\n",
        "\n",
        "# Реализация управления МК с ε-жадной единой стратегией\n",
        "from collections import defaultdict\n",
        "mean_rewards = []\n",
        "def mc_control_epsilon_greedy(env, gamma, n_episode, epsilon):\n",
        "    \"\"\"\n",
        "    Строит оптимальную ε-жадную стратегию методом управления МК с единой стратегией\n",
        "    @param env: имя окружающей среды OpenAI Gym\n",
        "    @param gamma: коэффициент обесценивания\n",
        "    @param n_episode: количество эпизодов\n",
        "    @param epsilon: компромисс между исследованием и использованием\n",
        "    @return: оптимальные Q-функция и стратегия\n",
        "    \"\"\"\n",
        "    # Инициализация Q-таблицы массивом 15x15x15x15x15x15x3. 16 = деление 15 плюс 1 дополнительный кусочек\n",
        "    Q = defaultdict(lambda: torch.zeros(env.action_space.n))  # создаем словарь для хранения Q-значений\n",
        "\n",
        "    best_reward = -999999        # отслеживать лучшую награду\n",
        "    rewards_per_episode = []     # список для хранения наград за каждый эпизод\n",
        "    # i = 0                        # счетчик эпизодов\n",
        "\n",
        "\n",
        "\n",
        "    n_action = env.action_space.n  # количество возможных действий\n",
        "\n",
        "    for episod in range(n_episode):\n",
        "    # while True:\n",
        "        Q, rewards = run_episode(env, Q, epsilon, n_action)  # Выполнение эпизода\n",
        "\n",
        "        # Выборка лучшей награды\n",
        "        if rewards>best_reward:\n",
        "            best_reward = rewards\n",
        "\n",
        "        # Сохраняем награды за эпизод\n",
        "        rewards_per_episode.append(rewards)\n",
        "\n",
        "        if  episod%500==0:\n",
        "            # Среднее вознаграждение за последние 100 эпизодов\n",
        "            mean_reward = np.mean(rewards_per_episode[len(rewards_per_episode)-100:])\n",
        "            print(f'Episode: {episod}, Best Reward: {best_reward:0.1f}, Mean Rewards {mean_reward:0.1f}')\n",
        "\n",
        "            # Среднее вознаграждение за эпизоды n-100.\n",
        "            mean_rewards.append(mean_reward)\n",
        "\n",
        "        # i +=1\n",
        "\n",
        "        if best_reward>env.spec.reward_threshold or episod == n_episode-1:\n",
        "        # if episode == 999:\n",
        "            plt.plot(rewards_per_episode)\n",
        "            break\n",
        "    return Q\n",
        "\n",
        "\n",
        "\n",
        "# Задание параметров\n",
        "gamma = 1  # коэффициент обесценивания\n",
        "# n_episode = 500000  # количество эпизодов\n",
        "epsilon = 0.4  # компромисс между исследованием и использованием\n",
        "divisions = 15 # используется для преобразования непрерывного пространства состояний в дискретное пространство\n",
        "\n",
        "# Делим непрерывное пространство наблюдения на дискретные сегменты.\n",
        "th1_cos  = np.linspace(env.observation_space.low[0], env.observation_space.high[0], divisions)\n",
        "th1_sin  = np.linspace(env.observation_space.low[1], env.observation_space.high[1], divisions)\n",
        "th2_cos  = np.linspace(env.observation_space.low[2], env.observation_space.high[2], divisions)\n",
        "th2_sin  = np.linspace(env.observation_space.low[3], env.observation_space.high[3], divisions)\n",
        "th1_w    = np.linspace(env.observation_space.low[4], env.observation_space.high[4], divisions)\n",
        "th2_w    = np.linspace(env.observation_space.low[5], env.observation_space.high[5], divisions)\n",
        "\n",
        "\n",
        "# Выполнение алгоритма управления МК с ε-жадной стратегией для нахождения оптимальных Q-функции и стратегии\n",
        "optimal_Q  = mc_control_epsilon_greedy(env, gamma, episodes, epsilon)\n",
        "\n",
        "# Формирование оптимальной политики на основе Q-значений\n",
        "optimal_policy = {}\n",
        "for state, actions in optimal_Q.items():\n",
        "  optimal_policy[state] = torch.argmax(actions).item()\n",
        "\n",
        "# Снова сымитируем 100 000 эпизодов игры в блэкджек с оптимальной стратегией и подсчитаем вероятности выигрыша и проигрыша\n",
        "n_episode = 10_000\n",
        "n_win_optimal = 0\n",
        "n_lose_optimal = 0\n"
      ]
    },
    {
      "cell_type": "markdown",
      "source": [
        "# Выводы\n",
        "Коэффициент обесценивания повышает устойчивость алгоритма, поскольку отдаленные по времени вознаграждения учитываются лишь частично. стратегии заинтересованы в поиске новых состояний, для дальнейшей оценки стратегии, так как качество растет по мере увеличения коэффициента обесценивания.\n",
        "\n",
        "Для данной задачи необходимо провести больше число эпизодов, при большом количестве эпизодов стратегии могут победить в игре используя 120 шагов.\n",
        "\n",
        "Жадная стратегия в данной игре показывает средние лучшие результаты, благодаря маленькому значению эпсилон, которая позволяет несколько раз использовать максимально полезное действие"
      ],
      "metadata": {
        "id": "W_SW8K9lNR2B"
      }
    }
  ],
  "metadata": {
    "colab": {
      "provenance": []
    },
    "kernelspec": {
      "display_name": "Python 3",
      "name": "python3"
    },
    "language_info": {
      "name": "python"
    }
  },
  "nbformat": 4,
  "nbformat_minor": 0
}