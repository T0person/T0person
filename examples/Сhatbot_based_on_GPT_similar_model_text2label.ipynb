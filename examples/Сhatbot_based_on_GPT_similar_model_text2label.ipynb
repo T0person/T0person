{
  "cells": [
    {
      "cell_type": "markdown",
      "metadata": {
        "id": "q92l-lKKnrL6"
      },
      "source": [
        "# Подготовка библиотек"
      ]
    },
    {
      "cell_type": "markdown",
      "metadata": {
        "id": "G_4JMrfYnwf7"
      },
      "source": [
        "### Скачивание библиотек"
      ]
    },
    {
      "cell_type": "code",
      "execution_count": null,
      "metadata": {
        "colab": {
          "base_uri": "https://localhost:8080/"
        },
        "collapsed": true,
        "id": "BsrRnoUJnygP",
        "outputId": "32fad445-f672-4ee8-e86f-522c1cb4fb8c"
      },
      "outputs": [
        {
          "output_type": "stream",
          "name": "stdout",
          "text": [
            "Requirement already satisfied: datasets in /usr/local/lib/python3.10/dist-packages (3.0.1)\n",
            "Requirement already satisfied: zstandard in /usr/local/lib/python3.10/dist-packages (0.23.0)\n",
            "Requirement already satisfied: jsonlines in /usr/local/lib/python3.10/dist-packages (4.0.0)\n",
            "Requirement already satisfied: pysimdjson in /usr/local/lib/python3.10/dist-packages (6.0.2)\n",
            "Requirement already satisfied: filelock in /usr/local/lib/python3.10/dist-packages (from datasets) (3.16.1)\n",
            "Requirement already satisfied: numpy>=1.17 in /usr/local/lib/python3.10/dist-packages (from datasets) (1.26.4)\n",
            "Requirement already satisfied: pyarrow>=15.0.0 in /usr/local/lib/python3.10/dist-packages (from datasets) (16.1.0)\n",
            "Requirement already satisfied: dill<0.3.9,>=0.3.0 in /usr/local/lib/python3.10/dist-packages (from datasets) (0.3.8)\n",
            "Requirement already satisfied: pandas in /usr/local/lib/python3.10/dist-packages (from datasets) (2.2.2)\n",
            "Requirement already satisfied: requests>=2.32.2 in /usr/local/lib/python3.10/dist-packages (from datasets) (2.32.3)\n",
            "Requirement already satisfied: tqdm>=4.66.3 in /usr/local/lib/python3.10/dist-packages (from datasets) (4.66.5)\n",
            "Requirement already satisfied: xxhash in /usr/local/lib/python3.10/dist-packages (from datasets) (3.5.0)\n",
            "Requirement already satisfied: multiprocess in /usr/local/lib/python3.10/dist-packages (from datasets) (0.70.16)\n",
            "Requirement already satisfied: fsspec<=2024.6.1,>=2023.1.0 in /usr/local/lib/python3.10/dist-packages (from fsspec[http]<=2024.6.1,>=2023.1.0->datasets) (2024.6.1)\n",
            "Requirement already satisfied: aiohttp in /usr/local/lib/python3.10/dist-packages (from datasets) (3.10.10)\n",
            "Requirement already satisfied: huggingface-hub>=0.22.0 in /usr/local/lib/python3.10/dist-packages (from datasets) (0.24.7)\n",
            "Requirement already satisfied: packaging in /usr/local/lib/python3.10/dist-packages (from datasets) (24.1)\n",
            "Requirement already satisfied: pyyaml>=5.1 in /usr/local/lib/python3.10/dist-packages (from datasets) (6.0.2)\n",
            "Requirement already satisfied: attrs>=19.2.0 in /usr/local/lib/python3.10/dist-packages (from jsonlines) (24.2.0)\n",
            "Requirement already satisfied: aiohappyeyeballs>=2.3.0 in /usr/local/lib/python3.10/dist-packages (from aiohttp->datasets) (2.4.3)\n",
            "Requirement already satisfied: aiosignal>=1.1.2 in /usr/local/lib/python3.10/dist-packages (from aiohttp->datasets) (1.3.1)\n",
            "Requirement already satisfied: frozenlist>=1.1.1 in /usr/local/lib/python3.10/dist-packages (from aiohttp->datasets) (1.4.1)\n",
            "Requirement already satisfied: multidict<7.0,>=4.5 in /usr/local/lib/python3.10/dist-packages (from aiohttp->datasets) (6.1.0)\n",
            "Requirement already satisfied: yarl<2.0,>=1.12.0 in /usr/local/lib/python3.10/dist-packages (from aiohttp->datasets) (1.14.0)\n",
            "Requirement already satisfied: async-timeout<5.0,>=4.0 in /usr/local/lib/python3.10/dist-packages (from aiohttp->datasets) (4.0.3)\n",
            "Requirement already satisfied: typing-extensions>=3.7.4.3 in /usr/local/lib/python3.10/dist-packages (from huggingface-hub>=0.22.0->datasets) (4.12.2)\n",
            "Requirement already satisfied: charset-normalizer<4,>=2 in /usr/local/lib/python3.10/dist-packages (from requests>=2.32.2->datasets) (3.4.0)\n",
            "Requirement already satisfied: idna<4,>=2.5 in /usr/local/lib/python3.10/dist-packages (from requests>=2.32.2->datasets) (3.10)\n",
            "Requirement already satisfied: urllib3<3,>=1.21.1 in /usr/local/lib/python3.10/dist-packages (from requests>=2.32.2->datasets) (2.2.3)\n",
            "Requirement already satisfied: certifi>=2017.4.17 in /usr/local/lib/python3.10/dist-packages (from requests>=2.32.2->datasets) (2024.8.30)\n",
            "Requirement already satisfied: python-dateutil>=2.8.2 in /usr/local/lib/python3.10/dist-packages (from pandas->datasets) (2.8.2)\n",
            "Requirement already satisfied: pytz>=2020.1 in /usr/local/lib/python3.10/dist-packages (from pandas->datasets) (2024.2)\n",
            "Requirement already satisfied: tzdata>=2022.7 in /usr/local/lib/python3.10/dist-packages (from pandas->datasets) (2024.2)\n",
            "Requirement already satisfied: six>=1.5 in /usr/local/lib/python3.10/dist-packages (from python-dateutil>=2.8.2->pandas->datasets) (1.16.0)\n",
            "Requirement already satisfied: propcache>=0.2.0 in /usr/local/lib/python3.10/dist-packages (from yarl<2.0,>=1.12.0->aiohttp->datasets) (0.2.0)\n"
          ]
        }
      ],
      "source": [
        "!pip install datasets zstandard jsonlines pysimdjson"
      ]
    },
    {
      "cell_type": "markdown",
      "metadata": {
        "id": "uhxACkuIn6Cv"
      },
      "source": [
        "### Установка библиотек"
      ]
    },
    {
      "cell_type": "code",
      "execution_count": null,
      "metadata": {
        "id": "dqmeaTiooI0Z"
      },
      "outputs": [],
      "source": [
        "from datasets import load_dataset\n",
        "from transformers import GPT2LMHeadModel, GPT2TokenizerFast, GPT2Config\n",
        "from transformers import get_linear_schedule_with_warmup\n",
        "\n",
        "import torch\n",
        "from torch.optim import AdamW\n",
        "from torch.utils.data import Dataset, DataLoader\n",
        "from torch.utils.data import random_split, RandomSampler, SequentialSampler\n",
        "\n",
        "import pandas as pd\n",
        "model_save_path = './model'"
      ]
    },
    {
      "cell_type": "markdown",
      "metadata": {
        "id": "7RsfHiU-n8Yz"
      },
      "source": [
        "# Подготовка датасета"
      ]
    },
    {
      "cell_type": "code",
      "source": [
        "dataset = load_dataset('IlyaGusev/ru_news', split=\"train\", streaming=True, trust_remote_code=True)"
      ],
      "metadata": {
        "id": "IlnMGNjpJCge",
        "colab": {
          "base_uri": "https://localhost:8080/"
        },
        "outputId": "71e95b7d-f76e-40b7-da5f-c714e1b673d2"
      },
      "execution_count": null,
      "outputs": [
        {
          "output_type": "stream",
          "name": "stderr",
          "text": [
            "/usr/local/lib/python3.10/dist-packages/huggingface_hub/utils/_token.py:89: UserWarning: \n",
            "The secret `HF_TOKEN` does not exist in your Colab secrets.\n",
            "To authenticate with the Hugging Face Hub, create a token in your settings tab (https://huggingface.co/settings/tokens), set it as secret in your Google Colab and restart your session.\n",
            "You will be able to reuse this secret in all of your notebooks.\n",
            "Please note that authentication is recommended but still optional to access public models or datasets.\n",
            "  warnings.warn(\n"
          ]
        }
      ]
    },
    {
      "cell_type": "code",
      "source": [
        "texts = []\n",
        "titles = []\n",
        "test_text = []\n",
        "test_titles = []\n",
        "# Выбираю данные из датасета\n",
        "for idx, i in enumerate(dataset.take(600)):\n",
        "  if idx >= 500:\n",
        "    test_text.append(i['text'].replace('\\n', ' '))\n",
        "    test_titles.append(i['title'])\n",
        "  else:\n",
        "    texts.append(i['text'].replace('\\n', ' '))\n",
        "    titles.append(i['title'])"
      ],
      "metadata": {
        "id": "E5fvRy7lJF6s"
      },
      "execution_count": null,
      "outputs": []
    },
    {
      "cell_type": "code",
      "source": [
        "df = pd.DataFrame({\n",
        "    'text' : texts,\n",
        "    'title' : titles\n",
        "})"
      ],
      "metadata": {
        "id": "n7DacGF9JgrM"
      },
      "execution_count": null,
      "outputs": []
    },
    {
      "cell_type": "code",
      "source": [
        "# Добавляю токен начала и конца последовательности\n",
        "def form_string(ingredient,instruction):\n",
        "    s = f\"<start>Описание: {ingredient.strip()} \" \\\n",
        "        f\"Заголовок: {instruction.strip()}<end>\"\n",
        "    return s\n",
        "\n",
        "data = df.apply(lambda x:form_string(\n",
        "    x['text'], x['title']), axis=1).to_list()"
      ],
      "metadata": {
        "id": "MTrNwuwiJrlQ"
      },
      "execution_count": null,
      "outputs": []
    },
    {
      "cell_type": "markdown",
      "source": [
        "# Токенизатор"
      ],
      "metadata": {
        "id": "AzmzaeaNojt1"
      }
    },
    {
      "cell_type": "code",
      "source": [
        "model_name = \"sberbank-ai/rugpt3medium_based_on_gpt2\"\n",
        "# Обозначаю ключевые токены\n",
        "tokenizer = GPT2TokenizerFast.from_pretrained(model_name,\n",
        "                                             bos_token='<start>',\n",
        "                                             eos_token='<end>',\n",
        "                                             unk_token='<unk>',\n",
        "                                             pad_token='<pad>'\n",
        "                                             )\n"
      ],
      "metadata": {
        "id": "qQpVhqpwmvBO"
      },
      "execution_count": null,
      "outputs": []
    },
    {
      "cell_type": "code",
      "source": [
        "batch_size = 2\n",
        "max_length = 180\n",
        "\n",
        "# создаю датасет\n",
        "class RecipeDataset(Dataset):\n",
        "    def __init__(self, data, tokenizer):\n",
        "        self.data = data\n",
        "        self.input_ids = []\n",
        "        self.attn_masks = []\n",
        "\n",
        "        for recipe in data:\n",
        "            encodings = tokenizer.encode_plus(recipe, # строка\n",
        "                                              truncation=True, # усечение последовательностей\n",
        "                                              padding='max_length', # дополнять последовательность по длине\n",
        "                                              max_length=max_length, # максимальная длина\n",
        "                                              return_tensors='pt' # вернуть в виде pytorch тензора\n",
        "                                             )\n",
        "            self.input_ids.append(torch.squeeze(encodings['input_ids'],0)) # размерность [1,180] -> [180]\n",
        "            self.attn_masks.append(torch.squeeze(encodings['attention_mask'],0))\n",
        "\n",
        "\n",
        "    def __len__(self):\n",
        "        return len(self.data)\n",
        "\n",
        "    def __getitem__(self,idx):\n",
        "        return self.input_ids[idx], self.attn_masks[idx]\n",
        "\n",
        "dataset = RecipeDataset(data, tokenizer)"
      ],
      "metadata": {
        "id": "wMRM3dYivQL9",
        "collapsed": true
      },
      "execution_count": null,
      "outputs": []
    },
    {
      "cell_type": "code",
      "source": [
        "# Разделение на обучающую и валидационную выборку\n",
        "train_size = int(0.9 * len(dataset))\n",
        "val_size = len(dataset) - train_size\n",
        "\n",
        "train_dataset, val_dataset = random_split(dataset, [train_size, val_size])\n",
        "\n",
        "# Разбиваем датасет на батчи\n",
        "train_dataloader = DataLoader(\n",
        "            train_dataset, # Датасет\n",
        "            sampler = RandomSampler(train_dataset), # Перемешивание\n",
        "            batch_size = batch_size # Размер батча\n",
        "        )\n",
        "\n",
        "# Валидация\n",
        "validation_dataloader = DataLoader(\n",
        "            val_dataset,\n",
        "            sampler = SequentialSampler(val_dataset),\n",
        "            batch_size = batch_size\n",
        "        )"
      ],
      "metadata": {
        "collapsed": true,
        "id": "h3a4Pq86x07a"
      },
      "execution_count": null,
      "outputs": []
    },
    {
      "cell_type": "code",
      "source": [
        "device = \"cuda\" # GPU\n",
        "configuration = GPT2Config.from_pretrained(model_name) # конфигурация\n",
        "model = GPT2LMHeadModel.from_pretrained(model_name, config=configuration) # подготовка модели\n",
        "model = model.to(device) # использовать модель на ГПУ\n",
        "model.resize_token_embeddings(len(tokenizer)) # изменение пространства ембеддинга\n",
        "\n",
        "epochs = 10\n",
        "learning_rate = 2e-5\n",
        "warmup_steps = 1e2\n",
        "\n",
        "epsilon = 1e-8 # для предотвращения деления на 0 (для числовой стабильности)\n",
        "optim = AdamW(model.parameters(), lr = learning_rate, eps = epsilon) # оптимизатор\n",
        "\n",
        "total_steps = len(train_dataloader) * epochs  # шаги\n",
        "\n",
        "# Постепенное уменьшение скорости обучения\n",
        "scheduler = get_linear_schedule_with_warmup(optim,\n",
        "                                            num_warmup_steps=warmup_steps,\n",
        "                                            num_training_steps=total_steps)"
      ],
      "metadata": {
        "id": "gP8qgEWasSOg",
        "colab": {
          "base_uri": "https://localhost:8080/",
          "height": 81,
          "referenced_widgets": [
            "7ef3cb568cee4649892c525876cb9d2c",
            "5da2777ad91f4fca835dca51b0724a10",
            "7213b2e8eb934229835bdc71cbe280f5",
            "47ce64abaf854e2fb34ca2f76f5c6c64",
            "61967291ea0f442b80150dd3185ae177",
            "2367c7cd3133450fa2f6ce2dd19ec419",
            "1de17daba3d645ffaf920d2605302995",
            "f83303c32d69434e9e12d87169a5ce65",
            "9fdb754c5aa7405a974e5bdfe552aa98",
            "5081ba91e2214ad4a9276e9489c63a38",
            "da81369ebd394b108b3b352672ea26eb",
            "552c1d70808e4e22b79e15a5fdae0e3c",
            "ac1f196605cd4f7f94ee2e2c83ac5d70",
            "1b124dcb6090466db455971199e6aa5e",
            "6a13e31ceb9146cba64bbcb00615200c",
            "a842ec80765a4d96b138599a82e64cd3",
            "50cdac1c62c7438b9b28291f2519b900",
            "0fa54c6e067349c5a6a496efdc66b9f8",
            "d45d4a01e39c47ab8b4906f1ab4285cc",
            "bfa8d9b04ff54abd81bf8ce62bf33ba9",
            "772ba1f06c2b4d8496284611ba86d867",
            "7e302e2e9be54f049b803e1d69f9c9ca"
          ]
        },
        "outputId": "80f536d6-ecd1-4d2c-fe12-e7c44a58cdb5"
      },
      "execution_count": null,
      "outputs": [
        {
          "output_type": "display_data",
          "data": {
            "text/plain": [
              "config.json:   0%|          | 0.00/761 [00:00<?, ?B/s]"
            ],
            "application/vnd.jupyter.widget-view+json": {
              "version_major": 2,
              "version_minor": 0,
              "model_id": "7ef3cb568cee4649892c525876cb9d2c"
            }
          },
          "metadata": {}
        },
        {
          "output_type": "display_data",
          "data": {
            "text/plain": [
              "pytorch_model.bin:   0%|          | 0.00/1.73G [00:00<?, ?B/s]"
            ],
            "application/vnd.jupyter.widget-view+json": {
              "version_major": 2,
              "version_minor": 0,
              "model_id": "552c1d70808e4e22b79e15a5fdae0e3c"
            }
          },
          "metadata": {}
        }
      ]
    },
    {
      "cell_type": "code",
      "source": [
        "# Промпт\n",
        "def infer(prompt):\n",
        "    input = f\"<start>Описание: {prompt.strip()}\"\n",
        "    input = tokenizer(input, return_tensors=\"pt\")\n",
        "    input_ids      = input[\"input_ids\"]\n",
        "    attention_mask = input[\"attention_mask\"]\n",
        "\n",
        "    output = model.generate(input_ids.to(device),\n",
        "                            attention_mask=attention_mask.to(device),\n",
        "                            max_new_tokens=max_length,\n",
        "                            do_sample = True, top_k = 50, top_p = 0.85)\n",
        "    output = tokenizer.decode(output[0], skip_special_tokens=True)\n",
        "    return output"
      ],
      "metadata": {
        "id": "Gtf9Ace7FqOd"
      },
      "execution_count": null,
      "outputs": []
    },
    {
      "cell_type": "code",
      "source": [
        "# Тренировка\n",
        "# Проход по эпохам\n",
        "for epoch_i in range(0, epochs):\n",
        "    total_train_loss = 0\n",
        "    model.train() # Модель в обучение\n",
        "    # Проход по батчам\n",
        "    for step, batch in enumerate(train_dataloader):\n",
        "        b_input_ids = batch[0].to(device) # Токенизированное предложение\n",
        "        b_labels    = batch[0].to(device) # Метки\n",
        "        b_masks     = batch[1].to(device) # Маска внимания\n",
        "\n",
        "        model.zero_grad() # Обнуление градиентов\n",
        "        outputs = model( input_ids = b_input_ids, labels = b_labels,\n",
        "                         attention_mask = b_masks, token_type_ids = None )\n",
        "\n",
        "        loss = outputs[0]\n",
        "\n",
        "        loss.backward() # Вычисление градиентов\n",
        "        optim.step() # Шаг оптимизатора\n",
        "        scheduler.step() # изменение скорости обучения"
      ],
      "metadata": {
        "id": "p74QDFI3CskE"
      },
      "execution_count": null,
      "outputs": []
    },
    {
      "cell_type": "code",
      "source": [
        "# Сохраняю модель\n",
        "model.save_pretrained(model_save_path)\n",
        "tokenizer.save_pretrained(model_save_path)"
      ],
      "metadata": {
        "colab": {
          "base_uri": "https://localhost:8080/"
        },
        "id": "K1Z5N5JFCse8",
        "outputId": "89bad336-3823-4d41-a370-c4052fb6b441"
      },
      "execution_count": null,
      "outputs": [
        {
          "output_type": "execute_result",
          "data": {
            "text/plain": [
              "('./model/tokenizer_config.json',\n",
              " './model/special_tokens_map.json',\n",
              " './model/vocab.json',\n",
              " './model/merges.txt',\n",
              " './model/added_tokens.json',\n",
              " './model/tokenizer.json')"
            ]
          },
          "metadata": {},
          "execution_count": 13
        }
      ]
    },
    {
      "cell_type": "code",
      "source": [
        "# Загружаю модель\n",
        "model = GPT2LMHeadModel.from_pretrained(model_save_path)\n",
        "tokenizer = GPT2TokenizerFast.from_pretrained(model_save_path)\n",
        "model.to(device)"
      ],
      "metadata": {
        "colab": {
          "base_uri": "https://localhost:8080/"
        },
        "id": "6EsStrkcCscW",
        "outputId": "6de28ca1-dd89-49c8-c30f-6f638a765448"
      },
      "execution_count": null,
      "outputs": [
        {
          "output_type": "execute_result",
          "data": {
            "text/plain": [
              "GPT2LMHeadModel(\n",
              "  (transformer): GPT2Model(\n",
              "    (wte): Embedding(50259, 1024)\n",
              "    (wpe): Embedding(2048, 1024)\n",
              "    (drop): Dropout(p=0.1, inplace=False)\n",
              "    (h): ModuleList(\n",
              "      (0-23): 24 x GPT2Block(\n",
              "        (ln_1): LayerNorm((1024,), eps=1e-05, elementwise_affine=True)\n",
              "        (attn): GPT2SdpaAttention(\n",
              "          (c_attn): Conv1D()\n",
              "          (c_proj): Conv1D()\n",
              "          (attn_dropout): Dropout(p=0.1, inplace=False)\n",
              "          (resid_dropout): Dropout(p=0.1, inplace=False)\n",
              "        )\n",
              "        (ln_2): LayerNorm((1024,), eps=1e-05, elementwise_affine=True)\n",
              "        (mlp): GPT2MLP(\n",
              "          (c_fc): Conv1D()\n",
              "          (c_proj): Conv1D()\n",
              "          (act): NewGELUActivation()\n",
              "          (dropout): Dropout(p=0.1, inplace=False)\n",
              "        )\n",
              "      )\n",
              "    )\n",
              "    (ln_f): LayerNorm((1024,), eps=1e-05, elementwise_affine=True)\n",
              "  )\n",
              "  (lm_head): Linear(in_features=1024, out_features=50259, bias=False)\n",
              ")"
            ]
          },
          "metadata": {},
          "execution_count": 14
        }
      ]
    },
    {
      "cell_type": "code",
      "source": [
        "def infer(prompt, title):\n",
        "    print(f\"Текст: {prompt}\")\n",
        "    print(f\"Верный ответ: {title}\\n\\n\")\n",
        "    input1 = f\"<start>Описание: {prompt.strip()}\"\n",
        "    input = tokenizer(input1, return_tensors=\"pt\")\n",
        "    input_ids      = input[\"input_ids\"]\n",
        "    attention_mask = input[\"attention_mask\"]\n",
        "\n",
        "    output = model.generate(input_ids.to(device),\n",
        "                            attention_mask=attention_mask.to(device),\n",
        "                            max_new_tokens=20,\n",
        "                            do_sample = True, top_k = 10, top_p = 0.5)\n",
        "    output = tokenizer.decode(output[0], skip_special_tokens=True)\n",
        "    output = output.replace(f\"Описание: {prompt.strip()}\", '')\n",
        "    return output"
      ],
      "metadata": {
        "id": "vn24WnE6GZA-"
      },
      "execution_count": null,
      "outputs": []
    },
    {
      "cell_type": "code",
      "source": [
        "infer(test_text[1], test_titles[1])"
      ],
      "metadata": {
        "id": "yvUPHeNiGbyf",
        "colab": {
          "base_uri": "https://localhost:8080/",
          "height": 125
        },
        "outputId": "ae35332d-e345-4989-8ba1-a0b9578ef7ce"
      },
      "execution_count": null,
      "outputs": [
        {
          "output_type": "stream",
          "name": "stdout",
          "text": [
            "Текст: На XXXIX Очередном Конгрессе УЕФА в Вене Мишель Платини был переизбран Президентом УЕФА на третий четырехлетний срок. Платини, который был единственным кандидатом, поддержали делегаты всех 54 национальных ассоциаций УЕФА. Французский функционер был избран президентом европейского футбольного союза на XXXI Очередном конгрессе УЕФА в Дюссельдорфе в январе 2007 года. На XXXV Очередном конгрессе УЕФА в Париже его переизбрали на второй срок, пишет сайт УЕФА. Платини поблагодарил европейские национальные ассоциации за доверие, которое они по-прежнему оказывают. \"Спасибо... Большое спасибо, - сказал он. - Спасибо вам за доверие и поддержку. Это значит для меня больше, чем вы можете себе представить\". \"Горжусь тем, что являюсь вашим товарищем по команде и капитаном нашей команды-победительницы. Горжусь всеми нашими достижениями. И с радостью принимаю новые испытания, которые ждут нас в ближайшие четыре года\", - добавил Платини. \"Знаю, что могу рассчитывать на всех вас, а вы знаете, что можете рассчитывать на меня, - подчеркнул глава УЕФА. - Именно такая близость отношений делает нас сильнее и позволяет принимать смелые и отважные решения, которые всегда себя оправдывают. Взаимное доверие и представительная демократия давно стали нашим фирменным знаком, и мы будем продолжать работать в том же ключе ближайшие четыре года. Это я могу вам обещать и гарантировать\". \"Как вы знаете, мое переизбрание означает, что я продолжу занимать пост вице-президента ФИФА следующие четыре года, - добавил Платини. - Мы, европейцы, хотим видеть сильную ФИФА, которую уважают и которая уважает остальных, поскольку ФИФА была и всегда будет главным органом футбольной власти\". \"Надеюсь, что за время третьего срока буду принимать правильные решения в нужное время - и для вас, и для футбола в целом\", - сказал Конгрессу УЕФА в Вене бывший лидер сборной Франции. \"Я верю, что, продолжая работу, буду по-прежнему получать удовольствие, как и в предыдущие восемь лет. Руководить такой удивительной организацией - не просто большая честь. Это также ежедневное удовольствие. И за это я, конечно же, хочу снова вас поблагодарить\", - сказал в заключение Президент УЕФА.\n",
            "Верный ответ: Мишель Платини переизбран на третий срок\n",
            "\n",
            "\n"
          ]
        },
        {
          "output_type": "execute_result",
          "data": {
            "text/plain": [
              "' Заголовок: Мишель Платини переизбран Президентом УЕФАСентябрь 2007Описание'"
            ],
            "application/vnd.google.colaboratory.intrinsic+json": {
              "type": "string"
            }
          },
          "metadata": {},
          "execution_count": 45
        }
      ]
    },
    {
      "cell_type": "code",
      "source": [
        "infer(test_text[3], test_titles[3])"
      ],
      "metadata": {
        "colab": {
          "base_uri": "https://localhost:8080/",
          "height": 125
        },
        "id": "FrSLsYktmH8k",
        "outputId": "6980e625-626a-417a-ebd5-312144d0f7ba"
      },
      "execution_count": null,
      "outputs": [
        {
          "output_type": "stream",
          "name": "stdout",
          "text": [
            "Текст: По факту крушения самолета в ХМАО возбуждено уголовное делоФото: Александр Мамаев © URA. Ru Уральское следственное управление на транспорте возбудило уголовное дело по факту крушения гидросамолета в Югре. У сыщиков есть первые версии ЧП. Уголовное дело возбуждено по статье «нарушение правил безопасности движения и эксплуатации воздушного транспорта, повлекшее по неосторожности смерть двух или более лиц». Основные версии — нарушение правил эксплуатации и безопасности полета, сложные метеоусловия и неисправность техники. Напомним, в 27 километрах от Ханты-Мансийска потерпел крушение легкомоторный гидросамолет «Пеликан-2», принадлежащий 60-летнему жителю окружной столицы. За штурвалом находился сам владелец — Владимир Слинкин, который до выхода на пенсию работал командиром Як-40. Пассажиром оказался 72-летний Валерий Климов. Оба пенсионера погибли на месте. Сейчас следователи проводят осмотр места происшествия.\n",
            "Верный ответ: По факту крушения самолета в ХМАО возбуждено уголовное дело. Сыщики рассматривают три версии трагедии\n",
            "\n",
            "\n"
          ]
        },
        {
          "output_type": "execute_result",
          "data": {
            "text/plain": [
              "' Заголовок: Самолету авиакомпании «ЮТэйр» в ХМАО грозит крупный штраф'"
            ],
            "application/vnd.google.colaboratory.intrinsic+json": {
              "type": "string"
            }
          },
          "metadata": {},
          "execution_count": 46
        }
      ]
    },
    {
      "cell_type": "code",
      "source": [
        "infer(test_text[10], test_titles[10])"
      ],
      "metadata": {
        "colab": {
          "base_uri": "https://localhost:8080/",
          "height": 125
        },
        "id": "8U2uFm8ZaZub",
        "outputId": "13109b6f-2e80-43db-f70e-bfaf095ae709"
      },
      "execution_count": null,
      "outputs": [
        {
          "output_type": "stream",
          "name": "stdout",
          "text": [
            "Текст: На территории Ямальского района в Ямало-Ненецком автономном округе обнаружено тело мамонтенка, говорится в сообщении пресс-службы района, поступившем в редакцию \"Ленты. Ру\". Мамонтенка в середине августа 2011 года (точную дату находки пресс-служба Ямальского района не приводит) обнаружил бригадир оленеводческой бригады хозяйства \"Ярсалинское\" Петр Ядне. Сведений о состоянии останков вымершего животного нет. В Ямальском районе не в первый раз обнаруживают останки мамонтов. Одной из наиболее известных находок является хорошо сохранившееся тело мамонтенка, получившего имя Люба. Животное было найдено в мае 2007 года на реке Юрибей. Мамонты вымерли более восьми тысяч лет назад. Точные причины, которые привели к их вымиранию, окончательно не установлены. На территории Сибири и Аляски в вечной мерзлоте неоднократно находили трупы мамонтов, сохранившиеся в хорошем состоянии до наших дней.\n",
            "Верный ответ: На Ямале нашли мамонтенка\n",
            "\n",
            "\n"
          ]
        },
        {
          "output_type": "execute_result",
          "data": {
            "text/plain": [
              "' Заголовок: На Ямале нашли мамонта. ФОТО, ВИДЕО'"
            ],
            "application/vnd.google.colaboratory.intrinsic+json": {
              "type": "string"
            }
          },
          "metadata": {},
          "execution_count": 47
        }
      ]
    },
    {
      "cell_type": "code",
      "source": [
        "infer(test_text[12], test_titles[12])"
      ],
      "metadata": {
        "colab": {
          "base_uri": "https://localhost:8080/",
          "height": 125
        },
        "id": "YwTQ8H-JghBE",
        "outputId": "43379931-c94d-402d-dbb9-7ea898738ca0"
      },
      "execution_count": null,
      "outputs": [
        {
          "output_type": "stream",
          "name": "stdout",
          "text": [
            "Текст: БРЮССЕЛЬ, 20 октября. /ТАСС/. Убийство журналиста Джамаля Хашкаджи в генконсульстве Саудовской Аравии - шокирующее нарушение Венской конвенции о консульских сношениях 1963 года. Преступление вызывает глубочайшую озабоченность и требует независимого расследования, говорится в распространенном в субботу заявлении верховного представителя ЕС по иностранным делам и политике безопасности Федерики Могерини. n\"После почти трех недель наконец появились факты, подтверждающие, что журналист Джамаль Хашкаджи был убит в здании генконсульства Саудовской Аравии в Стамбуле 2 октября 2018 года, - заявила дипломат. - Обстоятельства его гибели вызывают глубочайшую озабоченность и являются шокирующим нарушением Венской конвенции о консульских сношениях 1963 года, в особенности ее 55-й статьи\". nЭта статья, в частности, обязывает всех консульских работников полностью соблюдать законы страны пребывания. Согласно ее тексту, консульские помещения \"не должны использоваться в целях, не совместимых с выполнением консульских функций\". nМогерини выразила соболезнования семье и близким убитого журналиста и потребовала \"проведения тщательного, достойного доверия и прозрачного расследования, проливающего свет на обстоятельства этого убийства, все виновные в котором должны быть привлечены к ответственности\". nРанее власти Саудовской Аравии подтвердили смерть Хашкаджи в результате конфликта с его участием, возникшего в консульстве королевства в Стамбуле. По делу об убийстве арестованы 18 подданных королевства, расследование продолжается. Саудовский монарх подписал указ об увольнении высокопоставленных офицеров разведки. nХашкаджи, известный критическими высказываниями о политике Эр-Рияда, отправился 2 октября в генконсульство своей страны в Стамбуле, чтобы оформить документы для второго брака, и с тех пор не выходил на связь. Для расследования дела репортера была сформирована совместная саудовско-турецкая следственная группа. На минувшей неделе турецкие следователи провели осмотр диппредставительства, служебных автомобилей и резиденции генконсула в Стамбуле. Генпрокуратура в Эр-Рияде по поручению короля проводит внутреннее расследование.\n",
            "Верный ответ: Могерини назвала убийство Хашкаджи шокирующим нарушением Венской конвенции\n",
            "\n",
            "\n"
          ]
        },
        {
          "output_type": "execute_result",
          "data": {
            "text/plain": [
              "' Заголовок: Саудовская Аравия и ЕС официально подтвердили, что убили журналистасаудадца'"
            ],
            "application/vnd.google.colaboratory.intrinsic+json": {
              "type": "string"
            }
          },
          "metadata": {},
          "execution_count": 48
        }
      ]
    }
  ],
  "metadata": {
    "colab": {
      "provenance": [],
      "gpuType": "T4"
    },
    "kernelspec": {
      "display_name": "Python 3",
      "name": "python3"
    },
    "language_info": {
      "name": "python"
    },
    "accelerator": "GPU",
    "widgets": {
      "application/vnd.jupyter.widget-state+json": {
        "7ef3cb568cee4649892c525876cb9d2c": {
          "model_module": "@jupyter-widgets/controls",
          "model_name": "HBoxModel",
          "model_module_version": "1.5.0",
          "state": {
            "_dom_classes": [],
            "_model_module": "@jupyter-widgets/controls",
            "_model_module_version": "1.5.0",
            "_model_name": "HBoxModel",
            "_view_count": null,
            "_view_module": "@jupyter-widgets/controls",
            "_view_module_version": "1.5.0",
            "_view_name": "HBoxView",
            "box_style": "",
            "children": [
              "IPY_MODEL_5da2777ad91f4fca835dca51b0724a10",
              "IPY_MODEL_7213b2e8eb934229835bdc71cbe280f5",
              "IPY_MODEL_47ce64abaf854e2fb34ca2f76f5c6c64"
            ],
            "layout": "IPY_MODEL_61967291ea0f442b80150dd3185ae177"
          }
        },
        "5da2777ad91f4fca835dca51b0724a10": {
          "model_module": "@jupyter-widgets/controls",
          "model_name": "HTMLModel",
          "model_module_version": "1.5.0",
          "state": {
            "_dom_classes": [],
            "_model_module": "@jupyter-widgets/controls",
            "_model_module_version": "1.5.0",
            "_model_name": "HTMLModel",
            "_view_count": null,
            "_view_module": "@jupyter-widgets/controls",
            "_view_module_version": "1.5.0",
            "_view_name": "HTMLView",
            "description": "",
            "description_tooltip": null,
            "layout": "IPY_MODEL_2367c7cd3133450fa2f6ce2dd19ec419",
            "placeholder": "​",
            "style": "IPY_MODEL_1de17daba3d645ffaf920d2605302995",
            "value": "config.json: 100%"
          }
        },
        "7213b2e8eb934229835bdc71cbe280f5": {
          "model_module": "@jupyter-widgets/controls",
          "model_name": "FloatProgressModel",
          "model_module_version": "1.5.0",
          "state": {
            "_dom_classes": [],
            "_model_module": "@jupyter-widgets/controls",
            "_model_module_version": "1.5.0",
            "_model_name": "FloatProgressModel",
            "_view_count": null,
            "_view_module": "@jupyter-widgets/controls",
            "_view_module_version": "1.5.0",
            "_view_name": "ProgressView",
            "bar_style": "success",
            "description": "",
            "description_tooltip": null,
            "layout": "IPY_MODEL_f83303c32d69434e9e12d87169a5ce65",
            "max": 761,
            "min": 0,
            "orientation": "horizontal",
            "style": "IPY_MODEL_9fdb754c5aa7405a974e5bdfe552aa98",
            "value": 761
          }
        },
        "47ce64abaf854e2fb34ca2f76f5c6c64": {
          "model_module": "@jupyter-widgets/controls",
          "model_name": "HTMLModel",
          "model_module_version": "1.5.0",
          "state": {
            "_dom_classes": [],
            "_model_module": "@jupyter-widgets/controls",
            "_model_module_version": "1.5.0",
            "_model_name": "HTMLModel",
            "_view_count": null,
            "_view_module": "@jupyter-widgets/controls",
            "_view_module_version": "1.5.0",
            "_view_name": "HTMLView",
            "description": "",
            "description_tooltip": null,
            "layout": "IPY_MODEL_5081ba91e2214ad4a9276e9489c63a38",
            "placeholder": "​",
            "style": "IPY_MODEL_da81369ebd394b108b3b352672ea26eb",
            "value": " 761/761 [00:00&lt;00:00, 45.3kB/s]"
          }
        },
        "61967291ea0f442b80150dd3185ae177": {
          "model_module": "@jupyter-widgets/base",
          "model_name": "LayoutModel",
          "model_module_version": "1.2.0",
          "state": {
            "_model_module": "@jupyter-widgets/base",
            "_model_module_version": "1.2.0",
            "_model_name": "LayoutModel",
            "_view_count": null,
            "_view_module": "@jupyter-widgets/base",
            "_view_module_version": "1.2.0",
            "_view_name": "LayoutView",
            "align_content": null,
            "align_items": null,
            "align_self": null,
            "border": null,
            "bottom": null,
            "display": null,
            "flex": null,
            "flex_flow": null,
            "grid_area": null,
            "grid_auto_columns": null,
            "grid_auto_flow": null,
            "grid_auto_rows": null,
            "grid_column": null,
            "grid_gap": null,
            "grid_row": null,
            "grid_template_areas": null,
            "grid_template_columns": null,
            "grid_template_rows": null,
            "height": null,
            "justify_content": null,
            "justify_items": null,
            "left": null,
            "margin": null,
            "max_height": null,
            "max_width": null,
            "min_height": null,
            "min_width": null,
            "object_fit": null,
            "object_position": null,
            "order": null,
            "overflow": null,
            "overflow_x": null,
            "overflow_y": null,
            "padding": null,
            "right": null,
            "top": null,
            "visibility": null,
            "width": null
          }
        },
        "2367c7cd3133450fa2f6ce2dd19ec419": {
          "model_module": "@jupyter-widgets/base",
          "model_name": "LayoutModel",
          "model_module_version": "1.2.0",
          "state": {
            "_model_module": "@jupyter-widgets/base",
            "_model_module_version": "1.2.0",
            "_model_name": "LayoutModel",
            "_view_count": null,
            "_view_module": "@jupyter-widgets/base",
            "_view_module_version": "1.2.0",
            "_view_name": "LayoutView",
            "align_content": null,
            "align_items": null,
            "align_self": null,
            "border": null,
            "bottom": null,
            "display": null,
            "flex": null,
            "flex_flow": null,
            "grid_area": null,
            "grid_auto_columns": null,
            "grid_auto_flow": null,
            "grid_auto_rows": null,
            "grid_column": null,
            "grid_gap": null,
            "grid_row": null,
            "grid_template_areas": null,
            "grid_template_columns": null,
            "grid_template_rows": null,
            "height": null,
            "justify_content": null,
            "justify_items": null,
            "left": null,
            "margin": null,
            "max_height": null,
            "max_width": null,
            "min_height": null,
            "min_width": null,
            "object_fit": null,
            "object_position": null,
            "order": null,
            "overflow": null,
            "overflow_x": null,
            "overflow_y": null,
            "padding": null,
            "right": null,
            "top": null,
            "visibility": null,
            "width": null
          }
        },
        "1de17daba3d645ffaf920d2605302995": {
          "model_module": "@jupyter-widgets/controls",
          "model_name": "DescriptionStyleModel",
          "model_module_version": "1.5.0",
          "state": {
            "_model_module": "@jupyter-widgets/controls",
            "_model_module_version": "1.5.0",
            "_model_name": "DescriptionStyleModel",
            "_view_count": null,
            "_view_module": "@jupyter-widgets/base",
            "_view_module_version": "1.2.0",
            "_view_name": "StyleView",
            "description_width": ""
          }
        },
        "f83303c32d69434e9e12d87169a5ce65": {
          "model_module": "@jupyter-widgets/base",
          "model_name": "LayoutModel",
          "model_module_version": "1.2.0",
          "state": {
            "_model_module": "@jupyter-widgets/base",
            "_model_module_version": "1.2.0",
            "_model_name": "LayoutModel",
            "_view_count": null,
            "_view_module": "@jupyter-widgets/base",
            "_view_module_version": "1.2.0",
            "_view_name": "LayoutView",
            "align_content": null,
            "align_items": null,
            "align_self": null,
            "border": null,
            "bottom": null,
            "display": null,
            "flex": null,
            "flex_flow": null,
            "grid_area": null,
            "grid_auto_columns": null,
            "grid_auto_flow": null,
            "grid_auto_rows": null,
            "grid_column": null,
            "grid_gap": null,
            "grid_row": null,
            "grid_template_areas": null,
            "grid_template_columns": null,
            "grid_template_rows": null,
            "height": null,
            "justify_content": null,
            "justify_items": null,
            "left": null,
            "margin": null,
            "max_height": null,
            "max_width": null,
            "min_height": null,
            "min_width": null,
            "object_fit": null,
            "object_position": null,
            "order": null,
            "overflow": null,
            "overflow_x": null,
            "overflow_y": null,
            "padding": null,
            "right": null,
            "top": null,
            "visibility": null,
            "width": null
          }
        },
        "9fdb754c5aa7405a974e5bdfe552aa98": {
          "model_module": "@jupyter-widgets/controls",
          "model_name": "ProgressStyleModel",
          "model_module_version": "1.5.0",
          "state": {
            "_model_module": "@jupyter-widgets/controls",
            "_model_module_version": "1.5.0",
            "_model_name": "ProgressStyleModel",
            "_view_count": null,
            "_view_module": "@jupyter-widgets/base",
            "_view_module_version": "1.2.0",
            "_view_name": "StyleView",
            "bar_color": null,
            "description_width": ""
          }
        },
        "5081ba91e2214ad4a9276e9489c63a38": {
          "model_module": "@jupyter-widgets/base",
          "model_name": "LayoutModel",
          "model_module_version": "1.2.0",
          "state": {
            "_model_module": "@jupyter-widgets/base",
            "_model_module_version": "1.2.0",
            "_model_name": "LayoutModel",
            "_view_count": null,
            "_view_module": "@jupyter-widgets/base",
            "_view_module_version": "1.2.0",
            "_view_name": "LayoutView",
            "align_content": null,
            "align_items": null,
            "align_self": null,
            "border": null,
            "bottom": null,
            "display": null,
            "flex": null,
            "flex_flow": null,
            "grid_area": null,
            "grid_auto_columns": null,
            "grid_auto_flow": null,
            "grid_auto_rows": null,
            "grid_column": null,
            "grid_gap": null,
            "grid_row": null,
            "grid_template_areas": null,
            "grid_template_columns": null,
            "grid_template_rows": null,
            "height": null,
            "justify_content": null,
            "justify_items": null,
            "left": null,
            "margin": null,
            "max_height": null,
            "max_width": null,
            "min_height": null,
            "min_width": null,
            "object_fit": null,
            "object_position": null,
            "order": null,
            "overflow": null,
            "overflow_x": null,
            "overflow_y": null,
            "padding": null,
            "right": null,
            "top": null,
            "visibility": null,
            "width": null
          }
        },
        "da81369ebd394b108b3b352672ea26eb": {
          "model_module": "@jupyter-widgets/controls",
          "model_name": "DescriptionStyleModel",
          "model_module_version": "1.5.0",
          "state": {
            "_model_module": "@jupyter-widgets/controls",
            "_model_module_version": "1.5.0",
            "_model_name": "DescriptionStyleModel",
            "_view_count": null,
            "_view_module": "@jupyter-widgets/base",
            "_view_module_version": "1.2.0",
            "_view_name": "StyleView",
            "description_width": ""
          }
        },
        "552c1d70808e4e22b79e15a5fdae0e3c": {
          "model_module": "@jupyter-widgets/controls",
          "model_name": "HBoxModel",
          "model_module_version": "1.5.0",
          "state": {
            "_dom_classes": [],
            "_model_module": "@jupyter-widgets/controls",
            "_model_module_version": "1.5.0",
            "_model_name": "HBoxModel",
            "_view_count": null,
            "_view_module": "@jupyter-widgets/controls",
            "_view_module_version": "1.5.0",
            "_view_name": "HBoxView",
            "box_style": "",
            "children": [
              "IPY_MODEL_ac1f196605cd4f7f94ee2e2c83ac5d70",
              "IPY_MODEL_1b124dcb6090466db455971199e6aa5e",
              "IPY_MODEL_6a13e31ceb9146cba64bbcb00615200c"
            ],
            "layout": "IPY_MODEL_a842ec80765a4d96b138599a82e64cd3"
          }
        },
        "ac1f196605cd4f7f94ee2e2c83ac5d70": {
          "model_module": "@jupyter-widgets/controls",
          "model_name": "HTMLModel",
          "model_module_version": "1.5.0",
          "state": {
            "_dom_classes": [],
            "_model_module": "@jupyter-widgets/controls",
            "_model_module_version": "1.5.0",
            "_model_name": "HTMLModel",
            "_view_count": null,
            "_view_module": "@jupyter-widgets/controls",
            "_view_module_version": "1.5.0",
            "_view_name": "HTMLView",
            "description": "",
            "description_tooltip": null,
            "layout": "IPY_MODEL_50cdac1c62c7438b9b28291f2519b900",
            "placeholder": "​",
            "style": "IPY_MODEL_0fa54c6e067349c5a6a496efdc66b9f8",
            "value": "pytorch_model.bin: 100%"
          }
        },
        "1b124dcb6090466db455971199e6aa5e": {
          "model_module": "@jupyter-widgets/controls",
          "model_name": "FloatProgressModel",
          "model_module_version": "1.5.0",
          "state": {
            "_dom_classes": [],
            "_model_module": "@jupyter-widgets/controls",
            "_model_module_version": "1.5.0",
            "_model_name": "FloatProgressModel",
            "_view_count": null,
            "_view_module": "@jupyter-widgets/controls",
            "_view_module_version": "1.5.0",
            "_view_name": "ProgressView",
            "bar_style": "success",
            "description": "",
            "description_tooltip": null,
            "layout": "IPY_MODEL_d45d4a01e39c47ab8b4906f1ab4285cc",
            "max": 1730074771,
            "min": 0,
            "orientation": "horizontal",
            "style": "IPY_MODEL_bfa8d9b04ff54abd81bf8ce62bf33ba9",
            "value": 1730074771
          }
        },
        "6a13e31ceb9146cba64bbcb00615200c": {
          "model_module": "@jupyter-widgets/controls",
          "model_name": "HTMLModel",
          "model_module_version": "1.5.0",
          "state": {
            "_dom_classes": [],
            "_model_module": "@jupyter-widgets/controls",
            "_model_module_version": "1.5.0",
            "_model_name": "HTMLModel",
            "_view_count": null,
            "_view_module": "@jupyter-widgets/controls",
            "_view_module_version": "1.5.0",
            "_view_name": "HTMLView",
            "description": "",
            "description_tooltip": null,
            "layout": "IPY_MODEL_772ba1f06c2b4d8496284611ba86d867",
            "placeholder": "​",
            "style": "IPY_MODEL_7e302e2e9be54f049b803e1d69f9c9ca",
            "value": " 1.73G/1.73G [00:12&lt;00:00, 126MB/s]"
          }
        },
        "a842ec80765a4d96b138599a82e64cd3": {
          "model_module": "@jupyter-widgets/base",
          "model_name": "LayoutModel",
          "model_module_version": "1.2.0",
          "state": {
            "_model_module": "@jupyter-widgets/base",
            "_model_module_version": "1.2.0",
            "_model_name": "LayoutModel",
            "_view_count": null,
            "_view_module": "@jupyter-widgets/base",
            "_view_module_version": "1.2.0",
            "_view_name": "LayoutView",
            "align_content": null,
            "align_items": null,
            "align_self": null,
            "border": null,
            "bottom": null,
            "display": null,
            "flex": null,
            "flex_flow": null,
            "grid_area": null,
            "grid_auto_columns": null,
            "grid_auto_flow": null,
            "grid_auto_rows": null,
            "grid_column": null,
            "grid_gap": null,
            "grid_row": null,
            "grid_template_areas": null,
            "grid_template_columns": null,
            "grid_template_rows": null,
            "height": null,
            "justify_content": null,
            "justify_items": null,
            "left": null,
            "margin": null,
            "max_height": null,
            "max_width": null,
            "min_height": null,
            "min_width": null,
            "object_fit": null,
            "object_position": null,
            "order": null,
            "overflow": null,
            "overflow_x": null,
            "overflow_y": null,
            "padding": null,
            "right": null,
            "top": null,
            "visibility": null,
            "width": null
          }
        },
        "50cdac1c62c7438b9b28291f2519b900": {
          "model_module": "@jupyter-widgets/base",
          "model_name": "LayoutModel",
          "model_module_version": "1.2.0",
          "state": {
            "_model_module": "@jupyter-widgets/base",
            "_model_module_version": "1.2.0",
            "_model_name": "LayoutModel",
            "_view_count": null,
            "_view_module": "@jupyter-widgets/base",
            "_view_module_version": "1.2.0",
            "_view_name": "LayoutView",
            "align_content": null,
            "align_items": null,
            "align_self": null,
            "border": null,
            "bottom": null,
            "display": null,
            "flex": null,
            "flex_flow": null,
            "grid_area": null,
            "grid_auto_columns": null,
            "grid_auto_flow": null,
            "grid_auto_rows": null,
            "grid_column": null,
            "grid_gap": null,
            "grid_row": null,
            "grid_template_areas": null,
            "grid_template_columns": null,
            "grid_template_rows": null,
            "height": null,
            "justify_content": null,
            "justify_items": null,
            "left": null,
            "margin": null,
            "max_height": null,
            "max_width": null,
            "min_height": null,
            "min_width": null,
            "object_fit": null,
            "object_position": null,
            "order": null,
            "overflow": null,
            "overflow_x": null,
            "overflow_y": null,
            "padding": null,
            "right": null,
            "top": null,
            "visibility": null,
            "width": null
          }
        },
        "0fa54c6e067349c5a6a496efdc66b9f8": {
          "model_module": "@jupyter-widgets/controls",
          "model_name": "DescriptionStyleModel",
          "model_module_version": "1.5.0",
          "state": {
            "_model_module": "@jupyter-widgets/controls",
            "_model_module_version": "1.5.0",
            "_model_name": "DescriptionStyleModel",
            "_view_count": null,
            "_view_module": "@jupyter-widgets/base",
            "_view_module_version": "1.2.0",
            "_view_name": "StyleView",
            "description_width": ""
          }
        },
        "d45d4a01e39c47ab8b4906f1ab4285cc": {
          "model_module": "@jupyter-widgets/base",
          "model_name": "LayoutModel",
          "model_module_version": "1.2.0",
          "state": {
            "_model_module": "@jupyter-widgets/base",
            "_model_module_version": "1.2.0",
            "_model_name": "LayoutModel",
            "_view_count": null,
            "_view_module": "@jupyter-widgets/base",
            "_view_module_version": "1.2.0",
            "_view_name": "LayoutView",
            "align_content": null,
            "align_items": null,
            "align_self": null,
            "border": null,
            "bottom": null,
            "display": null,
            "flex": null,
            "flex_flow": null,
            "grid_area": null,
            "grid_auto_columns": null,
            "grid_auto_flow": null,
            "grid_auto_rows": null,
            "grid_column": null,
            "grid_gap": null,
            "grid_row": null,
            "grid_template_areas": null,
            "grid_template_columns": null,
            "grid_template_rows": null,
            "height": null,
            "justify_content": null,
            "justify_items": null,
            "left": null,
            "margin": null,
            "max_height": null,
            "max_width": null,
            "min_height": null,
            "min_width": null,
            "object_fit": null,
            "object_position": null,
            "order": null,
            "overflow": null,
            "overflow_x": null,
            "overflow_y": null,
            "padding": null,
            "right": null,
            "top": null,
            "visibility": null,
            "width": null
          }
        },
        "bfa8d9b04ff54abd81bf8ce62bf33ba9": {
          "model_module": "@jupyter-widgets/controls",
          "model_name": "ProgressStyleModel",
          "model_module_version": "1.5.0",
          "state": {
            "_model_module": "@jupyter-widgets/controls",
            "_model_module_version": "1.5.0",
            "_model_name": "ProgressStyleModel",
            "_view_count": null,
            "_view_module": "@jupyter-widgets/base",
            "_view_module_version": "1.2.0",
            "_view_name": "StyleView",
            "bar_color": null,
            "description_width": ""
          }
        },
        "772ba1f06c2b4d8496284611ba86d867": {
          "model_module": "@jupyter-widgets/base",
          "model_name": "LayoutModel",
          "model_module_version": "1.2.0",
          "state": {
            "_model_module": "@jupyter-widgets/base",
            "_model_module_version": "1.2.0",
            "_model_name": "LayoutModel",
            "_view_count": null,
            "_view_module": "@jupyter-widgets/base",
            "_view_module_version": "1.2.0",
            "_view_name": "LayoutView",
            "align_content": null,
            "align_items": null,
            "align_self": null,
            "border": null,
            "bottom": null,
            "display": null,
            "flex": null,
            "flex_flow": null,
            "grid_area": null,
            "grid_auto_columns": null,
            "grid_auto_flow": null,
            "grid_auto_rows": null,
            "grid_column": null,
            "grid_gap": null,
            "grid_row": null,
            "grid_template_areas": null,
            "grid_template_columns": null,
            "grid_template_rows": null,
            "height": null,
            "justify_content": null,
            "justify_items": null,
            "left": null,
            "margin": null,
            "max_height": null,
            "max_width": null,
            "min_height": null,
            "min_width": null,
            "object_fit": null,
            "object_position": null,
            "order": null,
            "overflow": null,
            "overflow_x": null,
            "overflow_y": null,
            "padding": null,
            "right": null,
            "top": null,
            "visibility": null,
            "width": null
          }
        },
        "7e302e2e9be54f049b803e1d69f9c9ca": {
          "model_module": "@jupyter-widgets/controls",
          "model_name": "DescriptionStyleModel",
          "model_module_version": "1.5.0",
          "state": {
            "_model_module": "@jupyter-widgets/controls",
            "_model_module_version": "1.5.0",
            "_model_name": "DescriptionStyleModel",
            "_view_count": null,
            "_view_module": "@jupyter-widgets/base",
            "_view_module_version": "1.2.0",
            "_view_name": "StyleView",
            "description_width": ""
          }
        }
      }
    }
  },
  "nbformat": 4,
  "nbformat_minor": 0
}