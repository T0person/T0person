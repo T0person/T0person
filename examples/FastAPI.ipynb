{
  "nbformat": 4,
  "nbformat_minor": 0,
  "metadata": {
    "colab": {
      "provenance": []
    },
    "kernelspec": {
      "name": "python3",
      "display_name": "Python 3"
    },
    "language_info": {
      "name": "python"
    }
  },
  "cells": [
    {
      "cell_type": "code",
      "source": [
        "# @title Установка библиотек\n",
        "!pip install fastapi # Установим FastAPI\n",
        "!pip install uvicorn # Установим ASGI-сервер\n",
        "!pip install python-multipart # Необходимая зависимость для FastAPI (для работы с данными отправленных форм на сайте)"
      ],
      "metadata": {
        "id": "-Sv_4LwAjMoc",
        "outputId": "d4e319c9-c546-4d67-b225-f7e1bac02edd",
        "colab": {
          "base_uri": "https://localhost:8080/"
        },
        "collapsed": true
      },
      "execution_count": null,
      "outputs": [
        {
          "output_type": "stream",
          "name": "stdout",
          "text": [
            "Collecting fastapi\n",
            "  Downloading fastapi-0.111.0-py3-none-any.whl (91 kB)\n",
            "\u001b[2K     \u001b[90m━━━━━━━━━━━━━━━━━━━━━━━━━━━━━━━━━━━━━━━━\u001b[0m \u001b[32m92.0/92.0 kB\u001b[0m \u001b[31m1.0 MB/s\u001b[0m eta \u001b[36m0:00:00\u001b[0m\n",
            "\u001b[?25hCollecting starlette<0.38.0,>=0.37.2 (from fastapi)\n",
            "  Downloading starlette-0.37.2-py3-none-any.whl (71 kB)\n",
            "\u001b[2K     \u001b[90m━━━━━━━━━━━━━━━━━━━━━━━━━━━━━━━━━━━━━━━━\u001b[0m \u001b[32m71.9/71.9 kB\u001b[0m \u001b[31m3.2 MB/s\u001b[0m eta \u001b[36m0:00:00\u001b[0m\n",
            "\u001b[?25hRequirement already satisfied: pydantic!=1.8,!=1.8.1,!=2.0.0,!=2.0.1,!=2.1.0,<3.0.0,>=1.7.4 in /usr/local/lib/python3.10/dist-packages (from fastapi) (2.7.1)\n",
            "Requirement already satisfied: typing-extensions>=4.8.0 in /usr/local/lib/python3.10/dist-packages (from fastapi) (4.11.0)\n",
            "Collecting fastapi-cli>=0.0.2 (from fastapi)\n",
            "  Downloading fastapi_cli-0.0.3-py3-none-any.whl (9.2 kB)\n",
            "Collecting httpx>=0.23.0 (from fastapi)\n",
            "  Downloading httpx-0.27.0-py3-none-any.whl (75 kB)\n",
            "\u001b[2K     \u001b[90m━━━━━━━━━━━━━━━━━━━━━━━━━━━━━━━━━━━━━━━━\u001b[0m \u001b[32m75.6/75.6 kB\u001b[0m \u001b[31m4.1 MB/s\u001b[0m eta \u001b[36m0:00:00\u001b[0m\n",
            "\u001b[?25hRequirement already satisfied: jinja2>=2.11.2 in /usr/local/lib/python3.10/dist-packages (from fastapi) (3.1.4)\n",
            "Collecting python-multipart>=0.0.7 (from fastapi)\n",
            "  Downloading python_multipart-0.0.9-py3-none-any.whl (22 kB)\n",
            "Collecting ujson!=4.0.2,!=4.1.0,!=4.2.0,!=4.3.0,!=5.0.0,!=5.1.0,>=4.0.1 (from fastapi)\n",
            "  Downloading ujson-5.10.0-cp310-cp310-manylinux_2_17_x86_64.manylinux2014_x86_64.whl (53 kB)\n",
            "\u001b[2K     \u001b[90m━━━━━━━━━━━━━━━━━━━━━━━━━━━━━━━━━━━━━━━━\u001b[0m \u001b[32m53.6/53.6 kB\u001b[0m \u001b[31m1.7 MB/s\u001b[0m eta \u001b[36m0:00:00\u001b[0m\n",
            "\u001b[?25hCollecting orjson>=3.2.1 (from fastapi)\n",
            "  Downloading orjson-3.10.3-cp310-cp310-manylinux_2_17_x86_64.manylinux2014_x86_64.whl (142 kB)\n",
            "\u001b[2K     \u001b[90m━━━━━━━━━━━━━━━━━━━━━━━━━━━━━━━━━━━━━━━━\u001b[0m \u001b[32m142.5/142.5 kB\u001b[0m \u001b[31m1.7 MB/s\u001b[0m eta \u001b[36m0:00:00\u001b[0m\n",
            "\u001b[?25hCollecting email_validator>=2.0.0 (from fastapi)\n",
            "  Downloading email_validator-2.1.1-py3-none-any.whl (30 kB)\n",
            "Collecting uvicorn[standard]>=0.12.0 (from fastapi)\n",
            "  Downloading uvicorn-0.29.0-py3-none-any.whl (60 kB)\n",
            "\u001b[2K     \u001b[90m━━━━━━━━━━━━━━━━━━━━━━━━━━━━━━━━━━━━━━━━\u001b[0m \u001b[32m60.8/60.8 kB\u001b[0m \u001b[31m4.7 MB/s\u001b[0m eta \u001b[36m0:00:00\u001b[0m\n",
            "\u001b[?25hCollecting dnspython>=2.0.0 (from email_validator>=2.0.0->fastapi)\n",
            "  Downloading dnspython-2.6.1-py3-none-any.whl (307 kB)\n",
            "\u001b[2K     \u001b[90m━━━━━━━━━━━━━━━━━━━━━━━━━━━━━━━━━━━━━━━━\u001b[0m \u001b[32m307.7/307.7 kB\u001b[0m \u001b[31m16.0 MB/s\u001b[0m eta \u001b[36m0:00:00\u001b[0m\n",
            "\u001b[?25hRequirement already satisfied: idna>=2.0.0 in /usr/local/lib/python3.10/dist-packages (from email_validator>=2.0.0->fastapi) (3.7)\n",
            "Collecting typer>=0.12.3 (from fastapi-cli>=0.0.2->fastapi)\n",
            "  Downloading typer-0.12.3-py3-none-any.whl (47 kB)\n",
            "\u001b[2K     \u001b[90m━━━━━━━━━━━━━━━━━━━━━━━━━━━━━━━━━━━━━━━━\u001b[0m \u001b[32m47.2/47.2 kB\u001b[0m \u001b[31m1.6 MB/s\u001b[0m eta \u001b[36m0:00:00\u001b[0m\n",
            "\u001b[?25hRequirement already satisfied: anyio in /usr/local/lib/python3.10/dist-packages (from httpx>=0.23.0->fastapi) (3.7.1)\n",
            "Requirement already satisfied: certifi in /usr/local/lib/python3.10/dist-packages (from httpx>=0.23.0->fastapi) (2024.2.2)\n",
            "Collecting httpcore==1.* (from httpx>=0.23.0->fastapi)\n",
            "  Downloading httpcore-1.0.5-py3-none-any.whl (77 kB)\n",
            "\u001b[2K     \u001b[90m━━━━━━━━━━━━━━━━━━━━━━━━━━━━━━━━━━━━━━━━\u001b[0m \u001b[32m77.9/77.9 kB\u001b[0m \u001b[31m2.6 MB/s\u001b[0m eta \u001b[36m0:00:00\u001b[0m\n",
            "\u001b[?25hRequirement already satisfied: sniffio in /usr/local/lib/python3.10/dist-packages (from httpx>=0.23.0->fastapi) (1.3.1)\n",
            "Collecting h11<0.15,>=0.13 (from httpcore==1.*->httpx>=0.23.0->fastapi)\n",
            "  Downloading h11-0.14.0-py3-none-any.whl (58 kB)\n",
            "\u001b[2K     \u001b[90m━━━━━━━━━━━━━━━━━━━━━━━━━━━━━━━━━━━━━━━━\u001b[0m \u001b[32m58.3/58.3 kB\u001b[0m \u001b[31m2.4 MB/s\u001b[0m eta \u001b[36m0:00:00\u001b[0m\n",
            "\u001b[?25hRequirement already satisfied: MarkupSafe>=2.0 in /usr/local/lib/python3.10/dist-packages (from jinja2>=2.11.2->fastapi) (2.1.5)\n",
            "Requirement already satisfied: annotated-types>=0.4.0 in /usr/local/lib/python3.10/dist-packages (from pydantic!=1.8,!=1.8.1,!=2.0.0,!=2.0.1,!=2.1.0,<3.0.0,>=1.7.4->fastapi) (0.6.0)\n",
            "Requirement already satisfied: pydantic-core==2.18.2 in /usr/local/lib/python3.10/dist-packages (from pydantic!=1.8,!=1.8.1,!=2.0.0,!=2.0.1,!=2.1.0,<3.0.0,>=1.7.4->fastapi) (2.18.2)\n",
            "Requirement already satisfied: click>=7.0 in /usr/local/lib/python3.10/dist-packages (from uvicorn[standard]>=0.12.0->fastapi) (8.1.7)\n",
            "Collecting httptools>=0.5.0 (from uvicorn[standard]>=0.12.0->fastapi)\n",
            "  Downloading httptools-0.6.1-cp310-cp310-manylinux_2_5_x86_64.manylinux1_x86_64.manylinux_2_17_x86_64.manylinux2014_x86_64.whl (341 kB)\n",
            "\u001b[2K     \u001b[90m━━━━━━━━━━━━━━━━━━━━━━━━━━━━━━━━━━━━━━━━\u001b[0m \u001b[32m341.4/341.4 kB\u001b[0m \u001b[31m16.1 MB/s\u001b[0m eta \u001b[36m0:00:00\u001b[0m\n",
            "\u001b[?25hCollecting python-dotenv>=0.13 (from uvicorn[standard]>=0.12.0->fastapi)\n",
            "  Downloading python_dotenv-1.0.1-py3-none-any.whl (19 kB)\n",
            "Requirement already satisfied: pyyaml>=5.1 in /usr/local/lib/python3.10/dist-packages (from uvicorn[standard]>=0.12.0->fastapi) (6.0.1)\n",
            "Collecting uvloop!=0.15.0,!=0.15.1,>=0.14.0 (from uvicorn[standard]>=0.12.0->fastapi)\n",
            "  Downloading uvloop-0.19.0-cp310-cp310-manylinux_2_17_x86_64.manylinux2014_x86_64.whl (3.4 MB)\n",
            "\u001b[2K     \u001b[90m━━━━━━━━━━━━━━━━━━━━━━━━━━━━━━━━━━━━━━━━\u001b[0m \u001b[32m3.4/3.4 MB\u001b[0m \u001b[31m19.3 MB/s\u001b[0m eta \u001b[36m0:00:00\u001b[0m\n",
            "\u001b[?25hCollecting watchfiles>=0.13 (from uvicorn[standard]>=0.12.0->fastapi)\n",
            "  Downloading watchfiles-0.21.0-cp310-cp310-manylinux_2_17_x86_64.manylinux2014_x86_64.whl (1.3 MB)\n",
            "\u001b[2K     \u001b[90m━━━━━━━━━━━━━━━━━━━━━━━━━━━━━━━━━━━━━━━━\u001b[0m \u001b[32m1.3/1.3 MB\u001b[0m \u001b[31m23.9 MB/s\u001b[0m eta \u001b[36m0:00:00\u001b[0m\n",
            "\u001b[?25hCollecting websockets>=10.4 (from uvicorn[standard]>=0.12.0->fastapi)\n",
            "  Downloading websockets-12.0-cp310-cp310-manylinux_2_5_x86_64.manylinux1_x86_64.manylinux_2_17_x86_64.manylinux2014_x86_64.whl (130 kB)\n",
            "\u001b[2K     \u001b[90m━━━━━━━━━━━━━━━━━━━━━━━━━━━━━━━━━━━━━━━━\u001b[0m \u001b[32m130.2/130.2 kB\u001b[0m \u001b[31m3.1 MB/s\u001b[0m eta \u001b[36m0:00:00\u001b[0m\n",
            "\u001b[?25hRequirement already satisfied: exceptiongroup in /usr/local/lib/python3.10/dist-packages (from anyio->httpx>=0.23.0->fastapi) (1.2.1)\n",
            "Collecting shellingham>=1.3.0 (from typer>=0.12.3->fastapi-cli>=0.0.2->fastapi)\n",
            "  Downloading shellingham-1.5.4-py2.py3-none-any.whl (9.8 kB)\n",
            "Requirement already satisfied: rich>=10.11.0 in /usr/local/lib/python3.10/dist-packages (from typer>=0.12.3->fastapi-cli>=0.0.2->fastapi) (13.7.1)\n",
            "Requirement already satisfied: markdown-it-py>=2.2.0 in /usr/local/lib/python3.10/dist-packages (from rich>=10.11.0->typer>=0.12.3->fastapi-cli>=0.0.2->fastapi) (3.0.0)\n",
            "Requirement already satisfied: pygments<3.0.0,>=2.13.0 in /usr/local/lib/python3.10/dist-packages (from rich>=10.11.0->typer>=0.12.3->fastapi-cli>=0.0.2->fastapi) (2.16.1)\n",
            "Requirement already satisfied: mdurl~=0.1 in /usr/local/lib/python3.10/dist-packages (from markdown-it-py>=2.2.0->rich>=10.11.0->typer>=0.12.3->fastapi-cli>=0.0.2->fastapi) (0.1.2)\n",
            "Installing collected packages: websockets, uvloop, ujson, shellingham, python-multipart, python-dotenv, orjson, httptools, h11, dnspython, watchfiles, uvicorn, starlette, httpcore, email_validator, typer, httpx, fastapi-cli, fastapi\n",
            "  Attempting uninstall: typer\n",
            "    Found existing installation: typer 0.9.4\n",
            "    Uninstalling typer-0.9.4:\n",
            "      Successfully uninstalled typer-0.9.4\n",
            "\u001b[31mERROR: pip's dependency resolver does not currently take into account all the packages that are installed. This behaviour is the source of the following dependency conflicts.\n",
            "spacy 3.7.4 requires typer<0.10.0,>=0.3.0, but you have typer 0.12.3 which is incompatible.\n",
            "weasel 0.3.4 requires typer<0.10.0,>=0.3.0, but you have typer 0.12.3 which is incompatible.\u001b[0m\u001b[31m\n",
            "\u001b[0mSuccessfully installed dnspython-2.6.1 email_validator-2.1.1 fastapi-0.111.0 fastapi-cli-0.0.3 h11-0.14.0 httpcore-1.0.5 httptools-0.6.1 httpx-0.27.0 orjson-3.10.3 python-dotenv-1.0.1 python-multipart-0.0.9 shellingham-1.5.4 starlette-0.37.2 typer-0.12.3 ujson-5.10.0 uvicorn-0.29.0 uvloop-0.19.0 watchfiles-0.21.0 websockets-12.0\n",
            "Requirement already satisfied: uvicorn in /usr/local/lib/python3.10/dist-packages (0.29.0)\n",
            "Requirement already satisfied: click>=7.0 in /usr/local/lib/python3.10/dist-packages (from uvicorn) (8.1.7)\n",
            "Requirement already satisfied: h11>=0.8 in /usr/local/lib/python3.10/dist-packages (from uvicorn) (0.14.0)\n",
            "Requirement already satisfied: typing-extensions>=4.0 in /usr/local/lib/python3.10/dist-packages (from uvicorn) (4.11.0)\n",
            "Requirement already satisfied: python-multipart in /usr/local/lib/python3.10/dist-packages (0.0.9)\n"
          ]
        }
      ]
    },
    {
      "cell_type": "code",
      "source": [
        "%%writefile main.py\n",
        "from typing_extensions import AsyncIterator\n",
        "from fastapi import FastAPI, File, UploadFile\n",
        "from io import BytesIO\n",
        "import pandas as pd\n",
        "from sklearn.preprocessing import MinMaxScaler\n",
        "from keras.preprocessing.sequence import TimeseriesGenerator\n",
        "from fastapi.responses import PlainTextResponse\n",
        "import keras\n",
        "from pickle import load\n",
        "# import os\n",
        "import shutil\n",
        "import json\n",
        "\n",
        "\n",
        "app = FastAPI()\n",
        "\n",
        "# scaler = 0\n",
        "# model = 0\n",
        "\n",
        "# Получение датафрейма\n",
        "def get_df(path_df):\n",
        "  headers = ['Date', 'Open_price', 'Highest_price', 'Lower_price', 'Close_price', 'Volume']\n",
        "  df = pd.read_csv(path_df, header=None, names=headers, index_col='Date', parse_dates=['Date'])\n",
        "  df.drop(columns=['Volume'], inplace=True)\n",
        "  return df\n",
        "\n",
        "# Функция для получения нормализатора\n",
        "def get_scaler(path):\n",
        "  scaler = load(open(path, 'rb'))\n",
        "\n",
        "  # Возвращаю нормализатор\n",
        "  return scaler\n",
        "\n",
        "\n",
        "# Разбиение на выборку\n",
        "def get_x_test(df, scaler):\n",
        "  test_data = df[:31]\n",
        "  scaled_test_data = scaler.transform(test_data)\n",
        "  n_input = 30\n",
        "  tester = TimeseriesGenerator(scaled_test_data, scaled_test_data, length=n_input, batch_size=scaled_test_data.shape[0])\n",
        "  x_test, y_test = tester[0]\n",
        "  return x_test\n",
        "\n",
        "# Функция расчета результата предсказания\n",
        "def get_pred(model, # модель\n",
        "             x_test,\n",
        "            #  y_test, # тестовая выборка\n",
        "             y_scaler): # масштабирующий объект для y\n",
        "\n",
        "  # Вычисление и деномализация предсказания\n",
        "  y_pred_unscaled = y_scaler.inverse_transform(model.predict(x_test, verbose=0))\n",
        "\n",
        "  # Возврат результата предсказания\n",
        "  return y_pred_unscaled\n",
        "\n",
        "# Это было раньше для подготовки модели\n",
        "# Пришлось все в метод post перенести\n",
        "@app.get(\"/prepare_model\")\n",
        "def prepare_model():\n",
        "  # Путь на сервере для загрузки модели\n",
        "\n",
        "\n",
        "  try:\n",
        "    # Загружаю модель\n",
        "\n",
        "\n",
        "    return {\"Получилось\": \"Модель подготовлена\"}\n",
        "\n",
        "  except Exception as e:\n",
        "    return {\"Неполучилось\": e.args}\n",
        "\n",
        "\n",
        "\n",
        "\n",
        "# @app.get(\"/train_scaler\", response_class = PlainTextResponse)\n",
        "# async def upload_train(file: UploadFile):\n",
        "#   return {\"filename\": file.filename}\n",
        "  # # Распаковка предобученной модели\n",
        "  # !unzip '16_model.zip'\n",
        "\n",
        "  # # Получение модели\n",
        "  # model = keras.models.load_model('16_model')\n",
        "  # scaler = get_scaler(file)\n",
        "  # return 'Получилось'\n",
        "\n",
        "\n",
        "\n",
        "@app.post(\"/upload\")\n",
        "def upload(file: UploadFile = File(...)):\n",
        "  # Сохраняю файл\n",
        "  try:\n",
        "    os.mkdir(\"Client\")\n",
        "    file_path = f\"./Client/{file.filename}\"\n",
        "    with open(file_path, \"wb\") as f:\n",
        "      f.write(file.file.read())\n",
        "      file.close()\n",
        "      file.file.close()\n",
        "\n",
        "    # Получаю датафрейм\n",
        "    df = get_df(file_path)\n",
        "\n",
        "\n",
        "    # Путь на сервере для загрузки scaler-а\n",
        "    path_scaler = './Server/scaler.pkl'\n",
        "\n",
        "    # Получаю нормализаор\n",
        "    scaler = get_scaler(path_scaler)\n",
        "\n",
        "    # Получаю выборку\n",
        "    x_test = get_x_test(df, scaler)\n",
        "\n",
        "    # Путь до предобученной модели\n",
        "    path_model = './Server/load_model.keras'\n",
        "\n",
        "    # Загружаю модель\n",
        "    model = keras.models.load_model(path_model)\n",
        "\n",
        "    # Предсказываю\n",
        "    y_pred = get_pred(model, x_test, scaler)\n",
        "\n",
        "    # Удаляю папку\n",
        "    shutil.rmtree(\"./Client\")\n",
        "\n",
        "    return json.dumps(y_pred.tolist())\n",
        "\n",
        "  except Exception as e:\n",
        "    return {\"message\": e.args}\n",
        "  # try:\n",
        "  #   df = get_df(file)\n",
        "  #   x_test = get_x_test(df)\n",
        "  #   y_pred = get_pred(model, x_test, scaler)\n",
        "  #   return 'yes'\n",
        "  # except Exception as e:\n",
        "  #   return {'Ошибка': e.args}\n",
        "  # return {\"message\": f\"y_pred = {y_pred}\"}\n"
      ],
      "metadata": {
        "id": "1j9YhMsUjREr",
        "colab": {
          "base_uri": "https://localhost:8080/"
        },
        "outputId": "1b57178b-b9ee-4adb-c613-1b4079dd04ea"
      },
      "execution_count": null,
      "outputs": [
        {
          "output_type": "stream",
          "name": "stdout",
          "text": [
            "Overwriting main.py\n"
          ]
        }
      ]
    },
    {
      "cell_type": "code",
      "source": [
        "!nohup uvicorn main:app --reload &"
      ],
      "metadata": {
        "id": "2uP-0X29jWxU",
        "outputId": "99a69a3a-27b8-41c7-bc84-ebc8959137be",
        "colab": {
          "base_uri": "https://localhost:8080/"
        }
      },
      "execution_count": null,
      "outputs": [
        {
          "output_type": "stream",
          "name": "stdout",
          "text": [
            "nohup: appending output to 'nohup.out'\n"
          ]
        }
      ]
    },
    {
      "cell_type": "code",
      "source": [
        "import requests\n",
        "response = requests.get('http://127.0.0.1:8000/prepare_model')\n",
        "print(response.status_code)\n",
        "print(response.text)"
      ],
      "metadata": {
        "colab": {
          "base_uri": "https://localhost:8080/"
        },
        "id": "mBUuCgELSTTA",
        "outputId": "a2caa2ba-1913-4508-f30b-af718021a824"
      },
      "execution_count": null,
      "outputs": [
        {
          "output_type": "stream",
          "name": "stdout",
          "text": [
            "200\n",
            "{\"Получилось\":\"Модель подготовлена\"}\n"
          ]
        }
      ]
    },
    {
      "cell_type": "code",
      "source": [
        "import requests\n",
        "myurl = 'http://127.0.0.1:8000/upload'\n",
        "files = {'file': open('./1.csv', 'rb')}\n",
        "getdata = requests.post(myurl, files=files)\n",
        "print(f'Предсказание: {getdata.text}')"
      ],
      "metadata": {
        "colab": {
          "base_uri": "https://localhost:8080/"
        },
        "id": "pw9ZN4VAL69u",
        "outputId": "fc80b1ea-f83f-4594-c65d-eea694e75d0c"
      },
      "execution_count": null,
      "outputs": [
        {
          "output_type": "stream",
          "name": "stdout",
          "text": [
            "Предсказание: \"[[41.76048278808594, 42.46329116821289, 41.11382293701172, 42.07912063598633]]\"\n"
          ]
        }
      ]
    },
    {
      "cell_type": "code",
      "source": [
        "!ssh -o \"StrictHostKeyChecking no\" -R 80:localhost:8000 serveo.net\n",
        "# !ssh -o \"StrictHostKeyChecking no\" -R 80:localhost:8000 nokey@localhost.run"
      ],
      "metadata": {
        "id": "l3VnWzIJjbmG",
        "outputId": "b9a8ae17-066c-401b-8f62-36e31f19ab9e",
        "colab": {
          "base_uri": "https://localhost:8080/"
        }
      },
      "execution_count": null,
      "outputs": [
        {
          "output_type": "stream",
          "name": "stdout",
          "text": [
            "Warning: Permanently added 'serveo.net' (RSA) to the list of known hosts.\n",
            "\u001b[32mForwarding HTTP traffic from https://497d545897e7c1625a0a2ca9e40b1965.serveo.net\n",
            "\u001b[0mHTTP request from 217.22.172.178 to https://497d545897e7c1625a0a2ca9e40b1965.serveo.net/\n",
            "HTTP request from 217.22.172.178 to https://497d545897e7c1625a0a2ca9e40b1965.serveo.net/favicon.ico\n",
            "HTTP request from 217.22.172.178 to https://497d545897e7c1625a0a2ca9e40b1965.serveo.net/docs\n",
            "HTTP request from 217.22.172.178 to https://497d545897e7c1625a0a2ca9e40b1965.serveo.net/docs\n"
          ]
        }
      ]
    }
  ]
}