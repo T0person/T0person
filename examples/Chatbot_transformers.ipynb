{
  "cells": [
    {
      "cell_type": "markdown",
      "metadata": {
        "id": "HRKbngj1Dktm"
      },
      "source": [
        "# Установка"
      ]
    },
    {
      "cell_type": "code",
      "execution_count": null,
      "metadata": {
        "colab": {
          "base_uri": "https://localhost:8080/"
        },
        "collapsed": true,
        "id": "B_pTe_SSzNXl",
        "outputId": "4626cc42-e7ce-44d2-e71c-34f49e96778e"
      },
      "outputs": [
        {
          "output_type": "stream",
          "name": "stdout",
          "text": [
            "Reading package lists... Done\n",
            "Building dependency tree... Done\n",
            "Reading state information... Done\n",
            "\u001b[1;31mE: \u001b[0mUnable to locate package libcudnn8\u001b[0m\n",
            "Requirement already satisfied: protobuf~=3.20.3 in /usr/local/lib/python3.10/dist-packages (3.20.3)\n",
            "\u001b[2K     \u001b[90m━━━━━━━━━━━━━━━━━━━━━━━━━━━━━━━━━━━━━━━━\u001b[0m \u001b[32m47.8/47.8 kB\u001b[0m \u001b[31m818.6 kB/s\u001b[0m eta \u001b[36m0:00:00\u001b[0m\n",
            "\u001b[2K   \u001b[90m━━━━━━━━━━━━━━━━━━━━━━━━━━━━━━━━━━━━━━━━\u001b[0m \u001b[32m5.2/5.2 MB\u001b[0m \u001b[31m2.1 MB/s\u001b[0m eta \u001b[36m0:00:00\u001b[0m\n",
            "\u001b[2K   \u001b[90m━━━━━━━━━━━━━━━━━━━━━━━━━━━━━━━━━━━━━━━━\u001b[0m \u001b[32m601.3/601.3 MB\u001b[0m \u001b[31m1.4 MB/s\u001b[0m eta \u001b[36m0:00:00\u001b[0m\n",
            "\u001b[2K   \u001b[90m━━━━━━━━━━━━━━━━━━━━━━━━━━━━━━━━━━━━━━━━\u001b[0m \u001b[32m1.1/1.1 MB\u001b[0m \u001b[31m7.6 MB/s\u001b[0m eta \u001b[36m0:00:00\u001b[0m\n",
            "\u001b[2K   \u001b[90m━━━━━━━━━━━━━━━━━━━━━━━━━━━━━━━━━━━━━━━━\u001b[0m \u001b[32m2.2/2.2 MB\u001b[0m \u001b[31m7.9 MB/s\u001b[0m eta \u001b[36m0:00:00\u001b[0m\n",
            "\u001b[2K   \u001b[90m━━━━━━━━━━━━━━━━━━━━━━━━━━━━━━━━━━━━━━━━\u001b[0m \u001b[32m5.5/5.5 MB\u001b[0m \u001b[31m8.4 MB/s\u001b[0m eta \u001b[36m0:00:00\u001b[0m\n",
            "\u001b[2K   \u001b[90m━━━━━━━━━━━━━━━━━━━━━━━━━━━━━━━━━━━━━━━━\u001b[0m \u001b[32m347.7/347.7 kB\u001b[0m \u001b[31m6.9 MB/s\u001b[0m eta \u001b[36m0:00:00\u001b[0m\n",
            "\u001b[?25h\u001b[31mERROR: pip's dependency resolver does not currently take into account all the packages that are installed. This behaviour is the source of the following dependency conflicts.\n",
            "tf-keras 2.15.1 requires tensorflow<2.16,>=2.15, but you have tensorflow 2.17.0 which is incompatible.\u001b[0m\u001b[31m\n",
            "\u001b[0mCollecting datasets\n",
            "  Downloading datasets-3.0.0-py3-none-any.whl.metadata (19 kB)\n",
            "Requirement already satisfied: filelock in /usr/local/lib/python3.10/dist-packages (from datasets) (3.16.1)\n",
            "Requirement already satisfied: numpy>=1.17 in /usr/local/lib/python3.10/dist-packages (from datasets) (1.26.4)\n",
            "Requirement already satisfied: pyarrow>=15.0.0 in /usr/local/lib/python3.10/dist-packages (from datasets) (17.0.0)\n",
            "Collecting dill<0.3.9,>=0.3.0 (from datasets)\n",
            "  Downloading dill-0.3.8-py3-none-any.whl.metadata (10 kB)\n",
            "Requirement already satisfied: pandas in /usr/local/lib/python3.10/dist-packages (from datasets) (2.1.4)\n",
            "Requirement already satisfied: requests>=2.32.2 in /usr/local/lib/python3.10/dist-packages (from datasets) (2.32.3)\n",
            "Requirement already satisfied: tqdm>=4.66.3 in /usr/local/lib/python3.10/dist-packages (from datasets) (4.66.5)\n",
            "Collecting xxhash (from datasets)\n",
            "  Downloading xxhash-3.5.0-cp310-cp310-manylinux_2_17_x86_64.manylinux2014_x86_64.whl.metadata (12 kB)\n",
            "Collecting multiprocess (from datasets)\n",
            "  Downloading multiprocess-0.70.16-py310-none-any.whl.metadata (7.2 kB)\n",
            "Collecting fsspec<=2024.6.1,>=2023.1.0 (from fsspec[http]<=2024.6.1,>=2023.1.0->datasets)\n",
            "  Downloading fsspec-2024.6.1-py3-none-any.whl.metadata (11 kB)\n",
            "Collecting aiohttp (from datasets)\n",
            "  Downloading aiohttp-3.10.5-cp310-cp310-manylinux_2_17_x86_64.manylinux2014_x86_64.whl.metadata (7.5 kB)\n",
            "Requirement already satisfied: huggingface-hub>=0.22.0 in /usr/local/lib/python3.10/dist-packages (from datasets) (0.24.7)\n",
            "Requirement already satisfied: packaging in /usr/local/lib/python3.10/dist-packages (from datasets) (24.1)\n",
            "Requirement already satisfied: pyyaml>=5.1 in /usr/local/lib/python3.10/dist-packages (from datasets) (6.0.2)\n",
            "Collecting aiohappyeyeballs>=2.3.0 (from aiohttp->datasets)\n",
            "  Downloading aiohappyeyeballs-2.4.0-py3-none-any.whl.metadata (5.9 kB)\n",
            "Collecting aiosignal>=1.1.2 (from aiohttp->datasets)\n",
            "  Downloading aiosignal-1.3.1-py3-none-any.whl.metadata (4.0 kB)\n",
            "Requirement already satisfied: attrs>=17.3.0 in /usr/local/lib/python3.10/dist-packages (from aiohttp->datasets) (24.2.0)\n",
            "Collecting frozenlist>=1.1.1 (from aiohttp->datasets)\n",
            "  Downloading frozenlist-1.4.1-cp310-cp310-manylinux_2_5_x86_64.manylinux1_x86_64.manylinux_2_17_x86_64.manylinux2014_x86_64.whl.metadata (12 kB)\n",
            "Collecting multidict<7.0,>=4.5 (from aiohttp->datasets)\n",
            "  Downloading multidict-6.1.0-cp310-cp310-manylinux_2_17_x86_64.manylinux2014_x86_64.whl.metadata (5.0 kB)\n",
            "Collecting yarl<2.0,>=1.0 (from aiohttp->datasets)\n",
            "  Downloading yarl-1.11.1-cp310-cp310-manylinux_2_17_x86_64.manylinux2014_x86_64.whl.metadata (48 kB)\n",
            "\u001b[2K     \u001b[90m━━━━━━━━━━━━━━━━━━━━━━━━━━━━━━━━━━━━━━━━\u001b[0m \u001b[32m48.2/48.2 kB\u001b[0m \u001b[31m934.8 kB/s\u001b[0m eta \u001b[36m0:00:00\u001b[0m\n",
            "\u001b[?25hCollecting async-timeout<5.0,>=4.0 (from aiohttp->datasets)\n",
            "  Downloading async_timeout-4.0.3-py3-none-any.whl.metadata (4.2 kB)\n",
            "Requirement already satisfied: typing-extensions>=3.7.4.3 in /usr/local/lib/python3.10/dist-packages (from huggingface-hub>=0.22.0->datasets) (4.12.2)\n",
            "Requirement already satisfied: charset-normalizer<4,>=2 in /usr/local/lib/python3.10/dist-packages (from requests>=2.32.2->datasets) (3.3.2)\n",
            "Requirement already satisfied: idna<4,>=2.5 in /usr/local/lib/python3.10/dist-packages (from requests>=2.32.2->datasets) (3.10)\n",
            "Requirement already satisfied: urllib3<3,>=1.21.1 in /usr/local/lib/python3.10/dist-packages (from requests>=2.32.2->datasets) (2.0.7)\n",
            "Requirement already satisfied: certifi>=2017.4.17 in /usr/local/lib/python3.10/dist-packages (from requests>=2.32.2->datasets) (2024.8.30)\n",
            "Requirement already satisfied: python-dateutil>=2.8.2 in /usr/local/lib/python3.10/dist-packages (from pandas->datasets) (2.9.0.post0)\n",
            "Requirement already satisfied: pytz>=2020.1 in /usr/local/lib/python3.10/dist-packages (from pandas->datasets) (2024.2)\n",
            "Requirement already satisfied: tzdata>=2022.1 in /usr/local/lib/python3.10/dist-packages (from pandas->datasets) (2024.1)\n",
            "Requirement already satisfied: six>=1.5 in /usr/local/lib/python3.10/dist-packages (from python-dateutil>=2.8.2->pandas->datasets) (1.16.0)\n",
            "Downloading datasets-3.0.0-py3-none-any.whl (474 kB)\n",
            "\u001b[2K   \u001b[90m━━━━━━━━━━━━━━━━━━━━━━━━━━━━━━━━━━━━━━━━\u001b[0m \u001b[32m474.3/474.3 kB\u001b[0m \u001b[31m5.4 MB/s\u001b[0m eta \u001b[36m0:00:00\u001b[0m\n",
            "\u001b[?25hDownloading dill-0.3.8-py3-none-any.whl (116 kB)\n",
            "\u001b[2K   \u001b[90m━━━━━━━━━━━━━━━━━━━━━━━━━━━━━━━━━━━━━━━━\u001b[0m \u001b[32m116.3/116.3 kB\u001b[0m \u001b[31m7.3 MB/s\u001b[0m eta \u001b[36m0:00:00\u001b[0m\n",
            "\u001b[?25hDownloading fsspec-2024.6.1-py3-none-any.whl (177 kB)\n",
            "\u001b[2K   \u001b[90m━━━━━━━━━━━━━━━━━━━━━━━━━━━━━━━━━━━━━━━━\u001b[0m \u001b[32m177.6/177.6 kB\u001b[0m \u001b[31m10.6 MB/s\u001b[0m eta \u001b[36m0:00:00\u001b[0m\n",
            "\u001b[?25hDownloading aiohttp-3.10.5-cp310-cp310-manylinux_2_17_x86_64.manylinux2014_x86_64.whl (1.2 MB)\n",
            "\u001b[2K   \u001b[90m━━━━━━━━━━━━━━━━━━━━━━━━━━━━━━━━━━━━━━━━\u001b[0m \u001b[32m1.2/1.2 MB\u001b[0m \u001b[31m20.8 MB/s\u001b[0m eta \u001b[36m0:00:00\u001b[0m\n",
            "\u001b[?25hDownloading multiprocess-0.70.16-py310-none-any.whl (134 kB)\n",
            "\u001b[2K   \u001b[90m━━━━━━━━━━━━━━━━━━━━━━━━━━━━━━━━━━━━━━━━\u001b[0m \u001b[32m134.8/134.8 kB\u001b[0m \u001b[31m8.9 MB/s\u001b[0m eta \u001b[36m0:00:00\u001b[0m\n",
            "\u001b[?25hDownloading xxhash-3.5.0-cp310-cp310-manylinux_2_17_x86_64.manylinux2014_x86_64.whl (194 kB)\n",
            "\u001b[2K   \u001b[90m━━━━━━━━━━━━━━━━━━━━━━━━━━━━━━━━━━━━━━━━\u001b[0m \u001b[32m194.1/194.1 kB\u001b[0m \u001b[31m15.3 MB/s\u001b[0m eta \u001b[36m0:00:00\u001b[0m\n",
            "\u001b[?25hDownloading aiohappyeyeballs-2.4.0-py3-none-any.whl (12 kB)\n",
            "Downloading aiosignal-1.3.1-py3-none-any.whl (7.6 kB)\n",
            "Downloading async_timeout-4.0.3-py3-none-any.whl (5.7 kB)\n",
            "Downloading frozenlist-1.4.1-cp310-cp310-manylinux_2_5_x86_64.manylinux1_x86_64.manylinux_2_17_x86_64.manylinux2014_x86_64.whl (239 kB)\n",
            "\u001b[2K   \u001b[90m━━━━━━━━━━━━━━━━━━━━━━━━━━━━━━━━━━━━━━━━\u001b[0m \u001b[32m239.5/239.5 kB\u001b[0m \u001b[31m15.9 MB/s\u001b[0m eta \u001b[36m0:00:00\u001b[0m\n",
            "\u001b[?25hDownloading multidict-6.1.0-cp310-cp310-manylinux_2_17_x86_64.manylinux2014_x86_64.whl (124 kB)\n",
            "\u001b[2K   \u001b[90m━━━━━━━━━━━━━━━━━━━━━━━━━━━━━━━━━━━━━━━━\u001b[0m \u001b[32m124.6/124.6 kB\u001b[0m \u001b[31m8.4 MB/s\u001b[0m eta \u001b[36m0:00:00\u001b[0m\n",
            "\u001b[?25hDownloading yarl-1.11.1-cp310-cp310-manylinux_2_17_x86_64.manylinux2014_x86_64.whl (446 kB)\n",
            "\u001b[2K   \u001b[90m━━━━━━━━━━━━━━━━━━━━━━━━━━━━━━━━━━━━━━━━\u001b[0m \u001b[32m446.8/446.8 kB\u001b[0m \u001b[31m30.0 MB/s\u001b[0m eta \u001b[36m0:00:00\u001b[0m\n",
            "\u001b[?25hInstalling collected packages: xxhash, multidict, fsspec, frozenlist, dill, async-timeout, aiohappyeyeballs, yarl, multiprocess, aiosignal, aiohttp, datasets\n",
            "  Attempting uninstall: fsspec\n",
            "    Found existing installation: fsspec 2024.9.0\n",
            "    Uninstalling fsspec-2024.9.0:\n",
            "      Successfully uninstalled fsspec-2024.9.0\n",
            "Successfully installed aiohappyeyeballs-2.4.0 aiohttp-3.10.5 aiosignal-1.3.1 async-timeout-4.0.3 datasets-3.0.0 dill-0.3.8 frozenlist-1.4.1 fsspec-2024.6.1 multidict-6.1.0 multiprocess-0.70.16 xxhash-3.5.0 yarl-1.11.1\n"
          ]
        }
      ],
      "source": [
        "# Установим свежую версию TensorFlow для поддержки слоя `tf.keras.layers.MultiHeadAttention`.\n",
        "!apt install --allow-change-held-packages libcudnn8=8.1.0.77-1+cuda11.2\n",
        "!pip uninstall -y -q tensorflow keras tensorflow-estimator tensorflow-text\n",
        "!pip install protobuf~=3.20.3\n",
        "!pip install -q tensorflow_datasets\n",
        "!pip install -q -U tensorflow-text tensorflow\n",
        "!pip install datasets"
      ]
    },
    {
      "cell_type": "markdown",
      "metadata": {
        "id": "VGSnjdw3Dine"
      },
      "source": [
        "# Импорт"
      ]
    },
    {
      "cell_type": "code",
      "execution_count": null,
      "metadata": {
        "id": "Q0VIpR9sy6Oy"
      },
      "outputs": [],
      "source": [
        "# Логирование для отладки\n",
        "import logging\n",
        "\n",
        "# Замеры времени выполнения\n",
        "import time\n",
        "\n",
        "# Линейная алгебра\n",
        "import numpy as np\n",
        "\n",
        "from datasets import load_dataset\n",
        "\n",
        "import pandas as pd\n",
        "\n",
        "# Вывод графиков\n",
        "import matplotlib.pyplot as plt\n",
        "\n",
        "# Фреймворк Tensorflow\n",
        "import tensorflow_datasets as tfds\n",
        "import tensorflow as tf\n",
        "\n",
        "import tensorflow_text as text\n",
        "# Регулярные выражения\n",
        "import re\n",
        "\n",
        "# Файловая система\n",
        "import pathlib\n",
        "\n",
        "# Токенизатор\n",
        "from tensorflow_text.tools.wordpiece_vocab import bert_vocab_from_dataset as bert_vocab\n",
        "\n",
        "from sklearn.model_selection import train_test_split\n",
        "\n",
        "# Отключим мешаюшие предупреждения\n",
        "import warnings\n",
        "warnings.filterwarnings(\"ignore\")"
      ]
    },
    {
      "cell_type": "markdown",
      "source": [
        "# Предобработка данных"
      ],
      "metadata": {
        "id": "FMHJCZfYdfjZ"
      }
    },
    {
      "cell_type": "code",
      "execution_count": null,
      "metadata": {
        "id": "1OR2fKGFyBl3",
        "collapsed": true,
        "colab": {
          "base_uri": "https://localhost:8080/",
          "height": 113,
          "referenced_widgets": [
            "ad1bddeb19fe4542938c0c368e410ee6",
            "23de7df49d0b4fc38b66d118a41ba057",
            "b8a509b323974401be66e1824c9aefb2",
            "ac7e9efac7094e62a125688adf992f11",
            "26fdc720435646ca85d969ccee882bbf",
            "ecf17cd30d9a4fb3b5087645e79cb343",
            "881895fc9d2146539242ed0ada8e8353",
            "b9260cb37c284b489c99e0bb50de7e16",
            "b71018b255144ee4b8b804ba63c19e09",
            "45ad2d0e645443bdb9f432637ea0f4ff",
            "d938705d63a048b1ae9551af5d47bd98",
            "9140b3ffc26345fa9bdcf3651290617d",
            "a1393c9821e041c0967e78b0aff6b110",
            "e9de899914f84dc2bf3e6fa803ee7e86",
            "4a8f5e025e1a4b88b47e2c2816e63841",
            "187437e895844f63a433e8528dc4c1f3",
            "0459924b0877430fbf2ec0be4663cc34",
            "1db8776edada4f548de481efc09acc00",
            "849a78d7a6cb43bfb652cacf61761d91",
            "bb955b535ed04194866304772f35d866",
            "e1c57b7b03624aeaa24d6d1b08512589",
            "d2c1c4da32ab45ddbe9781446280ee57",
            "733d231c501f43f6a7ad8bc0a7a0fc5f",
            "0a2a202b97d443abb0db95ad5bc06e0f",
            "cf72c55d85ff4547a4b303e09c1fe836",
            "89084ab17cfa4248aed8d82485ed713e",
            "2b34fabf9f61417d8f403e802cac0c64",
            "577c5f8657f34193b0cd63ef79364dac",
            "5b8a242cc062435494cec8cf58c6b639",
            "3d6505293910479fbf32174d9e893c93",
            "862dd2c5595749a7975b7a5bc4c16eb7",
            "030e58585fc24023bdf2677ccb924927",
            "10849bdef26b40878ff797635d04bfcf"
          ]
        },
        "outputId": "468a4eff-9889-490a-c897-123df01c0de4"
      },
      "outputs": [
        {
          "output_type": "display_data",
          "data": {
            "text/plain": [
              "README.md:   0%|          | 0.00/951 [00:00<?, ?B/s]"
            ],
            "application/vnd.jupyter.widget-view+json": {
              "version_major": 2,
              "version_minor": 0,
              "model_id": "ad1bddeb19fe4542938c0c368e410ee6"
            }
          },
          "metadata": {}
        },
        {
          "output_type": "display_data",
          "data": {
            "text/plain": [
              "dataset.jsonl:   0%|          | 0.00/1.42G [00:00<?, ?B/s]"
            ],
            "application/vnd.jupyter.widget-view+json": {
              "version_major": 2,
              "version_minor": 0,
              "model_id": "9140b3ffc26345fa9bdcf3651290617d"
            }
          },
          "metadata": {}
        },
        {
          "output_type": "display_data",
          "data": {
            "text/plain": [
              "Generating train split:   0%|          | 0/2477321 [00:00<?, ? examples/s]"
            ],
            "application/vnd.jupyter.widget-view+json": {
              "version_major": 2,
              "version_minor": 0,
              "model_id": "733d231c501f43f6a7ad8bc0a7a0fc5f"
            }
          },
          "metadata": {}
        }
      ],
      "source": [
        "dataset = load_dataset('Den4ikAI/russian_dialogues', split='train') # Скачивание датасета\n",
        "\n",
        "df = pd.DataFrame(dataset) # Превращение в датафрей\n",
        "df = df.dropna() # Очищаю от пустых ячеек\n",
        "df = df.drop(columns=[\"relevance\"]) # Убираю ненужный столбец"
      ]
    },
    {
      "cell_type": "markdown",
      "source": [
        "## Разбиваю данные"
      ],
      "metadata": {
        "id": "MD0u7QfWeTrS"
      }
    },
    {
      "cell_type": "code",
      "execution_count": null,
      "metadata": {
        "collapsed": true,
        "id": "8d65jKUECkbq"
      },
      "outputs": [],
      "source": [
        "question_train, question_test, answer_train, answer_test = train_test_split(df[\"question\"].tolist(), df[\"answer\"].tolist(), test_size=0.2, shuffle=True)"
      ]
    },
    {
      "cell_type": "markdown",
      "source": [
        "## Превращаю в dataset"
      ],
      "metadata": {
        "id": "f5nP2HzzeXGq"
      }
    },
    {
      "cell_type": "code",
      "source": [
        "question_train, question_test, answer_train, answer_test = question_train[:40000], question_test[:10000], answer_train[:40000], answer_test[:10000]\n",
        "train_dataset = tf.data.Dataset.from_tensor_slices((question_train, answer_train))\n",
        "validation_dataset = tf.data.Dataset.from_tensor_slices((question_test, answer_test))"
      ],
      "metadata": {
        "id": "39tENQ_Kc7v2"
      },
      "execution_count": null,
      "outputs": []
    },
    {
      "cell_type": "markdown",
      "source": [
        "## Вызываем примеры"
      ],
      "metadata": {
        "id": "YIuOU1KGd77C"
      }
    },
    {
      "cell_type": "code",
      "source": [
        "print('Размер обучающей выборки: ', len(train_dataset))\n",
        "print('Размер валидационной выборки: ', len(validation_dataset))"
      ],
      "metadata": {
        "colab": {
          "base_uri": "https://localhost:8080/"
        },
        "id": "UtaMEo2beyqJ",
        "outputId": "d9f4d970-9ec6-4e0a-8bf1-fb60044b8e66"
      },
      "execution_count": null,
      "outputs": [
        {
          "output_type": "stream",
          "name": "stdout",
          "text": [
            "Размер обучающей выборки:  40000\n",
            "Размер валидационной выборки:  10000\n"
          ]
        }
      ]
    },
    {
      "cell_type": "code",
      "source": [
        "for pt_examples, en_examples in train_dataset.batch(3).take(1):\n",
        "  print('Примеры вопросов:')\n",
        "  print()\n",
        "  for pt in pt_examples.numpy():\n",
        "    print(pt.decode('utf-8'))\n",
        "  print()\n",
        "\n",
        "  print('Примеры отвтов:')\n",
        "  print()\n",
        "  for en in en_examples.numpy():\n",
        "    print(en.decode('utf-8'))"
      ],
      "metadata": {
        "colab": {
          "base_uri": "https://localhost:8080/"
        },
        "id": "40lXItrAeHmi",
        "outputId": "66e12c88-3cc7-44f4-dd0b-7b946468020e"
      },
      "execution_count": null,
      "outputs": [
        {
          "output_type": "stream",
          "name": "stdout",
          "text": [
            "Примеры вопросов:\n",
            "\n",
            "никогда, только без\n",
            "апелляционный суд одним заседанием рассматривает дело или может переносить?\n",
            "почему у всех людей разные лица, в отличие от животных? есть ли такое у каких-то животных?\n",
            "\n",
            "Примеры отвтов:\n",
            "\n",
            "там холодно\n",
            "если есть необходимость, то конечно заседание может быть отложено.\n",
            "чабаны каждую овцу знают в лицо. т. е. в морду. а вы говорите в отличие\n"
          ]
        }
      ]
    },
    {
      "cell_type": "markdown",
      "source": [
        "# Токенизация"
      ],
      "metadata": {
        "id": "CpjttWDWfFC6"
      }
    },
    {
      "cell_type": "markdown",
      "source": [
        "## Создаем BERT токенизатор"
      ],
      "metadata": {
        "id": "FJYnhxsPfIFb"
      }
    },
    {
      "cell_type": "markdown",
      "source": [
        "### Создаем словари слов"
      ],
      "metadata": {
        "id": "0ddR0QxDfL5d"
      }
    },
    {
      "cell_type": "code",
      "execution_count": null,
      "metadata": {
        "id": "3aImrrjoOfBJ"
      },
      "outputs": [],
      "source": [
        "VOCAB_SIZE = 8000\n",
        "# Параметры токенизатора (lower_case - приводим к нижнему регистру)\n",
        "bert_tokenizer_params=dict(lower_case=True)\n",
        "\n",
        "# Определяем токены, с которыми работает токенизатор\n",
        "# [START] - начало строки\n",
        "# [END]   - конец строки\n",
        "# [UNK]   - неизвестное слово\n",
        "# [PAD]   - используется для выравнивания длин всех предложений\n",
        "reserved_tokens=[\"[PAD]\", \"[UNK]\", \"[START]\", \"[END]\"]\n",
        "\n",
        "bert_vocab_args = dict(\n",
        "    # Желаемый размер словаря\n",
        "    vocab_size = VOCAB_SIZE,\n",
        "    # Токены включаемые в словарь\n",
        "    reserved_tokens=reserved_tokens,\n",
        "    # Аргументы для `text.BertTokenizer`\n",
        "    bert_tokenizer_params=bert_tokenizer_params,\n",
        "    # Аргументы для `wordpiece_vocab.wordpiece_tokenizer_learner_lib.learn`\n",
        "    learn_params={}, # не используем, но определяем чтобы не было ошибок\n",
        ")"
      ]
    },
    {
      "cell_type": "code",
      "source": [
        "# @title Вспомогательные лямбда функций\n",
        "train_answer = train_dataset.map(lambda pt, en: en)\n",
        "train_question = train_dataset.map(lambda pt, en: pt)"
      ],
      "metadata": {
        "id": "UILrxzSQfRk6"
      },
      "execution_count": null,
      "outputs": []
    },
    {
      "cell_type": "code",
      "source": [
        "%%time\n",
        "question_vocab = bert_vocab.bert_vocab_from_dataset(\n",
        "    train_question.batch(1000).prefetch(2),\n",
        "    **bert_vocab_args\n",
        ")"
      ],
      "metadata": {
        "colab": {
          "base_uri": "https://localhost:8080/"
        },
        "id": "rGEmZmlDfXhB",
        "outputId": "63468042-45c6-4de5-f1d8-e34e354b3f85"
      },
      "execution_count": null,
      "outputs": [
        {
          "output_type": "stream",
          "name": "stdout",
          "text": [
            "CPU times: user 2min 7s, sys: 630 ms, total: 2min 7s\n",
            "Wall time: 2min 6s\n"
          ]
        }
      ]
    },
    {
      "cell_type": "code",
      "source": [
        "%%time\n",
        "answer_vocab = bert_vocab.bert_vocab_from_dataset(\n",
        "    train_answer.batch(1000).prefetch(2),\n",
        "    **bert_vocab_args\n",
        ")"
      ],
      "metadata": {
        "colab": {
          "base_uri": "https://localhost:8080/"
        },
        "id": "FL0p0gZah_ut",
        "outputId": "86838cd9-1d30-4f3a-c765-088aa611b9c9"
      },
      "execution_count": null,
      "outputs": [
        {
          "output_type": "stream",
          "name": "stdout",
          "text": [
            "CPU times: user 2min 31s, sys: 664 ms, total: 2min 32s\n",
            "Wall time: 2min 31s\n"
          ]
        }
      ]
    },
    {
      "cell_type": "code",
      "source": [
        "# @title Фрагменты словаря\n",
        "print(\"Словарь вопросов\")\n",
        "print(question_vocab[:10])\n",
        "print(question_vocab[100:110])\n",
        "print(question_vocab[1000:1010])\n",
        "print(question_vocab[-10:])\n",
        "\n",
        "print(\"\\n\\nСловарь ответов\")\n",
        "print(answer_vocab[:10])\n",
        "print(answer_vocab[100:110])\n",
        "print(answer_vocab[1000:1010])\n",
        "print(answer_vocab[-10:])"
      ],
      "metadata": {
        "colab": {
          "base_uri": "https://localhost:8080/"
        },
        "id": "Dl7R7jmNht2w",
        "outputId": "13e74bfc-3dcb-4cbc-8d92-50658c69b5dd"
      },
      "execution_count": null,
      "outputs": [
        {
          "output_type": "stream",
          "name": "stdout",
          "text": [
            "Словарь вопросов\n",
            "['[PAD]', '[UNK]', '[START]', '[END]', '!', ',', '-', '.', ':', ';']\n",
            "['какие', 'бы', 'какои', 'нет', 'мне', 'будет', 'лучше', '##у', 'из', 'может']\n",
            "['поити', 'права', 'сны', 'столько', 'стране', 'украина', 'язык', '##бои', '##нки', '##рии']\n",
            "['##:', '##;', '##?', '##c', '##g', '##h', '##j', '##q', '##w', '##z']\n",
            "\n",
            "\n",
            "Словарь ответов\n",
            "['[PAD]', '[UNK]', '[START]', '[END]', '!', ',', '-', '.', ':', ';']\n",
            "['просто', 'уже', 'же', '##у', 'бы', 'он', 'они', 'вот', 'надо', 'может']\n",
            "['взгляд', 'вкусно', 'добро', 'живут', 'занимаюсь', 'каждому', 'новое', 'общем', 'права', 'прежде']\n",
            "['##;', '##?', '##h', '##i', '##j', '##m', '##q', '##v', '##w', '##z']\n"
          ]
        }
      ]
    },
    {
      "cell_type": "code",
      "source": [
        "# @title Функция сохранения словаря в файлв\n",
        "def write_vocab_file(filepath, vocab):\n",
        "  with open(filepath, 'w') as f:\n",
        "    for token in vocab:\n",
        "      print(token, file=f)"
      ],
      "metadata": {
        "id": "x9dHMi6Th07c"
      },
      "execution_count": null,
      "outputs": []
    },
    {
      "cell_type": "code",
      "source": [
        "# Сохраняем файлы\n",
        "write_vocab_file('question_vocab.txt', question_vocab)\n",
        "write_vocab_file('answer_vocab.txt', answer_vocab)\n",
        "\n",
        "# Проверка файлов\n",
        "!ls *.txt"
      ],
      "metadata": {
        "colab": {
          "base_uri": "https://localhost:8080/"
        },
        "id": "RPcm5ZASh6cr",
        "outputId": "ee9966b3-59a4-4652-b837-5e1a066131cf"
      },
      "execution_count": null,
      "outputs": [
        {
          "output_type": "stream",
          "name": "stdout",
          "text": [
            "answer_vocab.txt  question_vocab.txt\n"
          ]
        }
      ]
    },
    {
      "cell_type": "code",
      "source": [
        "# @title Загружаем токенизаторы\n",
        "question_tokenizer = text.BertTokenizer('question_vocab.txt', **bert_tokenizer_params)\n",
        "answer_tokenizer = text.BertTokenizer('answer_vocab.txt', **bert_tokenizer_params)"
      ],
      "metadata": {
        "id": "BJXrj5e7SLFf"
      },
      "execution_count": null,
      "outputs": []
    },
    {
      "cell_type": "code",
      "source": [
        "print('Отберем строки для примера:')\n",
        "for pt_examples, en_examples in train_dataset.batch(3).take(1):\n",
        "  for ex in en_examples:\n",
        "    print(ex.numpy().decode('utf-8'))"
      ],
      "metadata": {
        "colab": {
          "base_uri": "https://localhost:8080/"
        },
        "id": "546zoGuKBogT",
        "outputId": "3f001622-5cf9-4160-fab1-d20463a0838b"
      },
      "execution_count": null,
      "outputs": [
        {
          "output_type": "stream",
          "name": "stdout",
          "text": [
            "Отберем строки для примера:\n",
            "там холодно\n",
            "если есть необходимость, то конечно заседание может быть отложено.\n",
            "чабаны каждую овцу знают в лицо. т. е. в морду. а вы говорите в отличие\n"
          ]
        }
      ]
    },
    {
      "cell_type": "code",
      "source": [
        "# Токенизируем примеры и получаем тензор формы (batch, word, word-piece)\n",
        "token_batch = answer_tokenizer.tokenize(en_examples)\n",
        "# Объединяем оси word и word-piece и получаем тензор формы (batch, tokens)\n",
        "token_batch = token_batch.merge_dims(-2,-1)\n",
        "\n",
        "print('Токенизируем отобранные строки:')\n",
        "for ex in token_batch.to_list():\n",
        "  print(ex)"
      ],
      "metadata": {
        "colab": {
          "base_uri": "https://localhost:8080/"
        },
        "id": "Y41vRf-JBs4S",
        "outputId": "13363d93-c1b3-4d2b-9e7f-d2edca908296"
      },
      "execution_count": null,
      "outputs": [
        {
          "output_type": "stream",
          "name": "stdout",
          "text": [
            "Токенизируем отобранные строки:\n",
            "[114, 2469]\n",
            "[75, 85, 2706, 5, 72, 132, 98, 835, 2747, 109, 119, 86, 414, 5458, 7]\n",
            "[59, 84, 783, 210, 3664, 50, 200, 1114, 753, 39, 1365, 7, 54, 7, 42, 7, 39, 48, 642, 448, 7, 37, 110, 2193, 39, 3215]\n"
          ]
        }
      ]
    },
    {
      "cell_type": "code",
      "source": [
        "words = answer_tokenizer.detokenize(token_batch)\n",
        "print('Проверим обратное преобразование:')\n",
        "\n",
        "# Объединение полученного тензора в текст, объединяем пробелами\n",
        "print(tf.strings.reduce_join(words, separator=' ', axis=-1))\n"
      ],
      "metadata": {
        "colab": {
          "base_uri": "https://localhost:8080/"
        },
        "id": "07b_Dnmkeg3N",
        "outputId": "0ec14819-10e0-437b-fbcb-39ecd16df84a"
      },
      "execution_count": null,
      "outputs": [
        {
          "output_type": "stream",
          "name": "stdout",
          "text": [
            "Проверим обратное преобразование:\n",
            "tf.Tensor(\n",
            "[b'\\xd1\\x82\\xd0\\xb0\\xd0\\xbc \\xd1\\x85\\xd0\\xbe\\xd0\\xbb\\xd0\\xbe\\xd0\\xb4\\xd0\\xbd\\xd0\\xbe'\n",
            " b'\\xd0\\xb5\\xd1\\x81\\xd0\\xbb\\xd0\\xb8 \\xd0\\xb5\\xd1\\x81\\xd1\\x82\\xd1\\x8c \\xd0\\xbd\\xd0\\xb5\\xd0\\xbe\\xd0\\xb1\\xd1\\x85\\xd0\\xbe\\xd0\\xb4\\xd0\\xb8\\xd0\\xbc\\xd0\\xbe\\xd1\\x81\\xd1\\x82\\xd1\\x8c , \\xd1\\x82\\xd0\\xbe \\xd0\\xba\\xd0\\xbe\\xd0\\xbd\\xd0\\xb5\\xd1\\x87\\xd0\\xbd\\xd0\\xbe \\xd0\\xb7\\xd0\\xb0\\xd1\\x81\\xd0\\xb5\\xd0\\xb4\\xd0\\xb0\\xd0\\xbd\\xd0\\xb8\\xd0\\xb5 \\xd0\\xbc\\xd0\\xbe\\xd0\\xb6\\xd0\\xb5\\xd1\\x82 \\xd0\\xb1\\xd1\\x8b\\xd1\\x82\\xd1\\x8c \\xd0\\xbe\\xd1\\x82\\xd0\\xbb\\xd0\\xbe\\xd0\\xb6\\xd0\\xb5\\xd0\\xbd\\xd0\\xbe .'\n",
            " b'\\xd1\\x87\\xd0\\xb0\\xd0\\xb1\\xd0\\xb0\\xd0\\xbd\\xd1\\x8b \\xd0\\xba\\xd0\\xb0\\xd0\\xb6\\xd0\\xb4\\xd1\\x83\\xd1\\x8e \\xd0\\xbe\\xd0\\xb2\\xd1\\x86\\xd1\\x83 \\xd0\\xb7\\xd0\\xbd\\xd0\\xb0\\xd1\\x8e\\xd1\\x82 \\xd0\\xb2 \\xd0\\xbb\\xd0\\xb8\\xd1\\x86\\xd0\\xbe . \\xd1\\x82 . \\xd0\\xb5 . \\xd0\\xb2 \\xd0\\xbc\\xd0\\xbe\\xd1\\x80\\xd0\\xb4\\xd1\\x83 . \\xd0\\xb0 \\xd0\\xb2\\xd1\\x8b \\xd0\\xb3\\xd0\\xbe\\xd0\\xb2\\xd0\\xbe\\xd1\\x80\\xd0\\xb8\\xd1\\x82\\xd0\\xb5 \\xd0\\xb2 \\xd0\\xbe\\xd1\\x82\\xd0\\xbb\\xd0\\xb8\\xd1\\x87\\xd0\\xb8\\xd0\\xb5'], shape=(3,), dtype=string)\n"
          ]
        }
      ]
    },
    {
      "cell_type": "markdown",
      "source": [
        "### Длина фраз в датасете"
      ],
      "metadata": {
        "id": "fScB9_k7jt9L"
      }
    },
    {
      "cell_type": "code",
      "source": [
        "lengths = []\n",
        "\n",
        "for question_examples, answer_examples in train_dataset.batch(1024):\n",
        "  question_tokens = question_tokenizer.tokenize(question_examples)\n",
        "  lengths.append(question_tokens.row_lengths())\n",
        "\n",
        "  answer_tokens = answer_tokenizer.tokenize(answer_examples)\n",
        "  lengths.append(answer_tokens.row_lengths())\n"
      ],
      "metadata": {
        "id": "Z1V4QJtXjsxz"
      },
      "execution_count": null,
      "outputs": []
    },
    {
      "cell_type": "code",
      "source": [
        "# Токенизируем примеры и получаем тензор формы (batch, word, word-piece)\n",
        "token_batch = answer_tokenizer.tokenize(en_examples)\n",
        "# Объединяем оси word и word-piece и получаем тензор формы (batch, tokens)\n",
        "token_batch = token_batch.merge_dims(-2,-1)\n",
        "\n",
        "print('Токенизируем отобранные строки:')\n",
        "for ex in token_batch.to_list():\n",
        "  print(ex)"
      ],
      "metadata": {
        "colab": {
          "base_uri": "https://localhost:8080/"
        },
        "id": "E_QAZ5oq7Woh",
        "outputId": "2c355ef7-c1fb-448d-cfa3-e21a53543536"
      },
      "execution_count": null,
      "outputs": [
        {
          "output_type": "stream",
          "name": "stdout",
          "text": [
            "Токенизируем отобранные строки:\n",
            "[114, 2469]\n",
            "[75, 85, 2706, 5, 72, 132, 98, 835, 2747, 109, 119, 86, 414, 5458, 7]\n",
            "[59, 84, 783, 210, 3664, 50, 200, 1114, 753, 39, 1365, 7, 54, 7, 42, 7, 39, 48, 642, 448, 7, 37, 110, 2193, 39, 3215]\n"
          ]
        }
      ]
    },
    {
      "cell_type": "code",
      "source": [
        "# @title Отобразим график\n",
        "all_lengths = np.concatenate(lengths)\n",
        "\n",
        "plt.hist(all_lengths, np.linspace(0, 500, 101))\n",
        "plt.ylim(plt.ylim())\n",
        "max_length = max(all_lengths)\n",
        "plt.plot([max_length, max_length], plt.ylim())\n",
        "plt.title(f'Максимальное количество токенов в примере: {max_length}');\n",
        "\n"
      ],
      "metadata": {
        "colab": {
          "base_uri": "https://localhost:8080/",
          "height": 452
        },
        "id": "8jBnNA_Nkugy",
        "outputId": "f4b24eaa-727b-4f87-9ef5-b8b967536a09"
      },
      "execution_count": null,
      "outputs": [
        {
          "output_type": "display_data",
          "data": {
            "text/plain": [
              "<Figure size 640x480 with 1 Axes>"
            ],
            "image/png": "[encoded data removed]"
          },
          "metadata": {}
        }
      ]
    },
    {
      "cell_type": "code",
      "source": [
        "# Максимальная длина фразы\n",
        "MAX_TOKENS=72"
      ],
      "metadata": {
        "id": "L1-clSCk5Xnz"
      },
      "execution_count": null,
      "outputs": []
    },
    {
      "cell_type": "code",
      "source": [
        "# @title Добавление токенов\n",
        "START = tf.argmax(tf.constant(reserved_tokens) == \"[START]\")\n",
        "END = tf.argmax(tf.constant(reserved_tokens) == \"[END]\")\n",
        "\n",
        "def add_start_end(ragged):\n",
        "  count = ragged.bounding_shape()[0]\n",
        "  starts = tf.fill([count,1], START)\n",
        "  ends = tf.fill([count,1], END)\n",
        "  return tf.concat([starts, ragged, ends], axis=1)"
      ],
      "metadata": {
        "id": "7eRJlPwz6kfh"
      },
      "execution_count": null,
      "outputs": []
    },
    {
      "cell_type": "code",
      "source": [
        "words = answer_tokenizer.detokenize(add_start_end(token_batch))\n",
        "tf.strings.reduce_join(words, separator=' ', axis=-1)"
      ],
      "metadata": {
        "colab": {
          "base_uri": "https://localhost:8080/"
        },
        "collapsed": true,
        "id": "MZYm_rSJ-CTE",
        "outputId": "8ae074c0-4dac-4629-a4e3-c30924bdcb86"
      },
      "execution_count": null,
      "outputs": [
        {
          "output_type": "execute_result",
          "data": {
            "text/plain": [
              "<tf.Tensor: shape=(3,), dtype=string, numpy=\n",
              "array([b'[START] \\xd1\\x82\\xd0\\xb0\\xd0\\xbc \\xd1\\x85\\xd0\\xbe\\xd0\\xbb\\xd0\\xbe\\xd0\\xb4\\xd0\\xbd\\xd0\\xbe [END]',\n",
              "       b'[START] \\xd0\\xb5\\xd1\\x81\\xd0\\xbb\\xd0\\xb8 \\xd0\\xb5\\xd1\\x81\\xd1\\x82\\xd1\\x8c \\xd0\\xbd\\xd0\\xb5\\xd0\\xbe\\xd0\\xb1\\xd1\\x85\\xd0\\xbe\\xd0\\xb4\\xd0\\xb8\\xd0\\xbc\\xd0\\xbe\\xd1\\x81\\xd1\\x82\\xd1\\x8c , \\xd1\\x82\\xd0\\xbe \\xd0\\xba\\xd0\\xbe\\xd0\\xbd\\xd0\\xb5\\xd1\\x87\\xd0\\xbd\\xd0\\xbe \\xd0\\xb7\\xd0\\xb0\\xd1\\x81\\xd0\\xb5\\xd0\\xb4\\xd0\\xb0\\xd0\\xbd\\xd0\\xb8\\xd0\\xb5 \\xd0\\xbc\\xd0\\xbe\\xd0\\xb6\\xd0\\xb5\\xd1\\x82 \\xd0\\xb1\\xd1\\x8b\\xd1\\x82\\xd1\\x8c \\xd0\\xbe\\xd1\\x82\\xd0\\xbb\\xd0\\xbe\\xd0\\xb6\\xd0\\xb5\\xd0\\xbd\\xd0\\xbe . [END]',\n",
              "       b'[START] \\xd1\\x87\\xd0\\xb0\\xd0\\xb1\\xd0\\xb0\\xd0\\xbd\\xd1\\x8b \\xd0\\xba\\xd0\\xb0\\xd0\\xb6\\xd0\\xb4\\xd1\\x83\\xd1\\x8e \\xd0\\xbe\\xd0\\xb2\\xd1\\x86\\xd1\\x83 \\xd0\\xb7\\xd0\\xbd\\xd0\\xb0\\xd1\\x8e\\xd1\\x82 \\xd0\\xb2 \\xd0\\xbb\\xd0\\xb8\\xd1\\x86\\xd0\\xbe . \\xd1\\x82 . \\xd0\\xb5 . \\xd0\\xb2 \\xd0\\xbc\\xd0\\xbe\\xd1\\x80\\xd0\\xb4\\xd1\\x83 . \\xd0\\xb0 \\xd0\\xb2\\xd1\\x8b \\xd0\\xb3\\xd0\\xbe\\xd0\\xb2\\xd0\\xbe\\xd1\\x80\\xd0\\xb8\\xd1\\x82\\xd0\\xb5 \\xd0\\xb2 \\xd0\\xbe\\xd1\\x82\\xd0\\xbb\\xd0\\xb8\\xd1\\x87\\xd0\\xb8\\xd0\\xb5 [END]'],\n",
              "      dtype=object)>"
            ]
          },
          "metadata": {},
          "execution_count": 24
        }
      ]
    },
    {
      "cell_type": "code",
      "source": [
        "def cleanup_text(reserved_tokens, token_txt):\n",
        "  # Удаление токенов, кроме \"[UNK]\".\n",
        "  # Поиск зарезервированных токенов кроме [UNK]\n",
        "  bad_tokens = [re.escape(tok) for tok in reserved_tokens if tok != \"[UNK]\"]\n",
        "  # \"Плохие\" токены для регулярки объединяем знаком ИЛИ (|)\n",
        "  bad_token_re = \"|\".join(bad_tokens)\n",
        "\n",
        "  # Ищем в строке регулярку\n",
        "  bad_cells = tf.strings.regex_full_match(token_txt, bad_token_re)\n",
        "  # Отсеиваем из исходной строки все найденные включения \"плохих\" токенов\n",
        "  result = tf.ragged.boolean_mask(token_txt, ~bad_cells)\n",
        "\n",
        "  # Сцепление строк.\n",
        "  result = tf.strings.reduce_join(result, separator=' ', axis=-1)\n",
        "\n",
        "  return result"
      ],
      "metadata": {
        "id": "pMTmFhMG8RIQ"
      },
      "execution_count": null,
      "outputs": []
    },
    {
      "cell_type": "code",
      "source": [
        "print('Отберем строки для примера:')\n",
        "for pt_examples, en_examples in train_dataset.batch(3).take(1):\n",
        "  for ex in en_examples:\n",
        "    print(ex.numpy())"
      ],
      "metadata": {
        "colab": {
          "base_uri": "https://localhost:8080/"
        },
        "id": "J6JbfydB8SlH",
        "outputId": "0ac0b73c-8d89-4c76-be7d-86dead335760"
      },
      "execution_count": null,
      "outputs": [
        {
          "output_type": "stream",
          "name": "stdout",
          "text": [
            "Отберем строки для примера:\n",
            "b'\\xd1\\x82\\xd0\\xb0\\xd0\\xbc \\xd1\\x85\\xd0\\xbe\\xd0\\xbb\\xd0\\xbe\\xd0\\xb4\\xd0\\xbd\\xd0\\xbe'\n",
            "b'\\xd0\\xb5\\xd1\\x81\\xd0\\xbb\\xd0\\xb8 \\xd0\\xb5\\xd1\\x81\\xd1\\x82\\xd1\\x8c \\xd0\\xbd\\xd0\\xb5\\xd0\\xbe\\xd0\\xb1\\xd1\\x85\\xd0\\xbe\\xd0\\xb4\\xd0\\xb8\\xd0\\xbc\\xd0\\xbe\\xd1\\x81\\xd1\\x82\\xd1\\x8c, \\xd1\\x82\\xd0\\xbe \\xd0\\xba\\xd0\\xbe\\xd0\\xbd\\xd0\\xb5\\xd1\\x87\\xd0\\xbd\\xd0\\xbe \\xd0\\xb7\\xd0\\xb0\\xd1\\x81\\xd0\\xb5\\xd0\\xb4\\xd0\\xb0\\xd0\\xbd\\xd0\\xb8\\xd0\\xb5 \\xd0\\xbc\\xd0\\xbe\\xd0\\xb6\\xd0\\xb5\\xd1\\x82 \\xd0\\xb1\\xd1\\x8b\\xd1\\x82\\xd1\\x8c \\xd0\\xbe\\xd1\\x82\\xd0\\xbb\\xd0\\xbe\\xd0\\xb6\\xd0\\xb5\\xd0\\xbd\\xd0\\xbe.'\n",
            "b'\\xd1\\x87\\xd0\\xb0\\xd0\\xb1\\xd0\\xb0\\xd0\\xbd\\xd1\\x8b \\xd0\\xba\\xd0\\xb0\\xd0\\xb6\\xd0\\xb4\\xd1\\x83\\xd1\\x8e \\xd0\\xbe\\xd0\\xb2\\xd1\\x86\\xd1\\x83 \\xd0\\xb7\\xd0\\xbd\\xd0\\xb0\\xd1\\x8e\\xd1\\x82 \\xd0\\xb2 \\xd0\\xbb\\xd0\\xb8\\xd1\\x86\\xd0\\xbe. \\xd1\\x82. \\xd0\\xb5. \\xd0\\xb2 \\xd0\\xbc\\xd0\\xbe\\xd1\\x80\\xd0\\xb4\\xd1\\x83. \\xd0\\xb0 \\xd0\\xb2\\xd1\\x8b \\xd0\\xb3\\xd0\\xbe\\xd0\\xb2\\xd0\\xbe\\xd1\\x80\\xd0\\xb8\\xd1\\x82\\xd0\\xb5 \\xd0\\xb2 \\xd0\\xbe\\xd1\\x82\\xd0\\xbb\\xd0\\xb8\\xd1\\x87\\xd0\\xb8\\xd0\\xb5'\n"
          ]
        }
      ]
    },
    {
      "cell_type": "code",
      "source": [
        "en_examples.numpy()"
      ],
      "metadata": {
        "id": "7EsXv2frEf9d",
        "colab": {
          "base_uri": "https://localhost:8080/"
        },
        "outputId": "752a00de-a213-4a6c-9b37-9bb9aa2e7481"
      },
      "execution_count": null,
      "outputs": [
        {
          "output_type": "execute_result",
          "data": {
            "text/plain": [
              "array([b'\\xd1\\x82\\xd0\\xb0\\xd0\\xbc \\xd1\\x85\\xd0\\xbe\\xd0\\xbb\\xd0\\xbe\\xd0\\xb4\\xd0\\xbd\\xd0\\xbe',\n",
              "       b'\\xd0\\xb5\\xd1\\x81\\xd0\\xbb\\xd0\\xb8 \\xd0\\xb5\\xd1\\x81\\xd1\\x82\\xd1\\x8c \\xd0\\xbd\\xd0\\xb5\\xd0\\xbe\\xd0\\xb1\\xd1\\x85\\xd0\\xbe\\xd0\\xb4\\xd0\\xb8\\xd0\\xbc\\xd0\\xbe\\xd1\\x81\\xd1\\x82\\xd1\\x8c, \\xd1\\x82\\xd0\\xbe \\xd0\\xba\\xd0\\xbe\\xd0\\xbd\\xd0\\xb5\\xd1\\x87\\xd0\\xbd\\xd0\\xbe \\xd0\\xb7\\xd0\\xb0\\xd1\\x81\\xd0\\xb5\\xd0\\xb4\\xd0\\xb0\\xd0\\xbd\\xd0\\xb8\\xd0\\xb5 \\xd0\\xbc\\xd0\\xbe\\xd0\\xb6\\xd0\\xb5\\xd1\\x82 \\xd0\\xb1\\xd1\\x8b\\xd1\\x82\\xd1\\x8c \\xd0\\xbe\\xd1\\x82\\xd0\\xbb\\xd0\\xbe\\xd0\\xb6\\xd0\\xb5\\xd0\\xbd\\xd0\\xbe.',\n",
              "       b'\\xd1\\x87\\xd0\\xb0\\xd0\\xb1\\xd0\\xb0\\xd0\\xbd\\xd1\\x8b \\xd0\\xba\\xd0\\xb0\\xd0\\xb6\\xd0\\xb4\\xd1\\x83\\xd1\\x8e \\xd0\\xbe\\xd0\\xb2\\xd1\\x86\\xd1\\x83 \\xd0\\xb7\\xd0\\xbd\\xd0\\xb0\\xd1\\x8e\\xd1\\x82 \\xd0\\xb2 \\xd0\\xbb\\xd0\\xb8\\xd1\\x86\\xd0\\xbe. \\xd1\\x82. \\xd0\\xb5. \\xd0\\xb2 \\xd0\\xbc\\xd0\\xbe\\xd1\\x80\\xd0\\xb4\\xd1\\x83. \\xd0\\xb0 \\xd0\\xb2\\xd1\\x8b \\xd0\\xb3\\xd0\\xbe\\xd0\\xb2\\xd0\\xbe\\xd1\\x80\\xd0\\xb8\\xd1\\x82\\xd0\\xb5 \\xd0\\xb2 \\xd0\\xbe\\xd1\\x82\\xd0\\xbb\\xd0\\xb8\\xd1\\x87\\xd0\\xb8\\xd0\\xb5'],\n",
              "      dtype=object)"
            ]
          },
          "metadata": {},
          "execution_count": 27
        }
      ]
    },
    {
      "cell_type": "code",
      "source": [
        "# @title Детокенизированные строки\n",
        "token_batch = answer_tokenizer.tokenize(en_examples).merge_dims(-2,-1)\n",
        "words = answer_tokenizer.detokenize(token_batch)\n",
        "words"
      ],
      "metadata": {
        "id": "exVsT0OyEhZh",
        "colab": {
          "base_uri": "https://localhost:8080/"
        },
        "outputId": "02c5e67a-7ea8-4ea0-fd77-6cee8143d185"
      },
      "execution_count": null,
      "outputs": [
        {
          "output_type": "execute_result",
          "data": {
            "text/plain": [
              "<tf.RaggedTensor [[b'\\xd1\\x82\\xd0\\xb0\\xd0\\xbc',\n",
              "  b'\\xd1\\x85\\xd0\\xbe\\xd0\\xbb\\xd0\\xbe\\xd0\\xb4\\xd0\\xbd\\xd0\\xbe'],\n",
              " [b'\\xd0\\xb5\\xd1\\x81\\xd0\\xbb\\xd0\\xb8', b'\\xd0\\xb5\\xd1\\x81\\xd1\\x82\\xd1\\x8c',\n",
              "  b'\\xd0\\xbd\\xd0\\xb5\\xd0\\xbe\\xd0\\xb1\\xd1\\x85\\xd0\\xbe\\xd0\\xb4\\xd0\\xb8\\xd0\\xbc\\xd0\\xbe\\xd1\\x81\\xd1\\x82\\xd1\\x8c',\n",
              "  b',', b'\\xd1\\x82\\xd0\\xbe',\n",
              "  b'\\xd0\\xba\\xd0\\xbe\\xd0\\xbd\\xd0\\xb5\\xd1\\x87\\xd0\\xbd\\xd0\\xbe',\n",
              "  b'\\xd0\\xb7\\xd0\\xb0\\xd1\\x81\\xd0\\xb5\\xd0\\xb4\\xd0\\xb0\\xd0\\xbd\\xd0\\xb8\\xd0\\xb5',\n",
              "  b'\\xd0\\xbc\\xd0\\xbe\\xd0\\xb6\\xd0\\xb5\\xd1\\x82',\n",
              "  b'\\xd0\\xb1\\xd1\\x8b\\xd1\\x82\\xd1\\x8c',\n",
              "  b'\\xd0\\xbe\\xd1\\x82\\xd0\\xbb\\xd0\\xbe\\xd0\\xb6\\xd0\\xb5\\xd0\\xbd\\xd0\\xbe', b'.']                                  ,\n",
              " [b'\\xd1\\x87\\xd0\\xb0\\xd0\\xb1\\xd0\\xb0\\xd0\\xbd\\xd1\\x8b',\n",
              "  b'\\xd0\\xba\\xd0\\xb0\\xd0\\xb6\\xd0\\xb4\\xd1\\x83\\xd1\\x8e',\n",
              "  b'\\xd0\\xbe\\xd0\\xb2\\xd1\\x86\\xd1\\x83',\n",
              "  b'\\xd0\\xb7\\xd0\\xbd\\xd0\\xb0\\xd1\\x8e\\xd1\\x82', b'\\xd0\\xb2',\n",
              "  b'\\xd0\\xbb\\xd0\\xb8\\xd1\\x86\\xd0\\xbe', b'.', b'\\xd1\\x82', b'.', b'\\xd0\\xb5',\n",
              "  b'.', b'\\xd0\\xb2', b'\\xd0\\xbc\\xd0\\xbe\\xd1\\x80\\xd0\\xb4\\xd1\\x83', b'.',\n",
              "  b'\\xd0\\xb0', b'\\xd0\\xb2\\xd1\\x8b',\n",
              "  b'\\xd0\\xb3\\xd0\\xbe\\xd0\\xb2\\xd0\\xbe\\xd1\\x80\\xd0\\xb8\\xd1\\x82\\xd0\\xb5',\n",
              "  b'\\xd0\\xb2', b'\\xd0\\xbe\\xd1\\x82\\xd0\\xbb\\xd0\\xb8\\xd1\\x87\\xd0\\xb8\\xd0\\xb5'] ]>"
            ]
          },
          "metadata": {},
          "execution_count": 28
        }
      ]
    },
    {
      "cell_type": "markdown",
      "source": [
        "# Кастомный Токенизатор"
      ],
      "metadata": {
        "id": "ndcWtEMjEmJZ"
      }
    },
    {
      "cell_type": "code",
      "source": [
        "class CustomTokenizer(tf.Module):\n",
        "  def __init__(self, reserved_tokens, vocab_path):\n",
        "    # Определяем токенизатор\n",
        "    self.tokenizer = text.BertTokenizer(vocab_path, lower_case=True)\n",
        "    # Зарезервированные токены\n",
        "    self._reserved_tokens = reserved_tokens\n",
        "    # Путь к файлу словаря\n",
        "    self._vocab_path = tf.saved_model.Asset(vocab_path)\n",
        "    # Читаем из файла словарь и делим по строкам\n",
        "    vocab = pathlib.Path(vocab_path).read_text().splitlines()\n",
        "    self.vocab = tf.Variable(vocab)\n",
        "\n",
        "    # Сигнатура для tokenize (работает с пакетами строк).\n",
        "    self.tokenize.get_concrete_function(\n",
        "        tf.TensorSpec(shape=[None], dtype=tf.string))\n",
        "    self.detokenize.get_concrete_function(\n",
        "        tf.TensorSpec(shape=[None, None], dtype=tf.int64))\n",
        "    self.detokenize.get_concrete_function(\n",
        "          tf.RaggedTensorSpec(shape=[None, None], dtype=tf.int64))\n",
        "\n",
        "    self.lookup.get_concrete_function(\n",
        "        tf.TensorSpec(shape=[None, None], dtype=tf.int64))\n",
        "    self.lookup.get_concrete_function(\n",
        "          tf.RaggedTensorSpec(shape=[None, None], dtype=tf.int64))\n",
        "\n",
        "    self.get_vocab_size.get_concrete_function()\n",
        "    self.get_vocab_path.get_concrete_function()\n",
        "    self.get_reserved_tokens.get_concrete_function()\n",
        "\n",
        "\n",
        "  @tf.function\n",
        "  def tokenize(self, strings):\n",
        "    enc = self.tokenizer.tokenize(strings)\n",
        "    # Объединяем оси `word` и `word-piece`\n",
        "    enc = enc.merge_dims(-2,-1)\n",
        "    enc = add_start_end(enc)\n",
        "    return enc\n",
        "\n",
        "  @tf.function\n",
        "  def detokenize(self, tokenized):\n",
        "    words = self.tokenizer.detokenize(tokenized)\n",
        "    return cleanup_text(self._reserved_tokens, words) # очищаем перед выводом\n",
        "\n",
        "  @tf.function\n",
        "  def lookup(self, token_ids):\n",
        "    return tf.gather(self.vocab, token_ids) # возвращаем явное соответствие словаря токенам\n",
        "\n",
        "  @tf.function\n",
        "  def get_vocab_size(self):\n",
        "    return tf.shape(self.vocab)[0] # определяем длину словаря по нулевому индексу формы\n",
        "\n",
        "  @tf.function\n",
        "  def get_vocab_path(self):\n",
        "    return self._vocab_path # получение пути к файлу словаря\n",
        "\n",
        "  @tf.function\n",
        "  def get_reserved_tokens(self):\n",
        "    return tf.constant(self._reserved_tokens) # получение списка зарезервированных токенов"
      ],
      "metadata": {
        "id": "nRv0_MWLEqFw"
      },
      "execution_count": null,
      "outputs": []
    },
    {
      "cell_type": "code",
      "source": [
        "tokenizers = tf.Module()\n",
        "tokenizers.pt = CustomTokenizer(reserved_tokens, 'question_vocab.txt')\n",
        "tokenizers.en = CustomTokenizer(reserved_tokens, 'answer_vocab.txt')"
      ],
      "metadata": {
        "id": "hggzXjmdEr1p"
      },
      "execution_count": null,
      "outputs": []
    },
    {
      "cell_type": "code",
      "source": [
        "model_name = 'ted_hrlr_translate_quest_ans_converter'\n",
        "tf.saved_model.save(tokenizers, model_name)"
      ],
      "metadata": {
        "id": "A9fbMaJxEsqD"
      },
      "execution_count": null,
      "outputs": []
    },
    {
      "cell_type": "code",
      "source": [
        "# @title Пример токенизации\n",
        "encoded = tokenizers.en.tokenize(en_examples)\n",
        "\n",
        "for row in encoded.to_list():\n",
        "  print(row)"
      ],
      "metadata": {
        "id": "K77DRRCVE5PT",
        "colab": {
          "base_uri": "https://localhost:8080/"
        },
        "outputId": "7ae2e8db-d932-4e85-8cf2-c958a64b4335"
      },
      "execution_count": null,
      "outputs": [
        {
          "output_type": "stream",
          "name": "stdout",
          "text": [
            "[2, 114, 2469, 3]\n",
            "[2, 75, 85, 2706, 5, 72, 132, 98, 835, 2747, 109, 119, 86, 414, 5458, 7, 3]\n",
            "[2, 59, 84, 783, 210, 3664, 50, 200, 1114, 753, 39, 1365, 7, 54, 7, 42, 7, 39, 48, 642, 448, 7, 37, 110, 2193, 39, 3215, 3]\n"
          ]
        }
      ]
    },
    {
      "cell_type": "code",
      "source": [
        "# @title Пример детокенизации\n",
        "round_trip = tokenizers.en.detokenize(encoded)\n",
        "for line in round_trip.numpy():\n",
        "  print(line.decode('utf-8'))"
      ],
      "metadata": {
        "id": "uuVc4eI7E9iP",
        "colab": {
          "base_uri": "https://localhost:8080/"
        },
        "outputId": "d042e883-32a9-4f6c-c8f5-a79290561d40"
      },
      "execution_count": null,
      "outputs": [
        {
          "output_type": "stream",
          "name": "stdout",
          "text": [
            "там холодно\n",
            "если есть необходимость , то конечно заседание может быть отложено .\n",
            "чабаны каждую овцу знают в лицо . т . е . в морду . а вы говорите в отличие\n"
          ]
        }
      ]
    },
    {
      "cell_type": "code",
      "source": [
        "# @title Преобразование идентификаторов токенов в текстовое представление токенов\n",
        "tokens = tokenizers.en.lookup(encoded)\n",
        "tokens"
      ],
      "metadata": {
        "id": "OLrbvBtrFAYN",
        "colab": {
          "base_uri": "https://localhost:8080/"
        },
        "outputId": "a3cbedb4-2409-4bf9-84a3-ed865cb92a0e"
      },
      "execution_count": null,
      "outputs": [
        {
          "output_type": "execute_result",
          "data": {
            "text/plain": [
              "<tf.RaggedTensor [[b'[START]', b'\\xd1\\x82\\xd0\\xb0\\xd0\\xbc',\n",
              "  b'\\xd1\\x85\\xd0\\xbe\\xd0\\xbb\\xd0\\xbe\\xd0\\xb4\\xd0\\xbd\\xd0\\xbe', b'[END]'],\n",
              " [b'[START]', b'\\xd0\\xb5\\xd1\\x81\\xd0\\xbb\\xd0\\xb8',\n",
              "  b'\\xd0\\xb5\\xd1\\x81\\xd1\\x82\\xd1\\x8c',\n",
              "  b'\\xd0\\xbd\\xd0\\xb5\\xd0\\xbe\\xd0\\xb1\\xd1\\x85\\xd0\\xbe\\xd0\\xb4\\xd0\\xb8\\xd0\\xbc\\xd0\\xbe\\xd1\\x81\\xd1\\x82\\xd1\\x8c',\n",
              "  b',', b'\\xd1\\x82\\xd0\\xbe',\n",
              "  b'\\xd0\\xba\\xd0\\xbe\\xd0\\xbd\\xd0\\xb5\\xd1\\x87\\xd0\\xbd\\xd0\\xbe',\n",
              "  b'\\xd0\\xb7\\xd0\\xb0', b'##\\xd1\\x81\\xd0\\xb5',\n",
              "  b'##\\xd0\\xb4\\xd0\\xb0\\xd0\\xbd\\xd0\\xb8\\xd0\\xb5',\n",
              "  b'\\xd0\\xbc\\xd0\\xbe\\xd0\\xb6\\xd0\\xb5\\xd1\\x82',\n",
              "  b'\\xd0\\xb1\\xd1\\x8b\\xd1\\x82\\xd1\\x8c', b'\\xd0\\xbe\\xd1\\x82',\n",
              "  b'##\\xd0\\xbb\\xd0\\xbe', b'##\\xd0\\xb6\\xd0\\xb5\\xd0\\xbd\\xd0\\xbe', b'.',\n",
              "  b'[END]']                                                                                                   ,\n",
              " [b'[START]', b'\\xd1\\x87', b'##\\xd0\\xb0', b'##\\xd0\\xb1\\xd0\\xb0',\n",
              "  b'##\\xd0\\xbd\\xd1\\x8b',\n",
              "  b'\\xd0\\xba\\xd0\\xb0\\xd0\\xb6\\xd0\\xb4\\xd1\\x83\\xd1\\x8e', b'\\xd0\\xbe',\n",
              "  b'##\\xd0\\xb2', b'##\\xd1\\x86\\xd1\\x83',\n",
              "  b'\\xd0\\xb7\\xd0\\xbd\\xd0\\xb0\\xd1\\x8e\\xd1\\x82', b'\\xd0\\xb2',\n",
              "  b'\\xd0\\xbb\\xd0\\xb8\\xd1\\x86\\xd0\\xbe', b'.', b'\\xd1\\x82', b'.', b'\\xd0\\xb5',\n",
              "  b'.', b'\\xd0\\xb2', b'\\xd0\\xbc', b'##\\xd0\\xbe\\xd1\\x80',\n",
              "  b'##\\xd0\\xb4\\xd1\\x83', b'.', b'\\xd0\\xb0', b'\\xd0\\xb2\\xd1\\x8b',\n",
              "  b'\\xd0\\xb3\\xd0\\xbe\\xd0\\xb2\\xd0\\xbe\\xd1\\x80\\xd0\\xb8\\xd1\\x82\\xd0\\xb5',\n",
              "  b'\\xd0\\xb2', b'\\xd0\\xbe\\xd1\\x82\\xd0\\xbb\\xd0\\xb8\\xd1\\x87\\xd0\\xb8\\xd0\\xb5',\n",
              "  b'[END]']                                                                 ]>"
            ]
          },
          "metadata": {},
          "execution_count": 34
        }
      ]
    },
    {
      "cell_type": "markdown",
      "source": [
        "# Подготовка датасета, предобработка данных"
      ],
      "metadata": {
        "id": "kxpPAlZ2FLlv"
      }
    },
    {
      "cell_type": "code",
      "source": [
        "def prepare_batch(pt, en):\n",
        "    pt = tokenizers.pt.tokenize(pt)   # Токенизируем данные\n",
        "    pt = pt[:, :MAX_TOKENS]           # Выравнивание данных по MAX_TOKENS.\n",
        "    pt = pt.to_tensor()               # Преобразуем в тензор с равномерными измерениями\n",
        "\n",
        "    en = tokenizers.en.tokenize(en)\n",
        "    en = en[:, :(MAX_TOKENS+1)]\n",
        "    en_inputs = en[:, :-1].to_tensor()  # Удаляем [END] токены (вход декодировщика)\n",
        "    en_labels = en[:, 1:].to_tensor()   # Удаляем [START] токены (выход декодировщика)\n",
        "\n",
        "    return (pt, en_inputs), en_labels"
      ],
      "metadata": {
        "id": "lYVsji7XFKYE"
      },
      "execution_count": null,
      "outputs": []
    },
    {
      "cell_type": "code",
      "source": [
        "# Размер буфера в памяти при подготовке датасета\n",
        "BUFFER_SIZE = 20000\n",
        "\n",
        "# Размер пакета\n",
        "BATCH_SIZE = 64"
      ],
      "metadata": {
        "id": "gQV-MZAHFSLP"
      },
      "execution_count": null,
      "outputs": []
    },
    {
      "cell_type": "code",
      "source": [
        "# @title Прогоним фразы через подготовленную функцию и сформируем пакеты\n",
        "def make_batches(ds):\n",
        "  return (\n",
        "      ds\n",
        "      .shuffle(BUFFER_SIZE)                     # перемешиваем данные\n",
        "      .batch(BATCH_SIZE)                        # делим датасет на пакеты\n",
        "      .map(prepare_batch, tf.data.AUTOTUNE)     # применим функцию prepare_batch\n",
        "      .prefetch(buffer_size=tf.data.AUTOTUNE))  # prefetch используется для разделения времени, когда данные подготавливаются и потребляются, что ускоряет обучение сети"
      ],
      "metadata": {
        "id": "NfRrb8UvFSl5"
      },
      "execution_count": null,
      "outputs": []
    },
    {
      "cell_type": "code",
      "source": [
        "train_batches = make_batches(train_dataset)\n",
        "val_batches = make_batches(validation_dataset)"
      ],
      "metadata": {
        "id": "Ph_9nWjMFZfB"
      },
      "execution_count": null,
      "outputs": []
    },
    {
      "cell_type": "code",
      "source": [
        "# @title Вывод формы одного пакета\n",
        "for (pt, en), en_labels in train_batches.take(1):\n",
        "  break\n",
        "\n",
        "print(pt.shape)\n",
        "print(en.shape)\n",
        "print(en_labels.shape)"
      ],
      "metadata": {
        "id": "ihlaLKwcFeYV",
        "colab": {
          "base_uri": "https://localhost:8080/"
        },
        "outputId": "6e3f8403-c374-4b00-a3f6-ea40ccbc4d3f"
      },
      "execution_count": null,
      "outputs": [
        {
          "output_type": "stream",
          "name": "stdout",
          "text": [
            "(64, 33)\n",
            "(64, 44)\n",
            "(64, 44)\n"
          ]
        }
      ]
    },
    {
      "cell_type": "markdown",
      "source": [
        "# Архитектура модели"
      ],
      "metadata": {
        "id": "YRbjWS04FlQB"
      }
    },
    {
      "cell_type": "code",
      "source": [
        "# @title Функция позиционного кодирования\n",
        "\n",
        "# length - порядковый номер слова в фразе\n",
        "# depth - размер пространства эмбеддинга\n",
        "def positional_encoding(length, depth):\n",
        "  depth = depth/2\n",
        "\n",
        "  positions = np.arange(length)[:, np.newaxis]     # форма (seq, 1)\n",
        "  depths = np.arange(depth)[np.newaxis, :]/depth   # форма (1, depth)\n",
        "\n",
        "  angle_rates = 1 / (10000**depths)         # форма (1, depth)\n",
        "  angle_rads = positions * angle_rates      # форма (pos, depth)\n",
        "\n",
        "  pos_encoding = np.concatenate(\n",
        "      [np.sin(angle_rads), np.cos(angle_rads)],\n",
        "      axis=-1)\n",
        "\n",
        "  return tf.cast(pos_encoding, dtype=tf.float32)  # указываем тип возвращаемых данных"
      ],
      "metadata": {
        "id": "gPMOJ2GHFkn5"
      },
      "execution_count": null,
      "outputs": []
    },
    {
      "cell_type": "code",
      "source": [
        "pos_encoding = positional_encoding(length=2048, depth=512)\n",
        "\n",
        "# Прверим форму\n",
        "print(pos_encoding.shape)\n"
      ],
      "metadata": {
        "id": "Clv2DAxUGPte",
        "colab": {
          "base_uri": "https://localhost:8080/"
        },
        "outputId": "df54fc96-2e0c-4a83-8ebf-f6c747b396f6"
      },
      "execution_count": null,
      "outputs": [
        {
          "output_type": "stream",
          "name": "stdout",
          "text": [
            "(2048, 512)\n"
          ]
        }
      ]
    },
    {
      "cell_type": "code",
      "source": [
        "# @title Создание слоя PositionalEmbedding\n",
        "# Наследуем класс от tf.keras.layers.Layer\n",
        "# Теперь наш слой тоже является классом Keras\n",
        "class PositionalEmbedding(tf.keras.layers.Layer):\n",
        "  def __init__(self, vocab_size, d_model):\n",
        "    super().__init__()\n",
        "    self.d_model = d_model\n",
        "    self.embedding = tf.keras.layers.Embedding(vocab_size, d_model, mask_zero=True) # эмбеддинг\n",
        "    self.pos_encoding = positional_encoding(length=2048, depth=d_model) # позиционное кодирование\n",
        "\n",
        "  # Данный метод возвращает маску эмбеддинга\n",
        "  # Так как вектора выравниваются до одной длины с помощью pad_sequences,\n",
        "  # то метод вернет True для ненулевых токенов, и False для нулевых токенов\n",
        "\n",
        "  def compute_mask(self, *args, **kwargs):\n",
        "    return self.embedding.compute_mask(*args, **kwargs)\n",
        "\n",
        "  def call(self, x):\n",
        "    length = tf.shape(x)[1]\n",
        "    x = self.embedding(x)\n",
        "\n",
        "    # Этот коэффициент задает относительный масштаб встраивания и позиционного кодирования\n",
        "    # C этим параметром можно и нужно играться!\n",
        "    x *= tf.math.sqrt(tf.cast(self.d_model, tf.float32))\n",
        "    x = x + self.pos_encoding[tf.newaxis, :length, :]\n",
        "    return x\n"
      ],
      "metadata": {
        "id": "ZD0AvmXTGQq8"
      },
      "execution_count": null,
      "outputs": []
    },
    {
      "cell_type": "code",
      "source": [
        "# Проверка слоя\n",
        "embed_pt = PositionalEmbedding(vocab_size=tokenizers.pt.get_vocab_size().numpy(), d_model=512)\n",
        "embed_en = PositionalEmbedding(vocab_size=tokenizers.en.get_vocab_size().numpy(), d_model=512)\n",
        "\n",
        "pt_emb = embed_pt(pt)\n",
        "en_emb = embed_en(en)\n",
        "\n",
        "# Выводим маску\n",
        "en_emb._keras_mask"
      ],
      "metadata": {
        "id": "KheZ6AfcGa2v",
        "colab": {
          "base_uri": "https://localhost:8080/"
        },
        "outputId": "8d66f5c7-7124-4fd9-8089-89fe5826b76e"
      },
      "execution_count": null,
      "outputs": [
        {
          "output_type": "execute_result",
          "data": {
            "text/plain": [
              "<tf.Tensor: shape=(64, 44), dtype=bool, numpy=\n",
              "array([[ True,  True,  True, ..., False, False, False],\n",
              "       [ True,  True,  True, ..., False, False, False],\n",
              "       [ True,  True,  True, ..., False, False, False],\n",
              "       ...,\n",
              "       [ True,  True,  True, ..., False, False, False],\n",
              "       [ True,  True,  True, ..., False, False, False],\n",
              "       [ True,  True,  True, ..., False, False, False]])>"
            ]
          },
          "metadata": {},
          "execution_count": 43
        }
      ]
    },
    {
      "cell_type": "markdown",
      "source": [
        "# Слой нормализации и остаточной связи"
      ],
      "metadata": {
        "id": "NvKAfb93GwkE"
      }
    },
    {
      "cell_type": "markdown",
      "source": [
        "## Базовый класс внимания"
      ],
      "metadata": {
        "id": "nIm6yMIyG3UD"
      }
    },
    {
      "cell_type": "code",
      "source": [
        "class BaseAttention(tf.keras.layers.Layer):\n",
        "  def __init__(self, **kwargs):\n",
        "    super().__init__()\n",
        "    self.mha = tf.keras.layers.MultiHeadAttention(**kwargs)\n",
        "    self.layernorm = tf.keras.layers.LayerNormalization()\n",
        "    self.add = tf.keras.layers.Add()"
      ],
      "metadata": {
        "id": "SdL9pAlOG3ir"
      },
      "execution_count": null,
      "outputs": []
    },
    {
      "cell_type": "markdown",
      "source": [
        "# Encoder-Decoder Attention"
      ],
      "metadata": {
        "id": "1DcQXRN_QOFd"
      }
    },
    {
      "cell_type": "code",
      "source": [
        "class CrossAttention(BaseAttention):\n",
        "  def call(self, x, context):\n",
        "    # Пропускаем сигнал через многоголовое внимание\n",
        "    attn_output, attn_scores = self.mha(\n",
        "        query=x,                        # запрос\n",
        "        key=context,                    # ключ\n",
        "        value=context,                  # значение\n",
        "        return_attention_scores=True)   # возвращаем оценки внимания\n",
        "\n",
        "    # Запоминаем оценки на будущее\n",
        "    self.last_attn_scores = attn_scores\n",
        "\n",
        "    # Добавляем остаточную связь и нормализацию\n",
        "    x = self.add([x, attn_output])\n",
        "    x = self.layernorm(x)\n",
        "\n",
        "    return x"
      ],
      "metadata": {
        "id": "3yADtVfmQRHE"
      },
      "execution_count": null,
      "outputs": []
    },
    {
      "cell_type": "code",
      "source": [
        "# @title Пример прохождения сигнала через слой\n",
        "# При инициализации через базовый класс передаем в слой tf.keras.layers.MultiHeadAttention\n",
        "# параметры num_heads - число голов, key_dim - размерность ключа\n",
        "sample_ca = CrossAttention(num_heads=2, key_dim=512)\n",
        "\n",
        "print(pt_emb.shape)\n",
        "print(en_emb.shape)\n",
        "print(sample_ca(en_emb, pt_emb).shape)"
      ],
      "metadata": {
        "id": "tZRIkZQlRFbB",
        "colab": {
          "base_uri": "https://localhost:8080/"
        },
        "outputId": "eb6f78ab-4cd3-4762-91ab-61d4ff841d18"
      },
      "execution_count": null,
      "outputs": [
        {
          "output_type": "stream",
          "name": "stdout",
          "text": [
            "(64, 33, 512)\n",
            "(64, 44, 512)\n",
            "(64, 44, 512)\n"
          ]
        }
      ]
    },
    {
      "cell_type": "markdown",
      "source": [
        "## Слой GlobalSelfAttention"
      ],
      "metadata": {
        "id": "EITI1SsqSKNi"
      }
    },
    {
      "cell_type": "code",
      "source": [
        "class GlobalSelfAttention(BaseAttention):\n",
        "  def call(self, x):\n",
        "    # Пропускаем сигнал через многоголовое внимание\n",
        "    attn_output = self.mha(\n",
        "        query=x,  # запрос\n",
        "        value=x,  # ключ\n",
        "        key=x)    # значение\n",
        "\n",
        "    # Добавляем остаточную связь и нормализацию\n",
        "    x = self.add([x, attn_output])\n",
        "    x = self.layernorm(x)\n",
        "    return x"
      ],
      "metadata": {
        "id": "DS6IctQKSIk5"
      },
      "execution_count": null,
      "outputs": []
    },
    {
      "cell_type": "code",
      "source": [
        "sample_gsa = GlobalSelfAttention(num_heads=2, key_dim=512)\n",
        "\n",
        "print(pt_emb.shape)\n",
        "print(sample_gsa(pt_emb).shape)"
      ],
      "metadata": {
        "id": "-JfYSpBMSSVU",
        "colab": {
          "base_uri": "https://localhost:8080/"
        },
        "outputId": "8d3fa4ea-1382-4bb9-dd97-68040ac8c763"
      },
      "execution_count": null,
      "outputs": [
        {
          "output_type": "stream",
          "name": "stdout",
          "text": [
            "(64, 33, 512)\n",
            "(64, 33, 512)\n"
          ]
        }
      ]
    },
    {
      "cell_type": "markdown",
      "source": [
        "# Слой CausalSelfAttention"
      ],
      "metadata": {
        "id": "DSa75qniS0js"
      }
    },
    {
      "cell_type": "code",
      "source": [
        "class CausalSelfAttention(BaseAttention):\n",
        "  def call(self, x):\n",
        "    attn_output = self.mha(\n",
        "        query=x,\n",
        "        value=x,\n",
        "        key=x,\n",
        "        use_causal_mask = True)  # отличается от GlobalSelfAttention одним аргументом\n",
        "    x = self.add([x, attn_output])\n",
        "    x = self.layernorm(x)\n",
        "    return x"
      ],
      "metadata": {
        "id": "IuvMAooDSzze"
      },
      "execution_count": null,
      "outputs": []
    },
    {
      "cell_type": "code",
      "source": [
        "sample_csa = CausalSelfAttention(num_heads=2, key_dim=512)\n",
        "\n",
        "print(en_emb.shape)\n",
        "print(sample_csa(en_emb).shape)"
      ],
      "metadata": {
        "id": "DtcVJWaWS85_",
        "colab": {
          "base_uri": "https://localhost:8080/"
        },
        "outputId": "02653f2d-c23d-428a-f90c-e7eeb18f7d7b"
      },
      "execution_count": null,
      "outputs": [
        {
          "output_type": "stream",
          "name": "stdout",
          "text": [
            "(64, 44, 512)\n",
            "(64, 44, 512)\n"
          ]
        }
      ]
    },
    {
      "cell_type": "markdown",
      "source": [
        "# Сеть прямого распространения (feed forward network)"
      ],
      "metadata": {
        "id": "hfPl9ynCTEh-"
      }
    },
    {
      "cell_type": "code",
      "source": [
        "class FeedForward(tf.keras.layers.Layer):\n",
        "  def __init__(self, d_model, dff, dropout_rate=0.1):\n",
        "    super().__init__()\n",
        "    self.seq = tf.keras.Sequential([\n",
        "      tf.keras.layers.Dense(dff, activation='relu'),\n",
        "      tf.keras.layers.Dense(d_model),\n",
        "      tf.keras.layers.Dropout(dropout_rate)\n",
        "    ])\n",
        "    self.add = tf.keras.layers.Add()\n",
        "    self.layer_norm = tf.keras.layers.LayerNormalization()\n",
        "\n",
        "  def call(self, x):\n",
        "    x = self.add([x, self.seq(x)])\n",
        "    x = self.layer_norm(x)\n",
        "    return x"
      ],
      "metadata": {
        "id": "VYhPesp-TCid"
      },
      "execution_count": null,
      "outputs": []
    },
    {
      "cell_type": "code",
      "source": [
        "sample_ffn = FeedForward(512, 2048)\n",
        "\n",
        "print(en_emb.shape)\n",
        "print(sample_ffn(en_emb).shape)"
      ],
      "metadata": {
        "id": "fjPROHMnTQHf",
        "colab": {
          "base_uri": "https://localhost:8080/"
        },
        "outputId": "c68401a8-a89e-4919-d4a5-2c0b7fdb32a7"
      },
      "execution_count": null,
      "outputs": [
        {
          "output_type": "stream",
          "name": "stdout",
          "text": [
            "(64, 44, 512)\n",
            "(64, 44, 512)\n"
          ]
        }
      ]
    },
    {
      "cell_type": "markdown",
      "source": [
        "# Слой Кодировщика"
      ],
      "metadata": {
        "id": "EDZt4QzJTXW6"
      }
    },
    {
      "cell_type": "code",
      "source": [
        "class EncoderLayer(tf.keras.layers.Layer):\n",
        "  def __init__(self,*, d_model, num_heads, dff, dropout_rate=0.1):\n",
        "    super().__init__()\n",
        "\n",
        "    self.self_attention = GlobalSelfAttention(\n",
        "        num_heads=num_heads,  # число голов\n",
        "        key_dim=d_model,      # размерность ключа\n",
        "        dropout=dropout_rate) # уровень регуляризации\n",
        "\n",
        "    self.ffn = FeedForward(d_model, dff) # число нейронов во втором и первом Dense слое, соответственно\n",
        "\n",
        "  def call(self, x):\n",
        "    x = self.self_attention(x)\n",
        "    x = self.ffn(x)\n",
        "    return x"
      ],
      "metadata": {
        "id": "dt9GJxmfTWl_"
      },
      "execution_count": null,
      "outputs": []
    },
    {
      "cell_type": "code",
      "source": [
        "sample_encoder_layer = EncoderLayer(d_model=512, num_heads=8, dff=2048)\n",
        "\n",
        "print(pt_emb.shape)\n",
        "print(sample_encoder_layer(pt_emb).shape)"
      ],
      "metadata": {
        "id": "yp1KR6nzTaat",
        "colab": {
          "base_uri": "https://localhost:8080/"
        },
        "outputId": "30f07ee3-bc6a-48c7-c4c4-e408b6afa757"
      },
      "execution_count": null,
      "outputs": [
        {
          "output_type": "stream",
          "name": "stdout",
          "text": [
            "(64, 33, 512)\n",
            "(64, 33, 512)\n"
          ]
        }
      ]
    },
    {
      "cell_type": "markdown",
      "source": [
        "# Блок Кодировщика"
      ],
      "metadata": {
        "id": "9jVaU7tXTdfZ"
      }
    },
    {
      "cell_type": "code",
      "source": [
        "class Encoder(tf.keras.layers.Layer):\n",
        "  def __init__(self, *, num_layers, d_model, num_heads,\n",
        "               dff, vocab_size, dropout_rate=0.1):\n",
        "    super().__init__()\n",
        "\n",
        "    # Инициируем переменные внутри класса\n",
        "    self.d_model = d_model\n",
        "    self.num_layers = num_layers\n",
        "\n",
        "    # Создаем объект класса позиционного кодирования\n",
        "    self.pos_embedding = PositionalEmbedding(\n",
        "        vocab_size=vocab_size, d_model=d_model)\n",
        "\n",
        "    # Создаем объект класса для слоя кодировщика\n",
        "    self.enc_layers = [\n",
        "        EncoderLayer(d_model=d_model,\n",
        "                     num_heads=num_heads,\n",
        "                     dff=dff,\n",
        "                     dropout_rate=dropout_rate)\n",
        "        for _ in range(num_layers)]\n",
        "\n",
        "    # Создаем объект класса для слоя регуляризации\n",
        "    self.dropout = tf.keras.layers.Dropout(dropout_rate)\n",
        "\n",
        "  def call(self, x):\n",
        "    # Форма x токена: (batch, seq_len)\n",
        "    # Прогоняем последовательность токенов через слой позиционного кодирования\n",
        "    x = self.pos_embedding(x)  # форма на выходе (batch_size, seq_len, d_model)\n",
        "\n",
        "    # Прогоняем последовательность токенов через слой регуляризации\n",
        "    x = self.dropout(x)\n",
        "\n",
        "    # Прогоняем последовательность токенов через num_layers слоев кодировщика\n",
        "    for i in range(self.num_layers):\n",
        "      x = self.enc_layers[i](x)\n",
        "\n",
        "    return x  # форма на выходе (batch_size, seq_len, d_model)"
      ],
      "metadata": {
        "id": "C1lGj4SxTgTS"
      },
      "execution_count": null,
      "outputs": []
    },
    {
      "cell_type": "code",
      "source": [
        "sample_encoder = Encoder(num_layers=4,\n",
        "                         d_model=512,\n",
        "                         num_heads=8,\n",
        "                         dff=2048,\n",
        "                         vocab_size=VOCAB_SIZE)\n",
        "\n",
        "sample_encoder_output = sample_encoder(pt, training=False)\n",
        "\n",
        "print(pt.shape)\n",
        "print(sample_encoder_output.shape)  # форма на выходе (batch_size, input_seq_len, d_model)"
      ],
      "metadata": {
        "id": "quCXxyJ-Tir1",
        "colab": {
          "base_uri": "https://localhost:8080/"
        },
        "outputId": "98ed545a-cfe0-495b-b5f4-7c8ed357f1a0"
      },
      "execution_count": null,
      "outputs": [
        {
          "output_type": "stream",
          "name": "stdout",
          "text": [
            "(64, 33)\n",
            "(64, 33, 512)\n"
          ]
        }
      ]
    },
    {
      "cell_type": "markdown",
      "source": [
        "# Слой декодировщика"
      ],
      "metadata": {
        "id": "jS4lRGQ1TkFN"
      }
    },
    {
      "cell_type": "code",
      "source": [
        "class DecoderLayer(tf.keras.layers.Layer):\n",
        "  def __init__(self,\n",
        "               *,\n",
        "               d_model,\n",
        "               num_heads,\n",
        "               dff,\n",
        "               dropout_rate=0.1):\n",
        "    super(DecoderLayer, self).__init__()\n",
        "\n",
        "    # Слой внимания с причинно-следственной связью\n",
        "    self.causal_self_attention = CausalSelfAttention(\n",
        "        num_heads=num_heads,\n",
        "        key_dim=d_model,\n",
        "        dropout=dropout_rate)\n",
        "\n",
        "    # Слой с кросс-вниманием\n",
        "    self.cross_attention = CrossAttention(\n",
        "        num_heads=num_heads,\n",
        "        key_dim=d_model,\n",
        "        dropout=dropout_rate)\n",
        "\n",
        "    # Слой прямого распространения\n",
        "    self.ffn = FeedForward(d_model, dff)\n",
        "\n",
        "  def call(self, x, context):\n",
        "    # Пропускаем последовательность токенов через:\n",
        "    # Каузальный слой внимания\n",
        "    x = self.causal_self_attention(x=x)\n",
        "    # Слой кросс-внимания и контекстным вектором из кодировщика\n",
        "    x = self.cross_attention(x=x, context=context)\n",
        "\n",
        "    # Запомним оценки внимания на будущее\n",
        "    self.last_attn_scores = self.cross_attention.last_attn_scores\n",
        "    # Через слой прямого распространения\n",
        "    x = self.ffn(x)  # Форма `(batch_size, seq_len, d_model)`.\n",
        "    return x"
      ],
      "metadata": {
        "id": "y4h4gtbiTmwJ"
      },
      "execution_count": null,
      "outputs": []
    },
    {
      "cell_type": "code",
      "source": [
        "sample_decoder_layer = DecoderLayer(d_model=512, num_heads=8, dff=2048)\n",
        "\n",
        "sample_decoder_layer_output = sample_decoder_layer(\n",
        "    x=en_emb, context=pt_emb)\n",
        "\n",
        "print(en_emb.shape)\n",
        "print(pt_emb.shape)\n",
        "print(sample_decoder_layer_output.shape)  # Форма `(batch_size, seq_len, d_model)`"
      ],
      "metadata": {
        "id": "zt-Vo3koTqNp",
        "colab": {
          "base_uri": "https://localhost:8080/"
        },
        "outputId": "e2a5070a-22d7-4618-ad51-55ad453d4043"
      },
      "execution_count": null,
      "outputs": [
        {
          "output_type": "stream",
          "name": "stdout",
          "text": [
            "(64, 44, 512)\n",
            "(64, 33, 512)\n",
            "(64, 44, 512)\n"
          ]
        }
      ]
    },
    {
      "cell_type": "markdown",
      "source": [
        "# Блок Декодировщика"
      ],
      "metadata": {
        "id": "xNTuekpcTrYd"
      }
    },
    {
      "cell_type": "code",
      "source": [
        "class Decoder(tf.keras.layers.Layer):\n",
        "  def __init__(self, *, num_layers, d_model, num_heads, dff, vocab_size,\n",
        "               dropout_rate=0.1):\n",
        "    super(Decoder, self).__init__()\n",
        "\n",
        "    # Инициируем переменные внутри класса\n",
        "    self.d_model = d_model\n",
        "    self.num_layers = num_layers\n",
        "\n",
        "    # Создаем объект класса позиционного кодирования\n",
        "    self.pos_embedding = PositionalEmbedding(vocab_size=vocab_size,\n",
        "                                             d_model=d_model)\n",
        "    # Создаем объект класса для слоя регуляризации\n",
        "    self.dropout = tf.keras.layers.Dropout(dropout_rate)\n",
        "\n",
        "    # Создаем сразу стек слоев декодировщиков с помощью генератора списков по числу слоев\n",
        "    self.dec_layers = [\n",
        "        DecoderLayer(d_model=d_model, num_heads=num_heads,\n",
        "                     dff=dff, dropout_rate=dropout_rate)\n",
        "        for _ in range(num_layers)]\n",
        "\n",
        "    # Сбрасываем оценки внимания\n",
        "    self.last_attn_scores = None\n",
        "\n",
        "  def call(self, x, context):\n",
        "    # Подаем на вход последовательность токенов x формой (batch, target_seq_len)\n",
        "\n",
        "    # Пропускаем через слой позиционного кодирования (и конечно же эмбеддинг)\n",
        "    x = self.pos_embedding(x)  # форма на выходе (batch_size, target_seq_len, d_model)\n",
        "\n",
        "    # Регуляризация\n",
        "    x = self.dropout(x)\n",
        "\n",
        "    # Прогоняем через num_layers слоев декодировщиков\n",
        "    for i in range(self.num_layers):\n",
        "      x  = self.dec_layers[i](x, context)\n",
        "\n",
        "    # Сохраняем оценки внимания из последнего слоя\n",
        "    self.last_attn_scores = self.dec_layers[-1].last_attn_scores\n",
        "\n",
        "    # Форма x на выходе (batch_size, target_seq_len, d_model)\n",
        "    return x"
      ],
      "metadata": {
        "id": "_hwnlHlFTt7Z"
      },
      "execution_count": null,
      "outputs": []
    },
    {
      "cell_type": "code",
      "source": [
        "sample_decoder = Decoder(num_layers=4,\n",
        "                         d_model=512,\n",
        "                         num_heads=8,\n",
        "                         dff=2048,\n",
        "                         vocab_size=8000)\n",
        "\n",
        "output = sample_decoder(\n",
        "    x=en,\n",
        "    context=pt_emb)\n",
        "\n",
        "print(en.shape)\n",
        "print(pt_emb.shape)\n",
        "print(output.shape)"
      ],
      "metadata": {
        "id": "e9B_swskTyDI",
        "colab": {
          "base_uri": "https://localhost:8080/"
        },
        "outputId": "3e63152d-0896-43cb-ee07-3d241bb9b300"
      },
      "execution_count": null,
      "outputs": [
        {
          "output_type": "stream",
          "name": "stdout",
          "text": [
            "(64, 44)\n",
            "(64, 33, 512)\n",
            "(64, 44, 512)\n"
          ]
        }
      ]
    },
    {
      "cell_type": "markdown",
      "source": [
        "# Трансформер"
      ],
      "metadata": {
        "id": "kwwSzQV4T1DS"
      }
    },
    {
      "cell_type": "code",
      "source": [
        "class Transformer(tf.keras.Model):\n",
        "  def __init__(self, *, num_layers, d_model, num_heads, dff,\n",
        "               input_vocab_size, target_vocab_size, dropout_rate=0.1):\n",
        "    super().__init__()\n",
        "    # Кодировщик\n",
        "    self.encoder = Encoder(num_layers=num_layers, d_model=d_model,\n",
        "                           num_heads=num_heads, dff=dff,\n",
        "                           vocab_size=input_vocab_size,\n",
        "                           dropout_rate=dropout_rate)\n",
        "    # Декодировщик\n",
        "    self.decoder = Decoder(num_layers=num_layers, d_model=d_model,\n",
        "                           num_heads=num_heads, dff=dff,\n",
        "                           vocab_size=target_vocab_size,\n",
        "                           dropout_rate=dropout_rate)\n",
        "    # Конечный слой\n",
        "    self.final_layer = tf.keras.layers.Dense(target_vocab_size)\n",
        "\n",
        "  def call(self, inputs):\n",
        "    # Чтобы использовать метод `.fit` для обучения модели, необходимо передать\n",
        "    # все входные данные в первом аргументе\n",
        "    context, x  = inputs\n",
        "\n",
        "    # Передаем контекст в кодировщик\n",
        "    context = self.encoder(context)  # форма выходных данных (batch_size, context_len, d_model)\n",
        "\n",
        "    # Передаем контекст и целевой вектор в декодировщик\n",
        "    x = self.decoder(x, context)  # форма выходных данных (batch_size, target_len, d_model)\n",
        "\n",
        "    # Прогоняем выходные данные через финальный слой\n",
        "    logits = self.final_layer(x)  # форма выходных данных (batch_size, target_len, target_vocab_size)\n",
        "\n",
        "    try:\n",
        "      # После прохождения данных через все слои необходимо удалить\n",
        "      # маску, чтобы она не масштабировала, потери и метрики\n",
        "      # Обработчик ошибок позволяет избежать исключений при повторной попытке удаления\n",
        "      del logits._keras_mask\n",
        "    except AttributeError: # отлавливаем ошибку отсутствия аттрибута\n",
        "      pass\n",
        "\n",
        "    # Возвращаем наши логиты\n",
        "    return logits"
      ],
      "metadata": {
        "id": "3aUEOjwgT20y"
      },
      "execution_count": null,
      "outputs": []
    },
    {
      "cell_type": "markdown",
      "source": [
        "# Обучение"
      ],
      "metadata": {
        "id": "m_xFA6D5Ue8H"
      }
    },
    {
      "cell_type": "markdown",
      "source": [
        "## Параметры для обучения"
      ],
      "metadata": {
        "id": "IlGYU2UWUghu"
      }
    },
    {
      "cell_type": "code",
      "source": [
        "num_layers = 4\n",
        "d_model = 128\n",
        "dff = 512\n",
        "num_heads = 8\n",
        "dropout_rate = 0.1\n",
        "\n",
        "EPOCHS = 10"
      ],
      "metadata": {
        "id": "Tnlg95IeUiiF"
      },
      "execution_count": null,
      "outputs": []
    },
    {
      "cell_type": "markdown",
      "source": [
        "## Собираем трансформер"
      ],
      "metadata": {
        "id": "hRZGOYK3UypS"
      }
    },
    {
      "cell_type": "code",
      "source": [
        "transformer = Transformer(\n",
        "    num_layers=num_layers,\n",
        "    d_model=d_model,\n",
        "    num_heads=num_heads,\n",
        "    dff=dff,\n",
        "    input_vocab_size=tokenizers.pt.get_vocab_size().numpy(),\n",
        "    target_vocab_size=tokenizers.en.get_vocab_size().numpy(),\n",
        "    dropout_rate=dropout_rate)"
      ],
      "metadata": {
        "id": "kf47i0u_Uqti"
      },
      "execution_count": null,
      "outputs": []
    },
    {
      "cell_type": "code",
      "source": [
        "output = transformer((pt, en))\n",
        "\n",
        "print(en.shape)\n",
        "print(pt.shape)\n",
        "print(output.shape)\n",
        "\n",
        "# Оценки внимания\n",
        "attn_scores = transformer.decoder.dec_layers[-1].last_attn_scores\n",
        "print(attn_scores.shape)  # Форма оценок внимания: (batch, heads, target_seq, input_seq)"
      ],
      "metadata": {
        "id": "ijy0v7uBUxJk",
        "colab": {
          "base_uri": "https://localhost:8080/"
        },
        "outputId": "43347662-2078-4539-8c48-2c67cd814e16"
      },
      "execution_count": null,
      "outputs": [
        {
          "output_type": "stream",
          "name": "stdout",
          "text": [
            "(64, 44)\n",
            "(64, 33)\n",
            "(64, 44, 6806)\n",
            "(64, 8, 44, 33)\n"
          ]
        }
      ]
    },
    {
      "cell_type": "markdown",
      "source": [
        "## Оптимизатор"
      ],
      "metadata": {
        "id": "1BNqC-4WU7ly"
      }
    },
    {
      "cell_type": "code",
      "source": [
        "class CustomSchedule(tf.keras.optimizers.schedules.LearningRateSchedule):\n",
        "  def __init__(self, d_model, warmup_steps=4000):\n",
        "    super().__init__()\n",
        "\n",
        "    self.d_model = d_model\n",
        "    self.d_model = tf.cast(self.d_model, tf.float32)\n",
        "\n",
        "    self.warmup_steps = warmup_steps\n",
        "\n",
        "  def __call__(self, step):\n",
        "    step = tf.cast(step, dtype=tf.float32)\n",
        "    arg1 = tf.math.rsqrt(step)\n",
        "    arg2 = step * (self.warmup_steps ** -1.5)\n",
        "\n",
        "    return tf.math.rsqrt(self.d_model) * tf.math.minimum(arg1, arg2)"
      ],
      "metadata": {
        "id": "Ox939GJbUx0P"
      },
      "execution_count": null,
      "outputs": []
    },
    {
      "cell_type": "code",
      "source": [
        "learning_rate = CustomSchedule(d_model)\n",
        "\n",
        "optimizer = tf.keras.optimizers.Adam(learning_rate, beta_1=0.9, beta_2=0.98,\n",
        "                                     epsilon=1e-9)"
      ],
      "metadata": {
        "id": "wj0uSgjsVII6"
      },
      "execution_count": null,
      "outputs": []
    },
    {
      "cell_type": "code",
      "source": [
        "# Количество батчей для обучения\n",
        "num_batches = 0\n",
        "for (batch, (_,_)) in enumerate(train_batches):\n",
        "  num_batches = batch\n",
        "print(num_batches)"
      ],
      "metadata": {
        "id": "XPEjlO2SVKFP",
        "colab": {
          "base_uri": "https://localhost:8080/"
        },
        "outputId": "4202ef84-dcc0-4104-e73b-d9f55ce10464"
      },
      "execution_count": null,
      "outputs": [
        {
          "output_type": "stream",
          "name": "stdout",
          "text": [
            "624\n"
          ]
        }
      ]
    },
    {
      "cell_type": "code",
      "source": [
        "# @title Скорость обучения при 10 эпохах\n",
        "plt.plot(learning_rate(tf.range(num_batches*EPOCHS, dtype=tf.float32)))\n",
        "plt.ylabel('Скорость обучения')\n",
        "plt.xlabel('Шаг обучения')"
      ],
      "metadata": {
        "id": "AnQjWIM-VMiZ",
        "colab": {
          "base_uri": "https://localhost:8080/",
          "height": 466
        },
        "outputId": "a6bb5ab1-521f-46cc-f51c-deac3c3bf167"
      },
      "execution_count": null,
      "outputs": [
        {
          "output_type": "execute_result",
          "data": {
            "text/plain": [
              "Text(0.5, 0, 'Шаг обучения')"
            ]
          },
          "metadata": {},
          "execution_count": 68
        },
        {
          "output_type": "display_data",
          "data": {
            "text/plain": [
              "<Figure size 640x480 with 1 Axes>"
            ],
            "image/png": "[encoded data removed]"
          },
          "metadata": {}
        }
      ]
    },
    {
      "cell_type": "code",
      "source": [
        "# @title Скорость обучения при 50 эпохах\n",
        "plt.plot(learning_rate(tf.range(num_batches*EPOCHS*5, dtype=tf.float32)))\n",
        "plt.ylabel('Скорость обучения')\n",
        "plt.xlabel('Шаг обучения')"
      ],
      "metadata": {
        "id": "LukJ6ElqViHr",
        "colab": {
          "base_uri": "https://localhost:8080/",
          "height": 466
        },
        "outputId": "db43c368-9a08-42c0-9ed1-458e9479fdde"
      },
      "execution_count": null,
      "outputs": [
        {
          "output_type": "execute_result",
          "data": {
            "text/plain": [
              "Text(0.5, 0, 'Шаг обучения')"
            ]
          },
          "metadata": {},
          "execution_count": 69
        },
        {
          "output_type": "display_data",
          "data": {
            "text/plain": [
              "<Figure size 640x480 with 1 Axes>"
            ],
            "image/png": "[encoded data removed]"
          },
          "metadata": {}
        }
      ]
    },
    {
      "cell_type": "markdown",
      "source": [
        "## Функция потерь и метрики"
      ],
      "metadata": {
        "id": "aYanEUdjVqeM"
      }
    },
    {
      "cell_type": "code",
      "source": [
        "# Функция потерь с учетом маски\n",
        "def masked_loss(label, pred):\n",
        "  # Задаем маску, где метки не равны 0\n",
        "  mask = label != 0\n",
        "  # Определяем функцию потерь\n",
        "  loss_object = tf.keras.losses.SparseCategoricalCrossentropy(\n",
        "    from_logits=True, reduction='none')\n",
        "  loss = loss_object(label, pred)\n",
        "\n",
        "  # Важно чтобы mask и loss имели одинаковый тип данных\n",
        "  mask = tf.cast(mask, dtype=loss.dtype)\n",
        "  # Наложение маски на loss\n",
        "  loss *= mask\n",
        "\n",
        "  # Масштабирование потерь на маску\n",
        "  loss = tf.reduce_sum(loss)/tf.reduce_sum(mask)\n",
        "  return loss\n",
        "\n",
        "# Функция точности с учетом маски\n",
        "def masked_accuracy(label, pred):\n",
        "  pred = tf.argmax(pred, axis=2)\n",
        "  label = tf.cast(label, pred.dtype)\n",
        "  # Оценка совпадения метки и предсказания\n",
        "  match = label == pred\n",
        "  # Задаем маску, где метки не равны 0\n",
        "  mask = label != 0\n",
        "\n",
        "  # Логическое И\n",
        "  match = match & mask\n",
        "\n",
        "  # Преобразуем к одному типу и масштабирование совпадений на маску\n",
        "  match = tf.cast(match, dtype=tf.float32)\n",
        "  mask = tf.cast(mask, dtype=tf.float32)\n",
        "  return tf.reduce_sum(match)/tf.reduce_sum(mask)"
      ],
      "metadata": {
        "id": "UabWaDogVtS4"
      },
      "execution_count": null,
      "outputs": []
    },
    {
      "cell_type": "markdown",
      "source": [
        "## Компилируем и обучаем модель"
      ],
      "metadata": {
        "id": "mhQZWSSOVyic"
      }
    },
    {
      "cell_type": "code",
      "source": [
        "transformer.compile(\n",
        "    loss=masked_loss,\n",
        "    optimizer=optimizer,\n",
        "    metrics=[masked_accuracy])"
      ],
      "metadata": {
        "id": "jcdCL60mVySe"
      },
      "execution_count": null,
      "outputs": []
    },
    {
      "cell_type": "code",
      "source": [
        "transformer.fit(train_batches,\n",
        "                epochs=EPOCHS,\n",
        "                validation_data=val_batches)"
      ],
      "metadata": {
        "id": "o34Tsj91V2KM",
        "colab": {
          "base_uri": "https://localhost:8080/"
        },
        "outputId": "ab51f674-47f9-48ba-a632-bc4935201bb0"
      },
      "execution_count": null,
      "outputs": [
        {
          "output_type": "stream",
          "name": "stdout",
          "text": [
            "Epoch 1/10\n",
            "\u001b[1m625/625\u001b[0m \u001b[32m━━━━━━━━━━━━━━━━━━━━\u001b[0m\u001b[37m\u001b[0m \u001b[1m959s\u001b[0m 1s/step - loss: 8.1082 - masked_accuracy: 0.0496 - val_loss: 6.3098 - val_masked_accuracy: 0.0995\n",
            "Epoch 2/10\n",
            "\u001b[1m625/625\u001b[0m \u001b[32m━━━━━━━━━━━━━━━━━━━━\u001b[0m\u001b[37m\u001b[0m \u001b[1m929s\u001b[0m 1s/step - loss: 6.1335 - masked_accuracy: 0.1104 - val_loss: 5.7141 - val_masked_accuracy: 0.1202\n",
            "Epoch 3/10\n",
            "\u001b[1m625/625\u001b[0m \u001b[32m━━━━━━━━━━━━━━━━━━━━\u001b[0m\u001b[37m\u001b[0m \u001b[1m935s\u001b[0m 1s/step - loss: 5.5971 - masked_accuracy: 0.1305 - val_loss: 5.4375 - val_masked_accuracy: 0.1282\n",
            "Epoch 4/10\n",
            "\u001b[1m625/625\u001b[0m \u001b[32m━━━━━━━━━━━━━━━━━━━━\u001b[0m\u001b[37m\u001b[0m \u001b[1m935s\u001b[0m 1s/step - loss: 5.2896 - masked_accuracy: 0.1412 - val_loss: 5.2647 - val_masked_accuracy: 0.1396\n",
            "Epoch 5/10\n",
            "\u001b[1m625/625\u001b[0m \u001b[32m━━━━━━━━━━━━━━━━━━━━\u001b[0m\u001b[37m\u001b[0m \u001b[1m932s\u001b[0m 1s/step - loss: 5.0623 - masked_accuracy: 0.1521 - val_loss: 5.1717 - val_masked_accuracy: 0.1458\n",
            "Epoch 6/10\n",
            "\u001b[1m625/625\u001b[0m \u001b[32m━━━━━━━━━━━━━━━━━━━━\u001b[0m\u001b[37m\u001b[0m \u001b[1m931s\u001b[0m 1s/step - loss: 4.8630 - masked_accuracy: 0.1661 - val_loss: 5.1276 - val_masked_accuracy: 0.1469\n",
            "Epoch 7/10\n",
            "\u001b[1m625/625\u001b[0m \u001b[32m━━━━━━━━━━━━━━━━━━━━\u001b[0m\u001b[37m\u001b[0m \u001b[1m940s\u001b[0m 2s/step - loss: 4.7433 - masked_accuracy: 0.1712 - val_loss: 5.0860 - val_masked_accuracy: 0.1550\n",
            "Epoch 8/10\n",
            "\u001b[1m625/625\u001b[0m \u001b[32m━━━━━━━━━━━━━━━━━━━━\u001b[0m\u001b[37m\u001b[0m \u001b[1m926s\u001b[0m 1s/step - loss: 4.5509 - masked_accuracy: 0.1870 - val_loss: 5.0678 - val_masked_accuracy: 0.1583\n",
            "Epoch 9/10\n",
            "\u001b[1m625/625\u001b[0m \u001b[32m━━━━━━━━━━━━━━━━━━━━\u001b[0m\u001b[37m\u001b[0m \u001b[1m928s\u001b[0m 1s/step - loss: 4.3607 - masked_accuracy: 0.2024 - val_loss: 5.0932 - val_masked_accuracy: 0.1603\n",
            "Epoch 10/10\n",
            "\u001b[1m625/625\u001b[0m \u001b[32m━━━━━━━━━━━━━━━━━━━━\u001b[0m\u001b[37m\u001b[0m \u001b[1m933s\u001b[0m 1s/step - loss: 4.1636 - masked_accuracy: 0.2228 - val_loss: 5.1186 - val_masked_accuracy: 0.1614\n"
          ]
        },
        {
          "output_type": "execute_result",
          "data": {
            "text/plain": [
              "<keras.src.callbacks.history.History at 0x7a2ba8ba5f90>"
            ]
          },
          "metadata": {},
          "execution_count": 72
        }
      ]
    },
    {
      "cell_type": "markdown",
      "source": [
        "# Тестирование модели"
      ],
      "metadata": {
        "id": "6oRnkss5V8Ca"
      }
    },
    {
      "cell_type": "markdown",
      "source": [
        "## Класс переводчика"
      ],
      "metadata": {
        "id": "lOqh1mdOWBPm"
      }
    },
    {
      "cell_type": "code",
      "source": [
        "class Translator(tf.Module):\n",
        "  def __init__(self, tokenizers, transformer):\n",
        "    self.tokenizers = tokenizers\n",
        "    self.transformer = transformer\n",
        "\n",
        "  def __call__(self, sentence, max_length=MAX_TOKENS):\n",
        "\n",
        "    assert isinstance(sentence, tf.Tensor) # Проверяем, что последовательность является тензором\n",
        "    if len(sentence.shape) == 0:\n",
        "      sentence = sentence[tf.newaxis]\n",
        "\n",
        "    sentence = self.tokenizers.pt.tokenize(sentence).to_tensor()\n",
        "    # Введенное предложение написано на португальском языке\n",
        "    encoder_input = sentence\n",
        "\n",
        "    # Поскольку языком вывода является английский, инициализируйте вывод с помощью токена [START]\n",
        "    start_end = self.tokenizers.en.tokenize([''])[0]\n",
        "    start = start_end[0][tf.newaxis]\n",
        "    end = start_end[1][tf.newaxis]\n",
        "\n",
        "    # Здесь требуется  tf.TensorArray` (вместо списка Python), чтобы динамический цикл\n",
        "    # можно было отследить с помощью `tf.function`.\n",
        "    output_array = tf.TensorArray(dtype=tf.int64, size=0, dynamic_size=True)\n",
        "    output_array = output_array.write(0, start)\n",
        "\n",
        "    for i in tf.range(max_length):\n",
        "      # на каждом шаге складываем выходные токены в массив для\n",
        "      #  передачи на вход на следующем шаге\n",
        "      output = tf.transpose(output_array.stack())\n",
        "      # передаем в трансформер для предсказания токены\n",
        "      predictions = self.transformer([encoder_input, output], training=False)\n",
        "\n",
        "      # Выбираем последний токен из измерения `seq_len`\n",
        "      predictions = predictions[:, -1:, :]  # Форма `(batch_size, 1, vocab_size)`.\n",
        "\n",
        "      # Предсказанный токен\n",
        "      predicted_id = tf.argmax(predictions, axis=-1)\n",
        "\n",
        "      # Объединяем `predicted_id` с выходными данными, которые передаются\n",
        "      # декодеру в качестве входных данных.\n",
        "      output_array = output_array.write(i+1, predicted_id[0])\n",
        "\n",
        "      if predicted_id == end:\n",
        "        break\n",
        "\n",
        "    output = tf.transpose(output_array.stack())\n",
        "    # Токены в текст\n",
        "    text = tokenizers.en.detokenize(output)[0]  # Shape: `()`.\n",
        "\n",
        "    tokens = tokenizers.en.lookup(output)[0]\n",
        "\n",
        "    # `tf.function` не позволяет нам использовать значения attention_weight, которые были\n",
        "    # рассчитаны на последней итерации цикла.\n",
        "    # Поэтому пересчитаем их вне цикла.\n",
        "    self.transformer([encoder_input, output[:,:-1]], training=False)\n",
        "    attention_weights = self.transformer.decoder.last_attn_scores\n",
        "\n",
        "    return text, tokens, attention_weights"
      ],
      "metadata": {
        "id": "mqzsj8wLV-G0"
      },
      "execution_count": null,
      "outputs": []
    },
    {
      "cell_type": "code",
      "source": [
        "translator = Translator(tokenizers, transformer)"
      ],
      "metadata": {
        "id": "dpEx0CIsWE1M"
      },
      "execution_count": null,
      "outputs": []
    },
    {
      "cell_type": "code",
      "source": [
        "def print_translation(sentence, tokens, ground_truth):\n",
        "  print(f'{\"Фраза для перевода:\":25s}: {sentence}')\n",
        "  print(f'{\"Предсказанный перевод:\":25s}: {tokens.numpy().decode(\"utf-8\")}')\n",
        "  print(f'{\"Оригинальный перевод\":25s}: {ground_truth}')"
      ],
      "metadata": {
        "id": "Y3y30574WGxA"
      },
      "execution_count": null,
      "outputs": []
    },
    {
      "cell_type": "markdown",
      "source": [
        "## Пример № 1"
      ],
      "metadata": {
        "id": "FV-lbwnXWISh"
      }
    },
    {
      "cell_type": "code",
      "source": [
        "sentence = 'сделай ауе.'\n",
        "ground_truth = 'забанят сразу'\n",
        "\n",
        "translated_text, translated_tokens, attention_weights = translator(\n",
        "    tf.constant(sentence))\n",
        "print_translation(sentence, translated_text, ground_truth)"
      ],
      "metadata": {
        "id": "BaYe6obcWJ9W",
        "colab": {
          "base_uri": "https://localhost:8080/"
        },
        "outputId": "3418efea-903f-4c4b-85c6-416bbf4586d7"
      },
      "execution_count": null,
      "outputs": [
        {
          "output_type": "stream",
          "name": "stdout",
          "text": [
            "Фраза для перевода:      : сделай ауе.\n",
            "Предсказанный перевод:   : я не знаю\n",
            "Оригинальный перевод     : забанят сразу\n"
          ]
        }
      ]
    },
    {
      "cell_type": "markdown",
      "source": [
        "## Пример № 2"
      ],
      "metadata": {
        "id": "tq9aVzOqWKnn"
      }
    },
    {
      "cell_type": "code",
      "source": [
        "sentence = 'а как можно за мужчиной виртуально поухаживать?'\n",
        "ground_truth = 'сначала застолби его, чтобы другие тети не претендовали'\n",
        "\n",
        "translated_text, translated_tokens, attention_weights = translator(\n",
        "    tf.constant(sentence))\n",
        "print_translation(sentence, translated_text, ground_truth)"
      ],
      "metadata": {
        "id": "AHOBrHNhWMeJ",
        "colab": {
          "base_uri": "https://localhost:8080/"
        },
        "outputId": "75a078c5-e7c7-4d23-d8df-27d40b7a6095"
      },
      "execution_count": null,
      "outputs": [
        {
          "output_type": "stream",
          "name": "stdout",
          "text": [
            "Фраза для перевода:      : а как можно за мужчиной виртуально поухаживать?\n",
            "Предсказанный перевод:   : я не люблю , а я не люблю .\n",
            "Оригинальный перевод     : сначала застолби его, чтобы другие тети не претендовали\n"
          ]
        }
      ]
    },
    {
      "cell_type": "markdown",
      "source": [
        "## Пример № 3"
      ],
      "metadata": {
        "id": "sIGawdd7WOwk"
      }
    },
    {
      "cell_type": "code",
      "source": [
        "sentence = 'а бывают ли такие случаи когда ученицы за хорошую оценку делают учителю минет или трахаются с ним?'\n",
        "ground_truth = \"бывают я ректор.\"\n",
        "\n",
        "translated_text, translated_tokens, attention_weights = translator(\n",
        "    tf.constant(sentence))\n",
        "print_translation(sentence, translated_text, ground_truth)"
      ],
      "metadata": {
        "id": "o4lLW0c5WQ2G",
        "colab": {
          "base_uri": "https://localhost:8080/"
        },
        "outputId": "fbc9bf01-dcae-4cc4-e7c9-6fb4fe7ddb41"
      },
      "execution_count": null,
      "outputs": [
        {
          "output_type": "stream",
          "name": "stdout",
          "text": [
            "Фраза для перевода:      : а бывают ли такие случаи когда ученицы за хорошую оценку делают учителю минет или трахаются с ним?\n",
            "Предсказанный перевод:   : я не люблю , а я люблю .\n",
            "Оригинальный перевод     : бывают я ректор.\n"
          ]
        }
      ]
    }
  ],
  "metadata": {
    "colab": {
      "provenance": [],
      "gpuType": "V28"
    },
    "kernelspec": {
      "display_name": "Python 3",
      "name": "python3"
    },
    "language_info": {
      "name": "python"
    },
    "accelerator": "TPU",
    "widgets": {
      "application/vnd.jupyter.widget-state+json": {
        "ad1bddeb19fe4542938c0c368e410ee6": {
          "model_module": "@jupyter-widgets/controls",
          "model_name": "HBoxModel",
          "model_module_version": "1.5.0",
          "state": {
            "_dom_classes": [],
            "_model_module": "@jupyter-widgets/controls",
            "_model_module_version": "1.5.0",
            "_model_name": "HBoxModel",
            "_view_count": null,
            "_view_module": "@jupyter-widgets/controls",
            "_view_module_version": "1.5.0",
            "_view_name": "HBoxView",
            "box_style": "",
            "children": [
              "IPY_MODEL_23de7df49d0b4fc38b66d118a41ba057",
              "IPY_MODEL_b8a509b323974401be66e1824c9aefb2",
              "IPY_MODEL_ac7e9efac7094e62a125688adf992f11"
            ],
            "layout": "IPY_MODEL_26fdc720435646ca85d969ccee882bbf"
          }
        },
        "23de7df49d0b4fc38b66d118a41ba057": {
          "model_module": "@jupyter-widgets/controls",
          "model_name": "HTMLModel",
          "model_module_version": "1.5.0",
          "state": {
            "_dom_classes": [],
            "_model_module": "@jupyter-widgets/controls",
            "_model_module_version": "1.5.0",
            "_model_name": "HTMLModel",
            "_view_count": null,
            "_view_module": "@jupyter-widgets/controls",
            "_view_module_version": "1.5.0",
            "_view_name": "HTMLView",
            "description": "",
            "description_tooltip": null,
            "layout": "IPY_MODEL_ecf17cd30d9a4fb3b5087645e79cb343",
            "placeholder": "​",
            "style": "IPY_MODEL_881895fc9d2146539242ed0ada8e8353",
            "value": "README.md: 100%"
          }
        },
        "b8a509b323974401be66e1824c9aefb2": {
          "model_module": "@jupyter-widgets/controls",
          "model_name": "FloatProgressModel",
          "model_module_version": "1.5.0",
          "state": {
            "_dom_classes": [],
            "_model_module": "@jupyter-widgets/controls",
            "_model_module_version": "1.5.0",
            "_model_name": "FloatProgressModel",
            "_view_count": null,
            "_view_module": "@jupyter-widgets/controls",
            "_view_module_version": "1.5.0",
            "_view_name": "ProgressView",
            "bar_style": "success",
            "description": "",
            "description_tooltip": null,
            "layout": "IPY_MODEL_b9260cb37c284b489c99e0bb50de7e16",
            "max": 951,
            "min": 0,
            "orientation": "horizontal",
            "style": "IPY_MODEL_b71018b255144ee4b8b804ba63c19e09",
            "value": 951
          }
        },
        "ac7e9efac7094e62a125688adf992f11": {
          "model_module": "@jupyter-widgets/controls",
          "model_name": "HTMLModel",
          "model_module_version": "1.5.0",
          "state": {
            "_dom_classes": [],
            "_model_module": "@jupyter-widgets/controls",
            "_model_module_version": "1.5.0",
            "_model_name": "HTMLModel",
            "_view_count": null,
            "_view_module": "@jupyter-widgets/controls",
            "_view_module_version": "1.5.0",
            "_view_name": "HTMLView",
            "description": "",
            "description_tooltip": null,
            "layout": "IPY_MODEL_45ad2d0e645443bdb9f432637ea0f4ff",
            "placeholder": "​",
            "style": "IPY_MODEL_d938705d63a048b1ae9551af5d47bd98",
            "value": " 951/951 [00:00&lt;00:00, 83.1kB/s]"
          }
        },
        "26fdc720435646ca85d969ccee882bbf": {
          "model_module": "@jupyter-widgets/base",
          "model_name": "LayoutModel",
          "model_module_version": "1.2.0",
          "state": {
            "_model_module": "@jupyter-widgets/base",
            "_model_module_version": "1.2.0",
            "_model_name": "LayoutModel",
            "_view_count": null,
            "_view_module": "@jupyter-widgets/base",
            "_view_module_version": "1.2.0",
            "_view_name": "LayoutView",
            "align_content": null,
            "align_items": null,
            "align_self": null,
            "border": null,
            "bottom": null,
            "display": null,
            "flex": null,
            "flex_flow": null,
            "grid_area": null,
            "grid_auto_columns": null,
            "grid_auto_flow": null,
            "grid_auto_rows": null,
            "grid_column": null,
            "grid_gap": null,
            "grid_row": null,
            "grid_template_areas": null,
            "grid_template_columns": null,
            "grid_template_rows": null,
            "height": null,
            "justify_content": null,
            "justify_items": null,
            "left": null,
            "margin": null,
            "max_height": null,
            "max_width": null,
            "min_height": null,
            "min_width": null,
            "object_fit": null,
            "object_position": null,
            "order": null,
            "overflow": null,
            "overflow_x": null,
            "overflow_y": null,
            "padding": null,
            "right": null,
            "top": null,
            "visibility": null,
            "width": null
          }
        },
        "ecf17cd30d9a4fb3b5087645e79cb343": {
          "model_module": "@jupyter-widgets/base",
          "model_name": "LayoutModel",
          "model_module_version": "1.2.0",
          "state": {
            "_model_module": "@jupyter-widgets/base",
            "_model_module_version": "1.2.0",
            "_model_name": "LayoutModel",
            "_view_count": null,
            "_view_module": "@jupyter-widgets/base",
            "_view_module_version": "1.2.0",
            "_view_name": "LayoutView",
            "align_content": null,
            "align_items": null,
            "align_self": null,
            "border": null,
            "bottom": null,
            "display": null,
            "flex": null,
            "flex_flow": null,
            "grid_area": null,
            "grid_auto_columns": null,
            "grid_auto_flow": null,
            "grid_auto_rows": null,
            "grid_column": null,
            "grid_gap": null,
            "grid_row": null,
            "grid_template_areas": null,
            "grid_template_columns": null,
            "grid_template_rows": null,
            "height": null,
            "justify_content": null,
            "justify_items": null,
            "left": null,
            "margin": null,
            "max_height": null,
            "max_width": null,
            "min_height": null,
            "min_width": null,
            "object_fit": null,
            "object_position": null,
            "order": null,
            "overflow": null,
            "overflow_x": null,
            "overflow_y": null,
            "padding": null,
            "right": null,
            "top": null,
            "visibility": null,
            "width": null
          }
        },
        "881895fc9d2146539242ed0ada8e8353": {
          "model_module": "@jupyter-widgets/controls",
          "model_name": "DescriptionStyleModel",
          "model_module_version": "1.5.0",
          "state": {
            "_model_module": "@jupyter-widgets/controls",
            "_model_module_version": "1.5.0",
            "_model_name": "DescriptionStyleModel",
            "_view_count": null,
            "_view_module": "@jupyter-widgets/base",
            "_view_module_version": "1.2.0",
            "_view_name": "StyleView",
            "description_width": ""
          }
        },
        "b9260cb37c284b489c99e0bb50de7e16": {
          "model_module": "@jupyter-widgets/base",
          "model_name": "LayoutModel",
          "model_module_version": "1.2.0",
          "state": {
            "_model_module": "@jupyter-widgets/base",
            "_model_module_version": "1.2.0",
            "_model_name": "LayoutModel",
            "_view_count": null,
            "_view_module": "@jupyter-widgets/base",
            "_view_module_version": "1.2.0",
            "_view_name": "LayoutView",
            "align_content": null,
            "align_items": null,
            "align_self": null,
            "border": null,
            "bottom": null,
            "display": null,
            "flex": null,
            "flex_flow": null,
            "grid_area": null,
            "grid_auto_columns": null,
            "grid_auto_flow": null,
            "grid_auto_rows": null,
            "grid_column": null,
            "grid_gap": null,
            "grid_row": null,
            "grid_template_areas": null,
            "grid_template_columns": null,
            "grid_template_rows": null,
            "height": null,
            "justify_content": null,
            "justify_items": null,
            "left": null,
            "margin": null,
            "max_height": null,
            "max_width": null,
            "min_height": null,
            "min_width": null,
            "object_fit": null,
            "object_position": null,
            "order": null,
            "overflow": null,
            "overflow_x": null,
            "overflow_y": null,
            "padding": null,
            "right": null,
            "top": null,
            "visibility": null,
            "width": null
          }
        },
        "b71018b255144ee4b8b804ba63c19e09": {
          "model_module": "@jupyter-widgets/controls",
          "model_name": "ProgressStyleModel",
          "model_module_version": "1.5.0",
          "state": {
            "_model_module": "@jupyter-widgets/controls",
            "_model_module_version": "1.5.0",
            "_model_name": "ProgressStyleModel",
            "_view_count": null,
            "_view_module": "@jupyter-widgets/base",
            "_view_module_version": "1.2.0",
            "_view_name": "StyleView",
            "bar_color": null,
            "description_width": ""
          }
        },
        "45ad2d0e645443bdb9f432637ea0f4ff": {
          "model_module": "@jupyter-widgets/base",
          "model_name": "LayoutModel",
          "model_module_version": "1.2.0",
          "state": {
            "_model_module": "@jupyter-widgets/base",
            "_model_module_version": "1.2.0",
            "_model_name": "LayoutModel",
            "_view_count": null,
            "_view_module": "@jupyter-widgets/base",
            "_view_module_version": "1.2.0",
            "_view_name": "LayoutView",
            "align_content": null,
            "align_items": null,
            "align_self": null,
            "border": null,
            "bottom": null,
            "display": null,
            "flex": null,
            "flex_flow": null,
            "grid_area": null,
            "grid_auto_columns": null,
            "grid_auto_flow": null,
            "grid_auto_rows": null,
            "grid_column": null,
            "grid_gap": null,
            "grid_row": null,
            "grid_template_areas": null,
            "grid_template_columns": null,
            "grid_template_rows": null,
            "height": null,
            "justify_content": null,
            "justify_items": null,
            "left": null,
            "margin": null,
            "max_height": null,
            "max_width": null,
            "min_height": null,
            "min_width": null,
            "object_fit": null,
            "object_position": null,
            "order": null,
            "overflow": null,
            "overflow_x": null,
            "overflow_y": null,
            "padding": null,
            "right": null,
            "top": null,
            "visibility": null,
            "width": null
          }
        },
        "d938705d63a048b1ae9551af5d47bd98": {
          "model_module": "@jupyter-widgets/controls",
          "model_name": "DescriptionStyleModel",
          "model_module_version": "1.5.0",
          "state": {
            "_model_module": "@jupyter-widgets/controls",
            "_model_module_version": "1.5.0",
            "_model_name": "DescriptionStyleModel",
            "_view_count": null,
            "_view_module": "@jupyter-widgets/base",
            "_view_module_version": "1.2.0",
            "_view_name": "StyleView",
            "description_width": ""
          }
        },
        "9140b3ffc26345fa9bdcf3651290617d": {
          "model_module": "@jupyter-widgets/controls",
          "model_name": "HBoxModel",
          "model_module_version": "1.5.0",
          "state": {
            "_dom_classes": [],
            "_model_module": "@jupyter-widgets/controls",
            "_model_module_version": "1.5.0",
            "_model_name": "HBoxModel",
            "_view_count": null,
            "_view_module": "@jupyter-widgets/controls",
            "_view_module_version": "1.5.0",
            "_view_name": "HBoxView",
            "box_style": "",
            "children": [
              "IPY_MODEL_a1393c9821e041c0967e78b0aff6b110",
              "IPY_MODEL_e9de899914f84dc2bf3e6fa803ee7e86",
              "IPY_MODEL_4a8f5e025e1a4b88b47e2c2816e63841"
            ],
            "layout": "IPY_MODEL_187437e895844f63a433e8528dc4c1f3"
          }
        },
        "a1393c9821e041c0967e78b0aff6b110": {
          "model_module": "@jupyter-widgets/controls",
          "model_name": "HTMLModel",
          "model_module_version": "1.5.0",
          "state": {
            "_dom_classes": [],
            "_model_module": "@jupyter-widgets/controls",
            "_model_module_version": "1.5.0",
            "_model_name": "HTMLModel",
            "_view_count": null,
            "_view_module": "@jupyter-widgets/controls",
            "_view_module_version": "1.5.0",
            "_view_name": "HTMLView",
            "description": "",
            "description_tooltip": null,
            "layout": "IPY_MODEL_0459924b0877430fbf2ec0be4663cc34",
            "placeholder": "​",
            "style": "IPY_MODEL_1db8776edada4f548de481efc09acc00",
            "value": "dataset.jsonl: 100%"
          }
        },
        "e9de899914f84dc2bf3e6fa803ee7e86": {
          "model_module": "@jupyter-widgets/controls",
          "model_name": "FloatProgressModel",
          "model_module_version": "1.5.0",
          "state": {
            "_dom_classes": [],
            "_model_module": "@jupyter-widgets/controls",
            "_model_module_version": "1.5.0",
            "_model_name": "FloatProgressModel",
            "_view_count": null,
            "_view_module": "@jupyter-widgets/controls",
            "_view_module_version": "1.5.0",
            "_view_name": "ProgressView",
            "bar_style": "success",
            "description": "",
            "description_tooltip": null,
            "layout": "IPY_MODEL_849a78d7a6cb43bfb652cacf61761d91",
            "max": 1421432950,
            "min": 0,
            "orientation": "horizontal",
            "style": "IPY_MODEL_bb955b535ed04194866304772f35d866",
            "value": 1421432950
          }
        },
        "4a8f5e025e1a4b88b47e2c2816e63841": {
          "model_module": "@jupyter-widgets/controls",
          "model_name": "HTMLModel",
          "model_module_version": "1.5.0",
          "state": {
            "_dom_classes": [],
            "_model_module": "@jupyter-widgets/controls",
            "_model_module_version": "1.5.0",
            "_model_name": "HTMLModel",
            "_view_count": null,
            "_view_module": "@jupyter-widgets/controls",
            "_view_module_version": "1.5.0",
            "_view_name": "HTMLView",
            "description": "",
            "description_tooltip": null,
            "layout": "IPY_MODEL_e1c57b7b03624aeaa24d6d1b08512589",
            "placeholder": "​",
            "style": "IPY_MODEL_d2c1c4da32ab45ddbe9781446280ee57",
            "value": " 1.42G/1.42G [00:05&lt;00:00, 264MB/s]"
          }
        },
        "187437e895844f63a433e8528dc4c1f3": {
          "model_module": "@jupyter-widgets/base",
          "model_name": "LayoutModel",
          "model_module_version": "1.2.0",
          "state": {
            "_model_module": "@jupyter-widgets/base",
            "_model_module_version": "1.2.0",
            "_model_name": "LayoutModel",
            "_view_count": null,
            "_view_module": "@jupyter-widgets/base",
            "_view_module_version": "1.2.0",
            "_view_name": "LayoutView",
            "align_content": null,
            "align_items": null,
            "align_self": null,
            "border": null,
            "bottom": null,
            "display": null,
            "flex": null,
            "flex_flow": null,
            "grid_area": null,
            "grid_auto_columns": null,
            "grid_auto_flow": null,
            "grid_auto_rows": null,
            "grid_column": null,
            "grid_gap": null,
            "grid_row": null,
            "grid_template_areas": null,
            "grid_template_columns": null,
            "grid_template_rows": null,
            "height": null,
            "justify_content": null,
            "justify_items": null,
            "left": null,
            "margin": null,
            "max_height": null,
            "max_width": null,
            "min_height": null,
            "min_width": null,
            "object_fit": null,
            "object_position": null,
            "order": null,
            "overflow": null,
            "overflow_x": null,
            "overflow_y": null,
            "padding": null,
            "right": null,
            "top": null,
            "visibility": null,
            "width": null
          }
        },
        "0459924b0877430fbf2ec0be4663cc34": {
          "model_module": "@jupyter-widgets/base",
          "model_name": "LayoutModel",
          "model_module_version": "1.2.0",
          "state": {
            "_model_module": "@jupyter-widgets/base",
            "_model_module_version": "1.2.0",
            "_model_name": "LayoutModel",
            "_view_count": null,
            "_view_module": "@jupyter-widgets/base",
            "_view_module_version": "1.2.0",
            "_view_name": "LayoutView",
            "align_content": null,
            "align_items": null,
            "align_self": null,
            "border": null,
            "bottom": null,
            "display": null,
            "flex": null,
            "flex_flow": null,
            "grid_area": null,
            "grid_auto_columns": null,
            "grid_auto_flow": null,
            "grid_auto_rows": null,
            "grid_column": null,
            "grid_gap": null,
            "grid_row": null,
            "grid_template_areas": null,
            "grid_template_columns": null,
            "grid_template_rows": null,
            "height": null,
            "justify_content": null,
            "justify_items": null,
            "left": null,
            "margin": null,
            "max_height": null,
            "max_width": null,
            "min_height": null,
            "min_width": null,
            "object_fit": null,
            "object_position": null,
            "order": null,
            "overflow": null,
            "overflow_x": null,
            "overflow_y": null,
            "padding": null,
            "right": null,
            "top": null,
            "visibility": null,
            "width": null
          }
        },
        "1db8776edada4f548de481efc09acc00": {
          "model_module": "@jupyter-widgets/controls",
          "model_name": "DescriptionStyleModel",
          "model_module_version": "1.5.0",
          "state": {
            "_model_module": "@jupyter-widgets/controls",
            "_model_module_version": "1.5.0",
            "_model_name": "DescriptionStyleModel",
            "_view_count": null,
            "_view_module": "@jupyter-widgets/base",
            "_view_module_version": "1.2.0",
            "_view_name": "StyleView",
            "description_width": ""
          }
        },
        "849a78d7a6cb43bfb652cacf61761d91": {
          "model_module": "@jupyter-widgets/base",
          "model_name": "LayoutModel",
          "model_module_version": "1.2.0",
          "state": {
            "_model_module": "@jupyter-widgets/base",
            "_model_module_version": "1.2.0",
            "_model_name": "LayoutModel",
            "_view_count": null,
            "_view_module": "@jupyter-widgets/base",
            "_view_module_version": "1.2.0",
            "_view_name": "LayoutView",
            "align_content": null,
            "align_items": null,
            "align_self": null,
            "border": null,
            "bottom": null,
            "display": null,
            "flex": null,
            "flex_flow": null,
            "grid_area": null,
            "grid_auto_columns": null,
            "grid_auto_flow": null,
            "grid_auto_rows": null,
            "grid_column": null,
            "grid_gap": null,
            "grid_row": null,
            "grid_template_areas": null,
            "grid_template_columns": null,
            "grid_template_rows": null,
            "height": null,
            "justify_content": null,
            "justify_items": null,
            "left": null,
            "margin": null,
            "max_height": null,
            "max_width": null,
            "min_height": null,
            "min_width": null,
            "object_fit": null,
            "object_position": null,
            "order": null,
            "overflow": null,
            "overflow_x": null,
            "overflow_y": null,
            "padding": null,
            "right": null,
            "top": null,
            "visibility": null,
            "width": null
          }
        },
        "bb955b535ed04194866304772f35d866": {
          "model_module": "@jupyter-widgets/controls",
          "model_name": "ProgressStyleModel",
          "model_module_version": "1.5.0",
          "state": {
            "_model_module": "@jupyter-widgets/controls",
            "_model_module_version": "1.5.0",
            "_model_name": "ProgressStyleModel",
            "_view_count": null,
            "_view_module": "@jupyter-widgets/base",
            "_view_module_version": "1.2.0",
            "_view_name": "StyleView",
            "bar_color": null,
            "description_width": ""
          }
        },
        "e1c57b7b03624aeaa24d6d1b08512589": {
          "model_module": "@jupyter-widgets/base",
          "model_name": "LayoutModel",
          "model_module_version": "1.2.0",
          "state": {
            "_model_module": "@jupyter-widgets/base",
            "_model_module_version": "1.2.0",
            "_model_name": "LayoutModel",
            "_view_count": null,
            "_view_module": "@jupyter-widgets/base",
            "_view_module_version": "1.2.0",
            "_view_name": "LayoutView",
            "align_content": null,
            "align_items": null,
            "align_self": null,
            "border": null,
            "bottom": null,
            "display": null,
            "flex": null,
            "flex_flow": null,
            "grid_area": null,
            "grid_auto_columns": null,
            "grid_auto_flow": null,
            "grid_auto_rows": null,
            "grid_column": null,
            "grid_gap": null,
            "grid_row": null,
            "grid_template_areas": null,
            "grid_template_columns": null,
            "grid_template_rows": null,
            "height": null,
            "justify_content": null,
            "justify_items": null,
            "left": null,
            "margin": null,
            "max_height": null,
            "max_width": null,
            "min_height": null,
            "min_width": null,
            "object_fit": null,
            "object_position": null,
            "order": null,
            "overflow": null,
            "overflow_x": null,
            "overflow_y": null,
            "padding": null,
            "right": null,
            "top": null,
            "visibility": null,
            "width": null
          }
        },
        "d2c1c4da32ab45ddbe9781446280ee57": {
          "model_module": "@jupyter-widgets/controls",
          "model_name": "DescriptionStyleModel",
          "model_module_version": "1.5.0",
          "state": {
            "_model_module": "@jupyter-widgets/controls",
            "_model_module_version": "1.5.0",
            "_model_name": "DescriptionStyleModel",
            "_view_count": null,
            "_view_module": "@jupyter-widgets/base",
            "_view_module_version": "1.2.0",
            "_view_name": "StyleView",
            "description_width": ""
          }
        },
        "733d231c501f43f6a7ad8bc0a7a0fc5f": {
          "model_module": "@jupyter-widgets/controls",
          "model_name": "HBoxModel",
          "model_module_version": "1.5.0",
          "state": {
            "_dom_classes": [],
            "_model_module": "@jupyter-widgets/controls",
            "_model_module_version": "1.5.0",
            "_model_name": "HBoxModel",
            "_view_count": null,
            "_view_module": "@jupyter-widgets/controls",
            "_view_module_version": "1.5.0",
            "_view_name": "HBoxView",
            "box_style": "",
            "children": [
              "IPY_MODEL_0a2a202b97d443abb0db95ad5bc06e0f",
              "IPY_MODEL_cf72c55d85ff4547a4b303e09c1fe836",
              "IPY_MODEL_89084ab17cfa4248aed8d82485ed713e"
            ],
            "layout": "IPY_MODEL_2b34fabf9f61417d8f403e802cac0c64"
          }
        },
        "0a2a202b97d443abb0db95ad5bc06e0f": {
          "model_module": "@jupyter-widgets/controls",
          "model_name": "HTMLModel",
          "model_module_version": "1.5.0",
          "state": {
            "_dom_classes": [],
            "_model_module": "@jupyter-widgets/controls",
            "_model_module_version": "1.5.0",
            "_model_name": "HTMLModel",
            "_view_count": null,
            "_view_module": "@jupyter-widgets/controls",
            "_view_module_version": "1.5.0",
            "_view_name": "HTMLView",
            "description": "",
            "description_tooltip": null,
            "layout": "IPY_MODEL_577c5f8657f34193b0cd63ef79364dac",
            "placeholder": "​",
            "style": "IPY_MODEL_5b8a242cc062435494cec8cf58c6b639",
            "value": "Generating train split: 100%"
          }
        },
        "cf72c55d85ff4547a4b303e09c1fe836": {
          "model_module": "@jupyter-widgets/controls",
          "model_name": "FloatProgressModel",
          "model_module_version": "1.5.0",
          "state": {
            "_dom_classes": [],
            "_model_module": "@jupyter-widgets/controls",
            "_model_module_version": "1.5.0",
            "_model_name": "FloatProgressModel",
            "_view_count": null,
            "_view_module": "@jupyter-widgets/controls",
            "_view_module_version": "1.5.0",
            "_view_name": "ProgressView",
            "bar_style": "success",
            "description": "",
            "description_tooltip": null,
            "layout": "IPY_MODEL_3d6505293910479fbf32174d9e893c93",
            "max": 2477321,
            "min": 0,
            "orientation": "horizontal",
            "style": "IPY_MODEL_862dd2c5595749a7975b7a5bc4c16eb7",
            "value": 2477321
          }
        },
        "89084ab17cfa4248aed8d82485ed713e": {
          "model_module": "@jupyter-widgets/controls",
          "model_name": "HTMLModel",
          "model_module_version": "1.5.0",
          "state": {
            "_dom_classes": [],
            "_model_module": "@jupyter-widgets/controls",
            "_model_module_version": "1.5.0",
            "_model_name": "HTMLModel",
            "_view_count": null,
            "_view_module": "@jupyter-widgets/controls",
            "_view_module_version": "1.5.0",
            "_view_name": "HTMLView",
            "description": "",
            "description_tooltip": null,
            "layout": "IPY_MODEL_030e58585fc24023bdf2677ccb924927",
            "placeholder": "​",
            "style": "IPY_MODEL_10849bdef26b40878ff797635d04bfcf",
            "value": " 2477321/2477321 [00:02&lt;00:00, 1051085.83 examples/s]"
          }
        },
        "2b34fabf9f61417d8f403e802cac0c64": {
          "model_module": "@jupyter-widgets/base",
          "model_name": "LayoutModel",
          "model_module_version": "1.2.0",
          "state": {
            "_model_module": "@jupyter-widgets/base",
            "_model_module_version": "1.2.0",
            "_model_name": "LayoutModel",
            "_view_count": null,
            "_view_module": "@jupyter-widgets/base",
            "_view_module_version": "1.2.0",
            "_view_name": "LayoutView",
            "align_content": null,
            "align_items": null,
            "align_self": null,
            "border": null,
            "bottom": null,
            "display": null,
            "flex": null,
            "flex_flow": null,
            "grid_area": null,
            "grid_auto_columns": null,
            "grid_auto_flow": null,
            "grid_auto_rows": null,
            "grid_column": null,
            "grid_gap": null,
            "grid_row": null,
            "grid_template_areas": null,
            "grid_template_columns": null,
            "grid_template_rows": null,
            "height": null,
            "justify_content": null,
            "justify_items": null,
            "left": null,
            "margin": null,
            "max_height": null,
            "max_width": null,
            "min_height": null,
            "min_width": null,
            "object_fit": null,
            "object_position": null,
            "order": null,
            "overflow": null,
            "overflow_x": null,
            "overflow_y": null,
            "padding": null,
            "right": null,
            "top": null,
            "visibility": null,
            "width": null
          }
        },
        "577c5f8657f34193b0cd63ef79364dac": {
          "model_module": "@jupyter-widgets/base",
          "model_name": "LayoutModel",
          "model_module_version": "1.2.0",
          "state": {
            "_model_module": "@jupyter-widgets/base",
            "_model_module_version": "1.2.0",
            "_model_name": "LayoutModel",
            "_view_count": null,
            "_view_module": "@jupyter-widgets/base",
            "_view_module_version": "1.2.0",
            "_view_name": "LayoutView",
            "align_content": null,
            "align_items": null,
            "align_self": null,
            "border": null,
            "bottom": null,
            "display": null,
            "flex": null,
            "flex_flow": null,
            "grid_area": null,
            "grid_auto_columns": null,
            "grid_auto_flow": null,
            "grid_auto_rows": null,
            "grid_column": null,
            "grid_gap": null,
            "grid_row": null,
            "grid_template_areas": null,
            "grid_template_columns": null,
            "grid_template_rows": null,
            "height": null,
            "justify_content": null,
            "justify_items": null,
            "left": null,
            "margin": null,
            "max_height": null,
            "max_width": null,
            "min_height": null,
            "min_width": null,
            "object_fit": null,
            "object_position": null,
            "order": null,
            "overflow": null,
            "overflow_x": null,
            "overflow_y": null,
            "padding": null,
            "right": null,
            "top": null,
            "visibility": null,
            "width": null
          }
        },
        "5b8a242cc062435494cec8cf58c6b639": {
          "model_module": "@jupyter-widgets/controls",
          "model_name": "DescriptionStyleModel",
          "model_module_version": "1.5.0",
          "state": {
            "_model_module": "@jupyter-widgets/controls",
            "_model_module_version": "1.5.0",
            "_model_name": "DescriptionStyleModel",
            "_view_count": null,
            "_view_module": "@jupyter-widgets/base",
            "_view_module_version": "1.2.0",
            "_view_name": "StyleView",
            "description_width": ""
          }
        },
        "3d6505293910479fbf32174d9e893c93": {
          "model_module": "@jupyter-widgets/base",
          "model_name": "LayoutModel",
          "model_module_version": "1.2.0",
          "state": {
            "_model_module": "@jupyter-widgets/base",
            "_model_module_version": "1.2.0",
            "_model_name": "LayoutModel",
            "_view_count": null,
            "_view_module": "@jupyter-widgets/base",
            "_view_module_version": "1.2.0",
            "_view_name": "LayoutView",
            "align_content": null,
            "align_items": null,
            "align_self": null,
            "border": null,
            "bottom": null,
            "display": null,
            "flex": null,
            "flex_flow": null,
            "grid_area": null,
            "grid_auto_columns": null,
            "grid_auto_flow": null,
            "grid_auto_rows": null,
            "grid_column": null,
            "grid_gap": null,
            "grid_row": null,
            "grid_template_areas": null,
            "grid_template_columns": null,
            "grid_template_rows": null,
            "height": null,
            "justify_content": null,
            "justify_items": null,
            "left": null,
            "margin": null,
            "max_height": null,
            "max_width": null,
            "min_height": null,
            "min_width": null,
            "object_fit": null,
            "object_position": null,
            "order": null,
            "overflow": null,
            "overflow_x": null,
            "overflow_y": null,
            "padding": null,
            "right": null,
            "top": null,
            "visibility": null,
            "width": null
          }
        },
        "862dd2c5595749a7975b7a5bc4c16eb7": {
          "model_module": "@jupyter-widgets/controls",
          "model_name": "ProgressStyleModel",
          "model_module_version": "1.5.0",
          "state": {
            "_model_module": "@jupyter-widgets/controls",
            "_model_module_version": "1.5.0",
            "_model_name": "ProgressStyleModel",
            "_view_count": null,
            "_view_module": "@jupyter-widgets/base",
            "_view_module_version": "1.2.0",
            "_view_name": "StyleView",
            "bar_color": null,
            "description_width": ""
          }
        },
        "030e58585fc24023bdf2677ccb924927": {
          "model_module": "@jupyter-widgets/base",
          "model_name": "LayoutModel",
          "model_module_version": "1.2.0",
          "state": {
            "_model_module": "@jupyter-widgets/base",
            "_model_module_version": "1.2.0",
            "_model_name": "LayoutModel",
            "_view_count": null,
            "_view_module": "@jupyter-widgets/base",
            "_view_module_version": "1.2.0",
            "_view_name": "LayoutView",
            "align_content": null,
            "align_items": null,
            "align_self": null,
            "border": null,
            "bottom": null,
            "display": null,
            "flex": null,
            "flex_flow": null,
            "grid_area": null,
            "grid_auto_columns": null,
            "grid_auto_flow": null,
            "grid_auto_rows": null,
            "grid_column": null,
            "grid_gap": null,
            "grid_row": null,
            "grid_template_areas": null,
            "grid_template_columns": null,
            "grid_template_rows": null,
            "height": null,
            "justify_content": null,
            "justify_items": null,
            "left": null,
            "margin": null,
            "max_height": null,
            "max_width": null,
            "min_height": null,
            "min_width": null,
            "object_fit": null,
            "object_position": null,
            "order": null,
            "overflow": null,
            "overflow_x": null,
            "overflow_y": null,
            "padding": null,
            "right": null,
            "top": null,
            "visibility": null,
            "width": null
          }
        },
        "10849bdef26b40878ff797635d04bfcf": {
          "model_module": "@jupyter-widgets/controls",
          "model_name": "DescriptionStyleModel",
          "model_module_version": "1.5.0",
          "state": {
            "_model_module": "@jupyter-widgets/controls",
            "_model_module_version": "1.5.0",
            "_model_name": "DescriptionStyleModel",
            "_view_count": null,
            "_view_module": "@jupyter-widgets/base",
            "_view_module_version": "1.2.0",
            "_view_name": "StyleView",
            "description_width": ""
          }
        }
      }
    }
  },
  "nbformat": 4,
  "nbformat_minor": 0
}